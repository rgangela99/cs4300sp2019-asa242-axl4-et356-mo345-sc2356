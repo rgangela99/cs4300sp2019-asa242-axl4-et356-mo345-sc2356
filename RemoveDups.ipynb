{
 "cells": [
  {
   "cell_type": "code",
   "execution_count": 7,
   "metadata": {},
   "outputs": [],
   "source": [
    "import json"
   ]
  },
  {
   "cell_type": "code",
   "execution_count": 37,
   "metadata": {},
   "outputs": [],
   "source": [
    "with open('./data/medium/medium-comments-list.json') as f:\n",
    "    data = json.load(f)\n",
    "\n",
    "deduped_data = []\n",
    "seen = set()\n",
    "for entry in data:\n",
    "    link = entry['link']\n",
    "    end_index = link.rfind('?source=')\n",
    "    if end_index != -1:\n",
    "        link = link[:end_index]\n",
    "    if link not in seen:\n",
    "        seen.add(link)\n",
    "        entry['link'] = link\n",
    "        deduped_data.append(entry)"
   ]
  },
  {
   "cell_type": "code",
   "execution_count": 38,
   "metadata": {},
   "outputs": [
    {
     "name": "stdout",
     "output_type": "stream",
     "text": [
      "1619\n"
     ]
    }
   ],
   "source": [
    "print(len(data))"
   ]
  },
  {
   "cell_type": "code",
   "execution_count": 36,
   "metadata": {},
   "outputs": [],
   "source": [
    "for entry in data:\n",
    "    if 'television' in entry['tags']:\n",
    "        print(entry['tags'])\n",
    "        break"
   ]
  },
  {
   "cell_type": "code",
   "execution_count": 39,
   "metadata": {},
   "outputs": [],
   "source": [
    "with open('./data/medium/deduped-medium-comments-list.json', 'w') as f:\n",
    "    json.dump(deduped_data, f)"
   ]
  },
  {
   "cell_type": "code",
   "execution_count": 40,
   "metadata": {},
   "outputs": [
    {
     "name": "stdout",
     "output_type": "stream",
     "text": [
      "1056\n"
     ]
    }
   ],
   "source": [
    "print(len(deduped_data))"
   ]
  },
  {
   "cell_type": "code",
   "execution_count": 42,
   "metadata": {},
   "outputs": [
    {
     "name": "stdout",
     "output_type": "stream",
     "text": [
      "1056\n"
     ]
    }
   ],
   "source": [
    "deduped_data = []\n",
    "seen = set()\n",
    "for entry in data:\n",
    "    title = entry['title']\n",
    "    if title not in seen:\n",
    "        seen.add(title)\n",
    "        deduped_data.append(entry)\n",
    "        \n",
    "print(len(deduped_data))"
   ]
  },
  {
   "cell_type": "code",
   "execution_count": 43,
   "metadata": {},
   "outputs": [
    {
     "name": "stdout",
     "output_type": "stream",
     "text": [
      "331\n"
     ]
    }
   ],
   "source": [
    "num_with_comments = 0\n",
    "for entry in deduped_data:\n",
    "    if entry['comments']:\n",
    "        num_with_comments += 1\n",
    "        \n",
    "print(num_with_comments)"
   ]
  },
  {
   "cell_type": "code",
   "execution_count": 44,
   "metadata": {},
   "outputs": [
    {
     "name": "stdout",
     "output_type": "stream",
     "text": [
      "1056\n"
     ]
    }
   ],
   "source": [
    "n = 0\n",
    "for entry in deduped_data:\n",
    "    if entry['num_comments'] != 0:\n",
    "        n += 1\n",
    "        \n",
    "print(n)"
   ]
  },
  {
   "cell_type": "code",
   "execution_count": 29,
   "metadata": {},
   "outputs": [
    {
     "name": "stdout",
     "output_type": "stream",
     "text": [
      "['I have never by choice been one of those annoyingly early risers. I hated getting up to get my kids to school. It was like torture. It felt like a prison sentence. (Anyone reading this who either doesn’t have three kids to get to three different schools every morning for years needs to hold his/her tongue.) I’d count down… 10 more years of this, 9…', 'At 6am? Why so late? I wake up at 3.30am.', 'Finally someone said it!! Thank you.', 'I am a 5 am kind of person, but I need 2.5-3 hours sleep in the afternoon, and that is true even if I wake up later. So I have built my day around those rhythms, and it works great. Unfortunately people expect me to be available in the afternoon, and then I have to make up some excuses, because saying “Sorry, that’s long-nap-time\" is not what anyone expects ^_^', 'This is so accurate. Personally my most productive or peak time is around 11am and im a bit of a night owl too. This means by the time I wake up and have my coffee its already 11am which works perfectly for me. Find what works well for you and stick to it. Thanks for sharing.', 'Loved the point of view. I’m writing an article about my favorite business author, Jim Collins. A central aspect of him being my favorite is that he is not primarily a business person at all, he’s an academic, and he approaches business issues as an academic, with a research project. This is important to me as so much business writing follows the…', 'great article! I use to try to do more with less sleep- I quickly discovered that I need recovery time to function at my peak- thanks!', 'Hell yes! I have never been a 6 am person! Once I became a full-time freelancer, I don’t get out of bed until my husband is leaving for work at 9! It’s fantastic to be able to sleep in and then be more productive when I am most awake and focused.I do love lists and being organized, I just don’t do it before the crack of dawn!', 'Probably the best article I´ve ever read on productivity and creativity.I´d never heard of Uradian rhythms before this.It´s incredible how many people work against themselves without realising\\u200a—\\u200aincluding me', 'This article really let me know that I was not odd. Except during my minor years when I lived under my parents roof. I had no other choice but to wake up this early and went to school, played sports and then had to do all of my homework for the very next day. No child should have to do all of that in one day. I also went from working 90 hour weeks to…', 'This article brings up a lot of good points. I know my father is a morning person and has always tried to force everyone around him to get up early and get a lot done, but whenever I get up as early as he wants, I waste the whole day sitting around and still find I can’t go to bed early enough to make getting up early a habit.', 'Prime time is different for different tasks. Much the way you describe makers vs. managers, there are many different tasks during the day that require different types of my attention. Recognizing which tasks require which type of attention is vital.', 'I can agree with a lot of what you’ve written here. Personally I work best in the evenings, but since launching my own business, I realise that I have to be available for my clients, and that’s in the day.So, not being a morning person per se, I use that time to get ahead. Get up at 6 -7 and do all the emails and admin…', 'Thanks for this article, Aytekin!I really like that you pointed out that people have different peak hours which is something that productivity gurus seem to forget. Basically, just because something works for you doesn’t mean it works for the whole world.', 'This was so refreshing to read. I needed this reminder because I’ve been so hard on myself lately about working non-stop that i started feeling burned out and even doubting my intentions and goals of starting a business. Thanks again!! Officially following you now.', 'Re; “Engage the body and the brain” reminds me of information I came across some time ago which described the two hemispheres of the brain, ie. left & right, which operate for different purposes. I can tell when these parts kick-in or don’t. Missing or having my morning coffee may have something to do with it, I’m sure.', 'Thank you for this. I myself AM an early riser by nature. I’m one of those people many find annoying because I can hop out of bed at 5:00 AM and be ready to seize the day. It’s not unusual to hear me say, “You just woke up! How can you possibly be tired?!?” Being tired when you wake up seems like nonsense to me.', 'God, yes. I hate mornings. I’ve been mapping my productive time and I have 2–3 distinct blocks that happen around the same time each day (depending on whether or not I got good sleep, which I’ve historically neglected) and they’re NOT in the morning. This revelation changed my life and I started feeling much more content and empowered.', 'YES x 1000', 'Great creativity for me happens when I take the dog down the park for a walk, no interruptions and my mind can wander. The fresh air and time away from my laptop probably also helps a lot 😀.Great article!', 'YES! Thank you for this. I was waiting for an article like that!', 'This is exactly what I recommend for kids and their families who are struggling with homework or getting things done in the evenings. Find your sharp time after school and schedule thinking work for that time, and don’t try to always knock assignments out right after school if that doesn’t work for you.', 'I really love this article. It was very informative.', 'This is very interesting, never thought the awake time could have so well defined cycles like the sleeping time.A good webapp could improve the approach of Yulia, this could be a nice weekend project.', 'Great article!You have to find what suits you and who can help you with it.If you are an early morning riser, you’ll want to know how to optimize your peak hours. On the other hand, if your peak hours are in the late afternoon, you’ll want to learn how to capitalize on that.']\n",
      "25\n"
     ]
    }
   ],
   "source": [
    "print(deduped_data[5]['comments'])\n",
    "print(len(deduped_data[5]['comments']))"
   ]
  },
  {
   "cell_type": "code",
   "execution_count": null,
   "metadata": {},
   "outputs": [],
   "source": []
  }
 ],
 "metadata": {
  "kernelspec": {
   "display_name": "venv",
   "language": "python",
   "name": "venv"
  },
  "language_info": {
   "codemirror_mode": {
    "name": "ipython",
    "version": 3
   },
   "file_extension": ".py",
   "mimetype": "text/x-python",
   "name": "python",
   "nbconvert_exporter": "python",
   "pygments_lexer": "ipython3",
   "version": "3.5.2"
  }
 },
 "nbformat": 4,
 "nbformat_minor": 2
}
