{
 "cells": [
  {
   "cell_type": "code",
   "execution_count": 9,
   "metadata": {},
   "outputs": [],
   "source": [
    "import pandas as pd\n",
    "from pandas import DataFrame as df\n",
    "from IPython.display import display, HTML\n",
    "from matplotlib import pyplot as plt\n",
    "from sklearn.feature_extraction.text import CountVectorizer\n",
    "import numpy as np"
   ]
  },
  {
   "cell_type": "code",
   "execution_count": 2,
   "metadata": {},
   "outputs": [],
   "source": [
    "topics_data = pd.read_csv('documentaries_1000.csv')"
   ]
  },
  {
   "cell_type": "code",
   "execution_count": 57,
   "metadata": {},
   "outputs": [
    {
     "data": {
      "text/plain": [
       "(array([703., 178.,  62.,  21.,  14.,   7.,   2.,   3.,   2.,   1.,   1.,\n",
       "          0.,   0.,   0.,   0.,   0.,   0.,   0.,   0.,   1.]),\n",
       " array([  3139. ,   9149.7,  15160.4,  21171.1,  27181.8,  33192.5,\n",
       "         39203.2,  45213.9,  51224.6,  57235.3,  63246. ,  69256.7,\n",
       "         75267.4,  81278.1,  87288.8,  93299.5,  99310.2, 105320.9,\n",
       "        111331.6, 117342.3, 123353. ]),\n",
       " <a list of 20 Patch objects>)"
      ]
     },
     "metadata": {},
     "output_type": "display_data"
    },
    {
     "name": "stdout",
     "output_type": "stream",
     "text": [
      "3139\n",
      "123353\n",
      "8731.48743718593\n",
      "6285.0\n"
     ]
    },
    {
     "data": {
      "image/png": "[encoded data removed]",
      "text/plain": [
       "<Figure size 432x288 with 1 Axes>"
      ]
     },
     "metadata": {
      "needs_background": "light"
     },
     "output_type": "display_data"
    }
   ],
   "source": [
    "#Histogram of scores\n",
    "score_hist = plt.hist(topics_data['score'], bins=20)\n",
    "display(score_hist)\n",
    "\n",
    "print(np.amin(topics_data['score']))\n",
    "print(np.amax(topics_data['score']))\n",
    "print(np.mean(topics_data['score']))\n",
    "print(np.median(topics_data['score']))"
   ]
  },
  {
   "cell_type": "code",
   "execution_count": 59,
   "metadata": {},
   "outputs": [
    {
     "data": {
      "text/plain": [
       "(array([556., 273.,  85.,  39.,  24.,   6.,   4.,   0.,   3.,   1.,   1.,\n",
       "          0.,   0.,   1.,   1.,   0.,   0.,   0.,   0.,   1.]),\n",
       " array([   56.,   701.,  1346.,  1991.,  2636.,  3281.,  3926.,  4571.,\n",
       "         5216.,  5861.,  6506.,  7151.,  7796.,  8441.,  9086.,  9731.,\n",
       "        10376., 11021., 11666., 12311., 12956.]),\n",
       " <a list of 20 Patch objects>)"
      ]
     },
     "metadata": {},
     "output_type": "display_data"
    },
    {
     "name": "stdout",
     "output_type": "stream",
     "text": [
      "56\n",
      "12956\n",
      "889.940703517588\n",
      "606.0\n"
     ]
    },
    {
     "data": {
      "image/png": "[encoded data removed]",
      "text/plain": [
       "<Figure size 432x288 with 1 Axes>"
      ]
     },
     "metadata": {
      "needs_background": "light"
     },
     "output_type": "display_data"
    }
   ],
   "source": [
    "#Histogram of number of comments\n",
    "comm_hist = plt.hist(topics_data['comms_num'], bins=20)\n",
    "display(comm_hist)\n",
    "\n",
    "print(np.amin(topics_data['comms_num']))\n",
    "print(np.amax(topics_data['comms_num']))\n",
    "print(np.mean(topics_data['comms_num']))\n",
    "print(np.median(topics_data['comms_num']))"
   ]
  },
  {
   "cell_type": "code",
   "execution_count": 53,
   "metadata": {},
   "outputs": [
    {
     "name": "stdout",
     "output_type": "stream",
     "text": [
      "documentary\n",
      "2017\n",
      "2018\n",
      "2016\n",
      "world\n",
      "life\n",
      "2015\n",
      "story\n",
      "years\n",
      "people\n",
      "film\n",
      "2014\n",
      "war\n",
      "american\n",
      "history\n",
      "man\n",
      "year\n",
      "drug\n",
      "2013\n",
      "look\n",
      "trailer\n",
      "time\n",
      "america\n",
      "old\n",
      "new\n",
      "cc\n",
      "inside\n",
      "bbc\n",
      "2019\n",
      "series\n",
      "footage\n",
      "2008\n",
      "00\n",
      "2012\n",
      "short\n",
      "2011\n",
      "body\n",
      "prison\n",
      "day\n",
      "like\n",
      "children\n",
      "10\n",
      "human\n",
      "death\n",
      "making\n",
      "rise\n",
      "media\n",
      "pbs\n",
      "2010\n",
      "lives\n"
     ]
    }
   ],
   "source": [
    "# Top 50 words, not including stop words\n",
    "cv = CountVectorizer(stop_words='english')\n",
    "title_matrix = cv.fit_transform(topics_data['title'])\n",
    "title_words = cv.get_feature_names()\n",
    "\n",
    "top_indices = np.argsort(np.sum(title_matrix.toarray(), axis=0))\n",
    "for i in range(50):\n",
    "    print(title_words[top_indices[-1 * (i+1)]])"
   ]
  },
  {
   "cell_type": "code",
   "execution_count": 68,
   "metadata": {},
   "outputs": [
    {
     "name": "stdout",
     "output_type": "stream",
     "text": [
      "['documentary', '2017', '2018', '2016', 'world', 'life', '2015', 'story', 'years', '2014', 'people', 'film', 'war', 'american', 'year', 'man', 'history', 'trailer', 'look', '2013', 'time', 'new', 'cc', 'america', 'old', 'inside', 'bbc', '2008', '2019', '2012', 'series', 'footage', 'drug', 'short', '2011', '00', 'like', 'children', 'death', 'rise', 'making', 'pbs', '2010', 'lives', 'media', 'day', 'earth', '01', '10', 'real']\n"
     ]
    }
   ],
   "source": [
    "df_matrix = np.where(title_matrix.toarray() > 0, 1 ,0)\n",
    "top_indices_df = np.argsort(np.sum(df_matrix, axis=0)).tolist()\n",
    "\n",
    "top_words_df = [title_words[i] for i in top_indices_df[-50:]]\n",
    "top_words_df.reverse()\n",
    "\n",
    "print(top_words_df)"
   ]
  },
  {
   "cell_type": "code",
   "execution_count": 63,
   "metadata": {},
   "outputs": [
    {
     "data": {
      "text/plain": [
       "(array([ 3.,  1., 15., 16., 36., 40., 48., 41., 42., 51., 46., 54., 57.,\n",
       "        46., 45., 45., 47., 47., 39., 48., 31., 39., 31., 33., 15., 22.,\n",
       "        17., 15.,  6.,  9.,  4.,  2.,  1.,  3.]),\n",
       " array([ 2.        ,  2.97058824,  3.94117647,  4.91176471,  5.88235294,\n",
       "         6.85294118,  7.82352941,  8.79411765,  9.76470588, 10.73529412,\n",
       "        11.70588235, 12.67647059, 13.64705882, 14.61764706, 15.58823529,\n",
       "        16.55882353, 17.52941176, 18.5       , 19.47058824, 20.44117647,\n",
       "        21.41176471, 22.38235294, 23.35294118, 24.32352941, 25.29411765,\n",
       "        26.26470588, 27.23529412, 28.20588235, 29.17647059, 30.14705882,\n",
       "        31.11764706, 32.08823529, 33.05882353, 34.02941176, 35.        ]),\n",
       " <a list of 34 Patch objects>)"
      ]
     },
     "metadata": {},
     "output_type": "display_data"
    },
    {
     "name": "stdout",
     "output_type": "stream",
     "text": [
      "2\n",
      "35\n",
      "16.048241206030152\n",
      "16.0\n"
     ]
    },
    {
     "data": {
      "image/png": "[encoded data removed]",
      "text/plain": [
       "<Figure size 432x288 with 1 Axes>"
      ]
     },
     "metadata": {
      "needs_background": "light"
     },
     "output_type": "display_data"
    }
   ],
   "source": [
    "num_words = np.sum(title_matrix.toarray(), axis=1)\n",
    "words_hist = plt.hist(num_words, bins=34)\n",
    "display(words_hist)\n",
    "\n",
    "print(np.amin(num_words))\n",
    "print(np.amax(num_words))\n",
    "print(np.mean(num_words))\n",
    "print(np.median(num_words))"
   ]
  },
  {
   "cell_type": "code",
   "execution_count": 66,
   "metadata": {},
   "outputs": [
    {
     "name": "stdout",
     "output_type": "stream",
     "text": [
      "600\n"
     ]
    }
   ],
   "source": [
    "j = 0\n",
    "\n",
    "for i in topics_data['url']:\n",
    "    if 'youtube' in i:\n",
    "        j += 1\n",
    "\n",
    "print(j)"
   ]
  },
  {
   "cell_type": "code",
   "execution_count": 67,
   "metadata": {},
   "outputs": [
    {
     "name": "stdout",
     "output_type": "stream",
     "text": [
      "995\n"
     ]
    }
   ],
   "source": [
    "print(len(topics_data))"
   ]
  },
  {
   "cell_type": "code",
   "execution_count": null,
   "metadata": {},
   "outputs": [],
   "source": []
  }
 ],
 "metadata": {
  "kernelspec": {
   "display_name": "Python 3",
   "language": "python",
   "name": "python3"
  },
  "language_info": {
   "codemirror_mode": {
    "name": "ipython",
    "version": 3
   },
   "file_extension": ".py",
   "mimetype": "text/x-python",
   "name": "python",
   "nbconvert_exporter": "python",
   "pygments_lexer": "ipython3",
   "version": "3.7.2"
  }
 },
 "nbformat": 4,
 "nbformat_minor": 2
}
