{
 "cells": [
  {
   "cell_type": "markdown",
   "metadata": {},
   "source": [
    "Creating Search using tfidf"
   ]
  },
  {
   "cell_type": "code",
   "execution_count": 1,
   "metadata": {},
   "outputs": [],
   "source": [
    "import json\n",
    "import re\n",
    "from nltk.tokenize import TreebankWordTokenizer\n",
    "from sklearn.feature_extraction.text import TfidfVectorizer\n",
    "from sklearn.metrics.pairwise import cosine_similarity\n",
    "import numpy as np"
   ]
  },
  {
   "cell_type": "code",
   "execution_count": 2,
   "metadata": {},
   "outputs": [],
   "source": [
    "def getLink(query):    \n",
    "    if(query == \"\"):\n",
    "        return 0\n",
    "    else:\n",
    "        return tokenize(query)"
   ]
  },
  {
   "cell_type": "code",
   "execution_count": 3,
   "metadata": {},
   "outputs": [],
   "source": [
    "tokenizer = TreebankWordTokenizer()"
   ]
  },
  {
   "cell_type": "markdown",
   "metadata": {},
   "source": [
    "Sample Data"
   ]
  },
  {
   "cell_type": "code",
   "execution_count": 14,
   "metadata": {},
   "outputs": [],
   "source": [
    "query = \"Let's face it: Baby Shark is an undeniable force. James invites his guests, Sophie Turner, playing the role of Mommy Shark, and Josh Groban, taking on the role of Daddy Shark, for the definitive performance of this global phenomenon. More Late Late Show: \\\n",
    "Subscribe: http://bit.ly/CordenYouTube \\\n",
    "Watch Full Episodes: http://bit.ly/1ENyPw4 \\\n",
    "Facebook: http://on.fb.me/19PIHLC \\\n",
    "Twitter: http://bit.ly/1Iv0q6k \\\n",
    "Instagram: http://bit.ly/latelategram \\\n",
    "Watch The Late Late Show with James Corden weeknights at 12:35 AM ET/11:35 PM CT. Only on CBS. \\\n",
    "Get new episodes of shows you love across devices the next day, stream live TV, and watch full seasons of CBS fan favorites anytime, anywhere with CBS All Access. Try it free! http://bit.ly/1OQA29B \\\n",
    "---\\\n",
    "Each week night, THE LATE LATE SHOW with JAMES CORDEN throws the ultimate late night after party with a mix of celebrity guests, edgy musical acts, games and sketches. Corden differentiates his show by offering viewers a peek behind-the-scenes into the green room, bringing all of his guests out at once and lending his musical and acting talents to various sketches. Additionally, bandleader Reggie Watts and the house band provide original, improvised music throughout the show. Since Corden took the reigns as host in March 2015, he has quickly become known for generating buzzworthy viral videos, such as Carpool Karaoke.\"\n"
   ]
  },
  {
   "cell_type": "code",
   "execution_count": 15,
   "metadata": {},
   "outputs": [],
   "source": [
    "#data= tokenizer.tokenize(baby_shark.lower())\n",
    "#https?\\:\\/\\/[A-Z, a-z, \\., \\/, 0-9]+\n",
    "def tokenize(text):\n",
    "    text= text.lower()\n",
    "    return tokenizer.tokenize(text)"
   ]
  },
  {
   "cell_type": "code",
   "execution_count": 16,
   "metadata": {},
   "outputs": [],
   "source": [
    "title_to_text={}\n",
    "title_to_index={}\n",
    "\n",
    "\n",
    "with open('./data/medium/medium-data-small.json') as f:\n",
    "    data = json.load(f)\n",
    "i=0\n",
    "for medium in data:\n",
    "    title_to_index[medium[\"title\"]]=i\n",
    "    title_to_text[medium[\"title\"]] = tokenize(medium[\"text\"])\n",
    "    i+=1\n",
    " "
   ]
  },
  {
   "cell_type": "code",
   "execution_count": 17,
   "metadata": {},
   "outputs": [
    {
     "name": "stderr",
     "output_type": "stream",
     "text": [
      "/Users/Mobryan/Desktop/CS4300/assignment5/venv/lib/python3.5/site-packages/sklearn/feature_extraction/text.py:1039: FutureWarning: Conversion of the second argument of issubdtype from `float` to `np.floating` is deprecated. In future, it will be treated as `np.float64 == np.dtype(float).type`.\n",
      "  if hasattr(X, 'dtype') and np.issubdtype(X.dtype, np.float):\n"
     ]
    }
   ],
   "source": [
    "n_feats = 5000\n",
    "doc_by_vocab = np.empty([len(data), n_feats])\n",
    "def build_vectorizer(max_features, stop_words, max_df=0.8, min_df=10, norm='l2'):\n",
    "    \"\"\"Returns a TfidfVectorizer object with the above preprocessing properties.\n",
    "    \n",
    "    Note: This function may log a deprecation warning. This is normal, and you\n",
    "    can simply ignore it.\n",
    "    \n",
    "    Params: {max_features: Integer,\n",
    "             max_df: Float,\n",
    "             min_df: Float,\n",
    "             norm: String,\n",
    "             stop_words: String}\n",
    "    Returns: TfidfVectorizer\n",
    "    \"\"\"\n",
    "    return TfidfVectorizer(stop_words=stop_words, max_df=max_df, min_df=min_df,max_features=max_features, norm=norm)\n",
    "    \n",
    "tfidf_vec = build_vectorizer(n_feats, \"english\")\n",
    "doc_by_vocab = tfidf_vec.fit_transform([d['text'] for d in data]).toarray()\n",
    "vec1 = tfidf_vec.transform([query]).toarray()\n",
    "index_to_vocab = {i:v for i, v in enumerate(tfidf_vec.get_feature_names())}"
   ]
  },
  {
   "cell_type": "code",
   "execution_count": 18,
   "metadata": {},
   "outputs": [],
   "source": [
    "sims = []\n",
    "def cosine_sim(vec1,doc_by_vocab):\n",
    "    i=0\n",
    "    for doc in doc_by_vocab:\n",
    "        if(np.linalg.norm(vec1)*np.linalg.norm(doc))==0:\n",
    "            sims.append(0)\n",
    "        else:\n",
    "            sims.append(np.dot(vec1,doc)/(np.linalg.norm(vec1)*np.linalg.norm(doc)))\n",
    "            \n",
    "cosine_sim(vec1,doc_by_vocab)"
   ]
  },
  {
   "cell_type": "code",
   "execution_count": 19,
   "metadata": {},
   "outputs": [
    {
     "name": "stdout",
     "output_type": "stream",
     "text": [
      "['Lateness isn’t a sign of disrespect – The Startup – Medium', 'Direct Message – Redoubtable – Medium', 'Direct Message – Redoubtable – Medium', 'Eulogy – Jen Russ – Medium', 'How to be a Good Writer with a Good Life – 60 Months to Ironman – Medium']\n"
     ]
    }
   ],
   "source": [
    "return_arr= []\n",
    "for i in range(0,5):\n",
    "    return_arr.append(data[np.argmax(sims)][\"title\"])\n",
    "    sims[np.argmax(sims)]=0\n",
    "print(return_arr)"
   ]
  }
 ],
 "metadata": {
  "kernelspec": {
   "display_name": "venv",
   "language": "python",
   "name": "venv"
  },
  "language_info": {
   "codemirror_mode": {
    "name": "ipython",
    "version": 3
   },
   "file_extension": ".py",
   "mimetype": "text/x-python",
   "name": "python",
   "nbconvert_exporter": "python",
   "pygments_lexer": "ipython3",
   "version": "3.5.2"
  }
 },
 "nbformat": 4,
 "nbformat_minor": 2
}
