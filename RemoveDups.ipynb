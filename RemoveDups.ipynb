{
 "cells": [
  {
   "cell_type": "code",
   "execution_count": 7,
   "metadata": {},
   "outputs": [],
   "source": [
    "import json"
   ]
  },
  {
   "cell_type": "code",
   "execution_count": 90,
   "metadata": {},
   "outputs": [],
   "source": [
    "with open('./data/medium/medium-comments-list.json') as f:\n",
    "    data = json.load(f)\n",
    "\n",
    "deduped_data = []\n",
    "seen = set()\n",
    "for entry in data:\n",
    "    link = entry['link']\n",
    "    end_index = link.rfind('?source=')\n",
    "    if end_index != -1:\n",
    "        link = link[:end_index]\n",
    "    if link not in seen:\n",
    "        seen.add(link)\n",
    "        entry['link'] = link\n",
    "        deduped_data.append(entry)"
   ]
  },
  {
   "cell_type": "code",
   "execution_count": 91,
   "metadata": {},
   "outputs": [
    {
     "name": "stdout",
     "output_type": "stream",
     "text": [
      "2413\n"
     ]
    }
   ],
   "source": [
    "print(len(data))"
   ]
  },
  {
   "cell_type": "code",
   "execution_count": 92,
   "metadata": {},
   "outputs": [
    {
     "name": "stdout",
     "output_type": "stream",
     "text": [
      "['culture', 'game of thrones', 'television', 'asian american', 'race']\n"
     ]
    }
   ],
   "source": [
    "for entry in data:\n",
    "    if 'television' in entry['tags']:\n",
    "        print(entry['tags'])\n",
    "        break"
   ]
  },
  {
   "cell_type": "code",
   "execution_count": 93,
   "metadata": {},
   "outputs": [],
   "source": [
    "with open('./data/medium/deduped-medium-comments-list.json', 'w') as f:\n",
    "    json.dump(deduped_data, f)"
   ]
  },
  {
   "cell_type": "code",
   "execution_count": 94,
   "metadata": {},
   "outputs": [
    {
     "name": "stdout",
     "output_type": "stream",
     "text": [
      "1536\n"
     ]
    }
   ],
   "source": [
    "print(len(deduped_data))"
   ]
  },
  {
   "cell_type": "code",
   "execution_count": 95,
   "metadata": {},
   "outputs": [
    {
     "name": "stdout",
     "output_type": "stream",
     "text": [
      "1536\n"
     ]
    }
   ],
   "source": [
    "deduped_data = []\n",
    "seen = set()\n",
    "for entry in data:\n",
    "    title = entry['title']\n",
    "    if title not in seen:\n",
    "        seen.add(title)\n",
    "        deduped_data.append(entry)\n",
    "        \n",
    "print(len(deduped_data))"
   ]
  },
  {
   "cell_type": "code",
   "execution_count": 96,
   "metadata": {},
   "outputs": [
    {
     "name": "stdout",
     "output_type": "stream",
     "text": [
      "492\n"
     ]
    }
   ],
   "source": [
    "num_with_comments = 0\n",
    "for entry in deduped_data:\n",
    "    if entry['comments']:\n",
    "        num_with_comments += 1\n",
    "        \n",
    "print(num_with_comments)"
   ]
  },
  {
   "cell_type": "code",
   "execution_count": 97,
   "metadata": {},
   "outputs": [
    {
     "name": "stdout",
     "output_type": "stream",
     "text": [
      "1536\n"
     ]
    }
   ],
   "source": [
    "n = 0\n",
    "for entry in deduped_data:\n",
    "    if entry['num_comments'] != 0:\n",
    "        n += 1\n",
    "        \n",
    "print(n)"
   ]
  },
  {
   "cell_type": "code",
   "execution_count": 64,
   "metadata": {},
   "outputs": [],
   "source": [
    "# print(deduped_data[5]['comments'])\n",
    "# print(len(deduped_data[5]['comments']))"
   ]
  },
  {
   "cell_type": "code",
   "execution_count": 65,
   "metadata": {},
   "outputs": [
    {
     "name": "stdout",
     "output_type": "stream",
     "text": [
      "dict_keys(['title', 'num_comments', 'tags', 'text', 'reading_time', 'comments', 'link', 'author', 'claps'])\n"
     ]
    }
   ],
   "source": [
    "print(deduped_data[0].keys())"
   ]
  },
  {
   "cell_type": "code",
   "execution_count": 47,
   "metadata": {},
   "outputs": [
    {
     "name": "stdout",
     "output_type": "stream",
     "text": [
      "<class 'int'>\n"
     ]
    }
   ],
   "source": [
    "print(type(deduped_data[0]['reading_time']))"
   ]
  },
  {
   "cell_type": "code",
   "execution_count": 66,
   "metadata": {},
   "outputs": [],
   "source": [
    "for d in deduped_data:\n",
    "    if type(d['reading_time']) != int:\n",
    "        print(\"what???\")"
   ]
  },
  {
   "cell_type": "code",
   "execution_count": 98,
   "metadata": {},
   "outputs": [
    {
     "name": "stdout",
     "output_type": "stream",
     "text": [
      "10.021780303030303\n",
      "91\n",
      "1\n"
     ]
    }
   ],
   "source": [
    "rt_sum = 0\n",
    "max_rt = 0\n",
    "min_rt = deduped_data[0]['reading_time']\n",
    "for d in deduped_data:\n",
    "    rt_sum += d['reading_time']\n",
    "    max_rt = max(max_rt, d['reading_time'])\n",
    "    if d['reading_time'] == 0:\n",
    "        continue\n",
    "    min_rt = min(min_rt, d['reading_time'])\n",
    "print(rt_sum / 1056)\n",
    "print(max_rt)\n",
    "print(min_rt)"
   ]
  },
  {
   "cell_type": "code",
   "execution_count": 99,
   "metadata": {},
   "outputs": [
    {
     "name": "stdout",
     "output_type": "stream",
     "text": [
      "[495, 782, 221, 38]\n"
     ]
    }
   ],
   "source": [
    "buckets = {\"0-4\": 0, \"5-9\": 0, \"10-19\": 0, \"20+\": 0}\n",
    "bucket_counts = [0] * 4\n",
    "for d in deduped_data:\n",
    "    time = d['reading_time']\n",
    "    if 0 <= time <= 4:\n",
    "        bucket_counts[0] += 1\n",
    "    elif 5 <= time <= 9:\n",
    "        bucket_counts[1] += 1\n",
    "    elif 10 <= time <= 19:\n",
    "        bucket_counts[2] += 1\n",
    "    elif time >= 20:\n",
    "        bucket_counts[3] += 1\n",
    "        \n",
    "print(bucket_counts)"
   ]
  },
  {
   "cell_type": "code",
   "execution_count": null,
   "metadata": {},
   "outputs": [],
   "source": []
  }
 ],
 "metadata": {
  "kernelspec": {
   "display_name": "venv",
   "language": "python",
   "name": "venv"
  },
  "language_info": {
   "codemirror_mode": {
    "name": "ipython",
    "version": 3
   },
   "file_extension": ".py",
   "mimetype": "text/x-python",
   "name": "python",
   "nbconvert_exporter": "python",
   "pygments_lexer": "ipython3",
   "version": "3.5.2"
  }
 },
 "nbformat": 4,
 "nbformat_minor": 2
}
