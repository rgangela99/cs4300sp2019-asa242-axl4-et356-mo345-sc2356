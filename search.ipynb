{
 "cells": [
  {
   "cell_type": "markdown",
   "metadata": {
    "deletable": false,
    "editable": false,
    "nbgrader": {
     "checksum": "ffcdfeedeef0d090ba752983edc1c6b5",
     "grade": false,
     "grade_id": "cell-e7c4ba72adf31577",
     "locked": true,
     "schema_version": 1,
     "solution": false
    }
   },
   "source": [
    "# Assignment 1: Keeping Up With Social Information (Part 1)\n",
    "## © Cristian Danescu-Niculescu-Mizil 2019\n",
    "## CS/INFO 4300 Language and Information\n",
    "## Due by midnight on Wednesday January 30th\n",
    "\n",
    "This assignment is **individual**.\n",
    "\n",
    "In this assignment we are practicing with post-processing on a conversational dataset taken from the reality TV show \"Keeping Up With The Kardashians\" and gathering some basic statistics about it. \n",
    "\n",
    "In the next assignment (Assignment 2) we will extend these tools to analyze conversational behavior.\n",
    "\n",
    "**Learning Objectives**\n",
    "\n",
    "This project aims to help you get comfortable working with the following tools / technologies / concepts:\n",
    "\n",
    "* word tokenization\n",
    "* histogram plotting using `matplotlib`\n",
    "* character analysis via conversational language\n",
    "* familiarize yourself with basic numpy usage\n",
    "\n",
    "**Academic Integrity and Collaboration**\n",
    "\n",
    "Note that these projects should be completed individually. As a result, all University-standard academic integrity guidelines must be followed.\n",
    "\n",
    "**Guidelines**\n",
    "\n",
    "All cells that contain the blocks that read `# YOUR CODE HERE` are editable and are to be completed to ensure you pass the test-cases. Make sure to write your code where indicated.\n",
    "\n",
    "All cells that read `YOUR ANSWER HERE` are free-response cells that are editable and are to be completed.\n",
    "\n",
    "You may use any number of notebook cells to explore the data and test out your functions, although you will only be graded on the solution itself.\n",
    "\n",
    "\n",
    "You are unable to modify the read-only cells.\n",
    "\n",
    "You should also use Markdown cells to explain your code and discuss your results when necessary.\n",
    "Instructions can be found [here](http://jupyter-notebook.readthedocs.io/en/latest/examples/Notebook/Working%20With%20Markdown%20Cells.html).\n",
    "\n",
    "All floating point values should be printed with **2 decimal places** precision. You can do so using the built-in round function.\n",
    "\n",
    "**Grading**\n",
    "\n",
    "For code-completion questions you will be graded on passing the public test cases we have included, as well as any hidden test cases that we have supplemented within a given amount of time to ensure that your logic is correct.\n",
    "\n",
    "Your solution to A1 should finish running in **less than 5 minutes**.\n",
    "For your information, it takes less than 1 minute to run our solution for the entire A1.\n",
    "Also make sure to remove any **redundant print statements** to speed things up and prevent generating unnecessary outputs.\n",
    "\n",
    "For free-response questions you will be manually graded on the quality of your answer.\n",
    "\n",
    "**Submission**\n",
    "\n",
    "You are expected to submit this .ipynb as your submission for Assignment 1. \n",
    "\n",
    "In addition please submit an html copy of the notebook (You can create this by clicking File > Download as > HTML (.html))."
   ]
  },
  {
   "cell_type": "code",
   "execution_count": 3,
   "metadata": {
    "deletable": false,
    "editable": false,
    "nbgrader": {
     "checksum": "98ee9fc77461651736926701482b1c83",
     "grade": false,
     "grade_id": "cell-97b1c5e4f7df612c",
     "locked": true,
     "schema_version": 1,
     "solution": false
    }
   },
   "outputs": [],
   "source": [
    "import re\n",
    "import json\n",
    "from glob import glob\n",
    "import os\n",
    "from io import StringIO\n",
    "from itertools import groupby\n",
    "import pickle\n",
    "\n",
    "import numpy as np\n",
    "import bs4\n",
    "%matplotlib inline\n",
    "import matplotlib.pyplot as plt"
   ]
  },
  {
   "cell_type": "code",
   "execution_count": 4,
   "metadata": {
    "deletable": false,
    "editable": false,
    "nbgrader": {
     "checksum": "f43944ca7e2ba29b18c82a019e743fea",
     "grade": false,
     "grade_id": "cell-7114417ecfb57e62",
     "locked": true,
     "schema_version": 1,
     "solution": false
    }
   },
   "outputs": [],
   "source": [
    "import sys\n",
    "# Ensure that your kernel is using Python3\n",
    "assert sys.version_info.major == 3"
   ]
  },
  {
   "cell_type": "markdown",
   "metadata": {
    "deletable": false,
    "editable": false,
    "nbgrader": {
     "checksum": "035ea67b59a29b27e265ca7f315e693e",
     "grade": false,
     "grade_id": "cell-1ced8dfe7b8cc493",
     "locked": true,
     "schema_version": 1,
     "solution": false
    }
   },
   "source": [
    "## Preliminary Data Cleansing\n",
    "**Note: The following content is for you to review to understand how we cleaned and prepared the data for the analysis below.**\n",
    "\n",
    "We will be continuing where we left off from Assignment 0. \n",
    "\n",
    "### Removing duplicates\n",
    "If you are to examine the original transcripts you will see that many of them are near-duplicates, but most are not *perfect* duplicates. This is problematic, because we cannot simply remove identical transcripts.  Furthermore, we cannot just throw away documents that have large overlap, because we would be throwing away the valuable data that is *not* overlapping.\n",
    "\n",
    "We therefore have to treat the transcripts as sequences, rather than as entire documents, and just remove subsequences that overlap.\n",
    "\n",
    "We therefore used a standard python `difflib` package to write the `find_overlaps` function:\n",
    "\n",
    "```python\n",
    "import difflib\n",
    "def find_overlaps(transcript_a, transcript_b, threshold=5):\n",
    "    \"\"\"Find and return the indices of overlapping subsequences between the two transcripts.\n",
    "    Only return overlapping sequences that consist of at least `threshold` entries.\"\"\"\n",
    "    \n",
    "    # We consider that two transcripts overlap when the messages\n",
    "    # and the speakers are the same, but not the timestamp.\n",
    "    \n",
    "    # Massage the transcripts to disregard timestamp information.\n",
    "    # note that a tuple is hashable, so is okay to use for difflib's SequenceMatcher class.\n",
    "    msgs_a = [(m['speaker'], m['text']) if m is not None else None\n",
    "              for m in transcript_a]\n",
    "    msgs_b = [(m['speaker'], m['text']) if m is not None else None\n",
    "              for m in transcript_b]\n",
    "    matcher = difflib.SequenceMatcher(None, msgs_a, msgs_b)\n",
    "    return list(filter(lambda tup: tup[2] >= threshold, matcher.get_matching_blocks()))\n",
    "```\n",
    "\n",
    "We now use the function above to remove duplicate subsequences. At each step, assume we have a list of \"good\" transcripts that have already been processed. When considering a new transcript, we first remove all subsequences that overlap with any of the already processed ones. Then, we split up the chunks that are not removed, and consider each of them a new transcript.\n",
    "\n",
    "```python\n",
    "deduped_transcripts = []\n",
    "all_keys = sorted(transcripts.keys())\n",
    "\n",
    "for key in all_keys:\n",
    "    transcript = transcripts[key]\n",
    "    for _, good_transcript in deduped_transcripts:\n",
    "        overlaps = find_overlaps(transcript, good_transcript)\n",
    "        for idx_a, _, size in overlaps:\n",
    "            transcript[idx_a:idx_a + size] = [None] * size\n",
    "    \n",
    "    for is_not_none, group in groupby(transcript, lambda x: x is not None):\n",
    "        if is_not_none:\n",
    "            subtranscript = list(group)\n",
    "            deduped_transcripts.append((key, subtranscript))\n",
    "```\n",
    "\n",
    "The `deduped_transcripts` are what you are now analyzing for the rest of the assignment. "
   ]
  },
  {
   "cell_type": "code",
   "execution_count": 5,
   "metadata": {
    "deletable": false,
    "editable": false,
    "nbgrader": {
     "checksum": "31b30dc1f1a7ca25f188c55e99150466",
     "grade": false,
     "grade_id": "cell-e31168ecff8580a3",
     "locked": true,
     "schema_version": 1,
     "solution": false
    }
   },
   "outputs": [],
   "source": [
    "## We are loading the pickle file that contains all the deduped transcripts from Assignment 0\n",
    "with open('deduped_transcripts.pickle','rb') as f:\n",
    "    deduped_transcripts = pickle.load(f)\n",
    "## We are also loading a pickle file of the titles file that we determined in the beginning of Assignment 0\n",
    "with open('titles.pickle','rb') as f:\n",
    "    titles = pickle.load(f)"
   ]
  },
  {
   "cell_type": "markdown",
   "metadata": {
    "deletable": false,
    "editable": false,
    "nbgrader": {
     "checksum": "1ac340bfe184ae0ee7ffad51b95850a6",
     "grade": false,
     "grade_id": "cell-6fcb040d322bffc2",
     "locked": true,
     "schema_version": 1,
     "solution": false
    }
   },
   "source": [
    "# Language analysis\n",
    "\n",
    "## Identifying the words\n",
    "It's time to get down to the bread-and-butter of language analysis: the words used.  For simplification, **we consider a word to be a sequence of alphabetical characters. Treat all other characters as delimiters and do not return them.**\n",
    "\n",
    "\n",
    "## Question 1 (Code Completion): Tokenization \n",
    "\n",
    "In the cell below: *Write a function to 'tokenize' a string into the constituent words*. \n",
    "\n",
    "You **must** use regex to satisfy the function specification. We recommend you leverage `re.findall`. \n",
    "\n",
    "Hint: Check out this online regex calculator: [here](https://regex101.com/)"
   ]
  },
  {
   "cell_type": "code",
   "execution_count": 6,
   "metadata": {
    "deletable": false,
    "nbgrader": {
     "checksum": "aadb34af6a5b37cab0d19c6180de36f3",
     "grade": false,
     "grade_id": "tokenize",
     "locked": false,
     "schema_version": 1,
     "solution": true
    }
   },
   "outputs": [],
   "source": [
    "def tokenize(text):\n",
    "    \"\"\"Returns a list of words that make up the text.\n",
    "    \n",
    "    Note: for simplicity, lowercase everything.\n",
    "    Requirement: Use Regex to satisfy this function\n",
    "    \n",
    "    Params: {text: String}\n",
    "    Returns: List\n",
    "    \"\"\"\n",
    "    # YOUR CODE HERE\n",
    "    text= text.lower()\n",
    "    return re.findall(r'[a-z]+', text)"
   ]
  },
  {
   "cell_type": "code",
   "execution_count": 7,
   "metadata": {
    "deletable": false,
    "editable": false,
    "nbgrader": {
     "checksum": "0afdd80640d8b7baf38bcf628e616c90",
     "grade": true,
     "grade_id": "tokenize_test",
     "locked": true,
     "points": 5,
     "schema_version": 1,
     "solution": false
    }
   },
   "outputs": [],
   "source": [
    "# This is an autograder test. Here we can test the function you just wrote above.\n",
    "\"\"\"Check that tokenize returns the correct output\"\"\"\n",
    "assert tokenize(\"It's time to get down to the bread-and-butter\") == \\\n",
    "    ['it', 's', 'time', 'to', 'get', 'down', 'to', 'the', 'bread', 'and', 'butter']\n",
    "assert tokenize(\"Life, Liberty, & the Pursuit of Happiness\") == \\\n",
    "    ['life', 'liberty', 'the', 'pursuit', 'of', 'happiness']"
   ]
  },
  {
   "cell_type": "markdown",
   "metadata": {
    "deletable": false,
    "editable": false,
    "nbgrader": {
     "checksum": "77916091c2a8e9153253797fce5f74cd",
     "grade": false,
     "grade_id": "cell-d753d9a79894c197",
     "locked": true,
     "schema_version": 1,
     "solution": false
    }
   },
   "source": [
    "## Question 2 (Code Completion): Tokenization of Entire Transcript\n",
    "\n",
    "In the cell below complete the function: *Leveraging the tokenize method to tokenize an entire transcript*. "
   ]
  },
  {
   "cell_type": "code",
   "execution_count": 8,
   "metadata": {
    "deletable": false,
    "nbgrader": {
     "checksum": "dd5360fa5a5a1bed53042ba968768748",
     "grade": false,
     "grade_id": "tokenize_transcript",
     "locked": false,
     "schema_version": 1,
     "solution": true
    }
   },
   "outputs": [],
   "source": [
    "def tokenize_transcript(tokenize_method,input_transcript):\n",
    "    \"\"\"Returns a list of words contained in an entire transcript.\n",
    "    Params: {tokenize_method: Function (a -> b),\n",
    "             input_transcript: Tuple}\n",
    "    Returns: List\n",
    "    \"\"\"\n",
    "    # YOUR CODE HERE\n",
    "    tokenized =[]\n",
    "    for i in input_transcript[1]:\n",
    "        tokenized= tokenized+tokenize_method(i[\"text\"])\n",
    "    return tokenized"
   ]
  },
  {
   "cell_type": "code",
   "execution_count": 9,
   "metadata": {
    "deletable": false,
    "editable": false,
    "nbgrader": {
     "checksum": "92be9453913c58275449924259617f4c",
     "grade": true,
     "grade_id": "tokenize_transcript_test",
     "locked": true,
     "points": 5,
     "schema_version": 1,
     "solution": false
    }
   },
   "outputs": [],
   "source": [
    "# This is an autograder test. Here we can test the function you just wrote above.\n",
    "\"\"\"Check that tokenize returns the correct output\"\"\"\n",
    "assert len(tokenize_transcript(tokenize,deduped_transcripts[0])) > 6000 and \\\n",
    "    len(tokenize_transcript(tokenize,deduped_transcripts[0])) < 7000"
   ]
  },
  {
   "cell_type": "markdown",
   "metadata": {
    "deletable": false,
    "editable": false,
    "nbgrader": {
     "checksum": "ae069ddad9be31a4dd862d046cd4063f",
     "grade": false,
     "grade_id": "cell-659f2ecbe807eaef",
     "locked": true,
     "schema_version": 1,
     "solution": false
    }
   },
   "source": [
    "## Question 3 (Code Completion) Number of Tokens\n",
    "In the cell below write a function to *count how many tokens are used in the deduplicated transcripts in total*"
   ]
  },
  {
   "cell_type": "code",
   "execution_count": 10,
   "metadata": {
    "deletable": false,
    "nbgrader": {
     "checksum": "6a2c14c70d3852eca3c7d1372f8baa6c",
     "grade": false,
     "grade_id": "num_dedup_tokens",
     "locked": false,
     "schema_version": 1,
     "solution": true
    }
   },
   "outputs": [],
   "source": [
    "def num_dedup_tokens(tokenize_method,tokenize_transcript_method,input_transcripts):\n",
    "    \"\"\"Returns number of tokens used in an entire transcript\n",
    "    Params: {tokenize_method: Function (a -> b),\n",
    "             // Note: Below type means a function that takes two arguments, the first of which is a function.\n",
    "             tokenize_transcript_method: Function ((Function(a -> b), c) -> d),\n",
    "             input_transcripts: Tuple List}\n",
    "    Returns: Integer\n",
    "    \"\"\"\n",
    "    # YOUR CODE HERE\n",
    "    count=0\n",
    "    for i in input_transcripts:\n",
    "        count+=len(tokenize_transcript_method(tokenize_method,i))\n",
    "    return count"
   ]
  },
  {
   "cell_type": "code",
   "execution_count": 11,
   "metadata": {
    "deletable": false,
    "editable": false,
    "nbgrader": {
     "checksum": "1f0a643cce038f516e70acd0971486d1",
     "grade": true,
     "grade_id": "num_dedup_tokens_test",
     "locked": true,
     "points": 10,
     "schema_version": 1,
     "solution": false
    }
   },
   "outputs": [],
   "source": [
    "# This is an autograder test. Here we can test the function you just wrote above.\n",
    "\"\"\"Check that num_dedup_tokens returns the correct output\"\"\"\n",
    "assert num_dedup_tokens(tokenize,tokenize_transcript,deduped_transcripts) > 200000 and \\\n",
    "    num_dedup_tokens(tokenize,tokenize_transcript,deduped_transcripts) < 300000"
   ]
  },
  {
   "cell_type": "markdown",
   "metadata": {
    "deletable": false,
    "editable": false,
    "nbgrader": {
     "checksum": "21444bcf0ce4e6b02466592e96f9b226",
     "grade": false,
     "grade_id": "cell-ed6fa2191c79a632",
     "locked": true,
     "schema_version": 1,
     "solution": false
    }
   },
   "source": [
    "## Question 4 (Code Completion) Number of Distinct Words\n",
    "\n",
    "In the cell below write a function to *count how many distinct words are in the deduplicated transcripts in total*. \n",
    "\n",
    "Hint: Use a *set*"
   ]
  },
  {
   "cell_type": "code",
   "execution_count": 12,
   "metadata": {
    "deletable": false,
    "nbgrader": {
     "checksum": "06e992a3ff3cef3cbc736684c9aad4e6",
     "grade": false,
     "grade_id": "num_distinct_words",
     "locked": false,
     "schema_version": 1,
     "solution": true
    }
   },
   "outputs": [],
   "source": [
    "def num_distinct_words(tokenize_method,tokenize_transcript_method,input_transcripts):\n",
    "    \"\"\"Returns number of distinct tokens used in an entire transcript\n",
    "    Params: {tokenize_method: Function (a -> b),\n",
    "             // Note: Below type means a function that takes two arguments, the first of which is a function.\n",
    "             tokenize_transcript_method: Function ((Function(a -> b), c) -> d),\n",
    "             input_transcripts: Tuple List}\n",
    "    Returns: Integer\n",
    "    \"\"\"\n",
    "    # YOUR CODE HERE\n",
    "    token_dict={}\n",
    "    for i in input_transcripts:\n",
    "        for j in tokenize_transcript_method(tokenize_method,i):\n",
    "            if j not in token_dict:\n",
    "                token_dict[j]=1\n",
    "    return len(token_dict)"
   ]
  },
  {
   "cell_type": "code",
   "execution_count": 13,
   "metadata": {
    "deletable": false,
    "editable": false,
    "nbgrader": {
     "checksum": "bf42c86a2de1a7a3356c85a46898ef54",
     "grade": true,
     "grade_id": "num_distict_words_test",
     "locked": true,
     "points": 10,
     "schema_version": 1,
     "solution": false
    }
   },
   "outputs": [],
   "source": [
    "# This is an autograder test. Here we can test the function you just wrote above.\n",
    "\"\"\"Check that num_dedup_tokens returns the correct output\"\"\"\n",
    "assert num_distinct_words(tokenize,tokenize_transcript,deduped_transcripts) > 8000 and \\\n",
    "    num_distinct_words(tokenize,tokenize_transcript,deduped_transcripts) < 9000"
   ]
  },
  {
   "cell_type": "markdown",
   "metadata": {
    "deletable": false,
    "editable": false,
    "nbgrader": {
     "checksum": "00987786fc42b1e163a69cec6dc37925",
     "grade": false,
     "grade_id": "cell-3d5da2bb92583201",
     "locked": true,
     "schema_version": 1,
     "solution": false
    }
   },
   "source": [
    "# Question 5 (Code Completion) Word Episode Counts\n",
    "\n",
    "This question is asking you to build a dictionary `word_episode_count[word]` = *number of episodes in which the word appears in*. \n",
    "\n",
    "*Note: Keep in mind that the de-duplicated transcripts don't have unique titles!\n",
    "Recall from A0 that **one episode corresponds to exactly one title** (but not necessarily to only one transcript).*\n",
    "\n",
    "**Your code should ideally take less than 1 second (or a few seconds) to run. If it does not, then you should be able to find a better answer.**\n",
    "\n",
    "In the cell below write a function that: *for each distinct (unique) word, in how many different episodes does it appear?* "
   ]
  },
  {
   "cell_type": "code",
   "execution_count": 14,
   "metadata": {
    "deletable": false,
    "nbgrader": {
     "checksum": "1feda7a4e78c537c58b61914896db139",
     "grade": false,
     "grade_id": "build_word_episode_count",
     "locked": false,
     "schema_version": 1,
     "solution": true
    }
   },
   "outputs": [],
   "source": [
    "def build_word_episode_count(tokenize_method,tokenize_transcript_method,input_transcripts,input_titles):\n",
    "    \"\"\"Returns a dictionary with the number of episodes each distinct word appears\n",
    "        Params: {tokenize_method: Function (a -> b),\n",
    "                 // Note: Below type means a function that takes two arguments, the first of which is a function.\n",
    "                 tokenize_transcript_method: Function ((Function(a -> b), c) -> d),\n",
    "                 input_transcripts: Tuple List,\n",
    "                 input_titles: Dictionary}\n",
    "        Returns: Dict\n",
    "    \"\"\"\n",
    "    # YOUR CODE HERE\n",
    "    episode_dict={}\n",
    "    for val in input_titles.values():\n",
    "        if val not in episode_dict:\n",
    "            episode_dict[val]={}\n",
    "    for i,j in input_transcripts:\n",
    "        token_dict={}\n",
    "        for text_word in tokenize_transcript_method(tokenize_method,(i,j)):\n",
    "            if text_word not in episode_dict[titles[i]]:\n",
    "                episode_dict[titles[i]][text_word]=1\n",
    "    word_episode_count={}  \n",
    "    for episode in episode_dict:\n",
    "        for key in episode_dict[episode]:\n",
    "            if key not in word_episode_count:\n",
    "                word_episode_count[key]=1\n",
    "            else:\n",
    "                word_episode_count[key]=word_episode_count[key]+1 \n",
    "    return word_episode_count"
   ]
  },
  {
   "cell_type": "code",
   "execution_count": 15,
   "metadata": {
    "deletable": false,
    "editable": false,
    "nbgrader": {
     "checksum": "a28826d87ccf56c9866f9974edcc8ef8",
     "grade": false,
     "grade_id": "cell-0a14a82efd4f0e23",
     "locked": true,
     "schema_version": 1,
     "solution": false
    }
   },
   "outputs": [],
   "source": [
    "word_episode_count = build_word_episode_count(tokenize,tokenize_transcript,deduped_transcripts,titles)   "
   ]
  },
  {
   "cell_type": "code",
   "execution_count": 16,
   "metadata": {
    "deletable": false,
    "editable": false,
    "nbgrader": {
     "checksum": "9d8d868508581c5a61fda120a6465ae9",
     "grade": true,
     "grade_id": "build_word_episode_count_test",
     "locked": true,
     "points": 20,
     "schema_version": 1,
     "solution": false
    }
   },
   "outputs": [],
   "source": [
    "# This is an autograder test. Here we can test the function you just wrote above.\n",
    "\"\"\"Check that build_word_episode_count returns the correct output\"\"\"\n",
    "assert word_episode_count['quarter'] == 2\n",
    "assert word_episode_count['made'] == 40\n",
    "assert word_episode_count['never'] == 49"
   ]
  },
  {
   "cell_type": "markdown",
   "metadata": {
    "deletable": false,
    "editable": false,
    "nbgrader": {
     "checksum": "f39a4e210aad7edab58517209b80e7d9",
     "grade": false,
     "grade_id": "cell-88307b2867a85c7d",
     "locked": true,
     "schema_version": 1,
     "solution": false
    }
   },
   "source": [
    "## Question 6 (Free Response): Distribution Analysis\n",
    "\n",
    "For this question you will be plotting a histogram of the distribution of the number of episodes in which words appear. \n",
    "\n",
    "The *x axis* should correspond to the *number of episodes* in which a word is mentioned, and the *y axis* should show *how many words* are in each bin. \n",
    "\n",
    "Note: Use the default matplotlib settings. You may find this tutorial helpful: https://matplotlib.org/3.0.2/tutorials/introductory/pyplot.html\n",
    "\n",
    "Create a new cell with the histogram below. And give an analysis of the histogram: What do you observe?"
   ]
  },
  {
   "cell_type": "code",
   "execution_count": 17,
   "metadata": {
    "deletable": false,
    "nbgrader": {
     "checksum": "83d43ececa794b83dfd9df9ca0bb125b",
     "grade": true,
     "grade_id": "build_word_episode_count_ans",
     "locked": false,
     "points": 5,
     "schema_version": 1,
     "solution": true
    }
   },
   "outputs": [
    {
     "data": {
      "image/png": "[encoded data removed]",
      "text/plain": [
       "<matplotlib.figure.Figure at 0x110f698d0>"
      ]
     },
     "metadata": {},
     "output_type": "display_data"
    }
   ],
   "source": [
    "# YOUR CODE HERE \n",
    "\n",
    "plt.hist(word_episode_count.values())\n",
    "plt.xlabel('Number of Episodes')\n",
    "plt.ylabel('Words')\n",
    "plt.title('Word distribution')\n",
    "plt.grid(True)\n",
    "plt.show()"
   ]
  },
  {
   "attachments": {
    "image.png": {
     "image/png": "[encoded data removed]"
    }
   },
   "cell_type": "markdown",
   "metadata": {},
   "source": [
    "![image.png](attachment:image.png)"
   ]
  },
  {
   "cell_type": "markdown",
   "metadata": {},
   "source": [
    "The majority of words only occur in one episode. There are slightly more words that occurs in every episodes, as opposed to the number of words that occur in some of the episodes, but this still is far inferior to the number of words that occur in only one episode.  "
   ]
  },
  {
   "cell_type": "markdown",
   "metadata": {
    "deletable": false,
    "editable": false,
    "nbgrader": {
     "checksum": "f2a64274aabfd6c9a230dbd71e09c26f",
     "grade": false,
     "grade_id": "cell-b78c4d64909ac049",
     "locked": true,
     "schema_version": 1,
     "solution": false
    }
   },
   "source": [
    "## Question 7 (Code Completition): Good Types\n",
    "\n",
    "For the following question you will build an alphabetically sorted list of all words that appear in **more than one episode.** We shall refer to these words as *good types*. The strategy here is to eliminate very specific words that occur too rarely. The word *type* here refers to word types. Word types are unique words, i.e. *hello* and *goodbye* are two distinct word types. [\"You say goodbye, and I say hello, hello, hello\"](https://www.youtube.com/watch?v=rblYSKz_VnI&feature=youtu.be&t=16s) (warning -- link will play sound) is a sequence of 9 tokens (ignoring punctuation) and contains one *goodbye* type token, and three *hello* type tokens.\n",
    "\n",
    "In the cell below fufill the specifications above and have the function: *produce an alphabetically sorted list of good types*. "
   ]
  },
  {
   "cell_type": "code",
   "execution_count": 18,
   "metadata": {
    "deletable": false,
    "nbgrader": {
     "checksum": "f4301fea0ff7bfc0a76bd906351742f4",
     "grade": false,
     "grade_id": "output_good_types",
     "locked": false,
     "schema_version": 1,
     "solution": true
    }
   },
   "outputs": [],
   "source": [
    "def output_good_types(input_word_counts):\n",
    "    \"\"\"Returns a list of good types in alphabeitcally sorted order\n",
    "        Params: {input_word_counts: Dict}\n",
    "        Returns: List\n",
    "    \"\"\"\n",
    "    # YOUR CODE HERE\n",
    "    lst=[]\n",
    "    for word in input_word_counts:\n",
    "        if(input_word_counts[word]>1):\n",
    "            lst.append(word)\n",
    "    lst.sort()\n",
    "    return lst"
   ]
  },
  {
   "cell_type": "code",
   "execution_count": 19,
   "metadata": {
    "deletable": false,
    "editable": false,
    "nbgrader": {
     "checksum": "0dbf338f4231a604985d91122c842938",
     "grade": false,
     "grade_id": "cell-8f0bb8ce404b6b24",
     "locked": true,
     "schema_version": 1,
     "solution": false
    }
   },
   "outputs": [],
   "source": [
    "good_types = output_good_types(word_episode_count)\n",
    "n_good_types = len(good_types)"
   ]
  },
  {
   "cell_type": "code",
   "execution_count": 20,
   "metadata": {
    "deletable": false,
    "editable": false,
    "nbgrader": {
     "checksum": "05c822ec869f48bd52d36605cf2234a0",
     "grade": true,
     "grade_id": "output_good_types_test",
     "locked": true,
     "points": 8,
     "schema_version": 1,
     "solution": false
    }
   },
   "outputs": [],
   "source": [
    "# This is an autograder test. Here we can test the function you just wrote above.\n",
    "\"\"\"Check that output_good_types returns the correct output\"\"\"\n",
    "assert n_good_types > 4500 and n_good_types < 5000\n",
    "assert good_types[0:5] == ['a','aah','ability','able','about']"
   ]
  },
  {
   "cell_type": "markdown",
   "metadata": {
    "deletable": false,
    "editable": false,
    "nbgrader": {
     "checksum": "f0d9a3c92ccb210cb6a9420f36301a60",
     "grade": false,
     "grade_id": "cell-800cf3466c807a90",
     "locked": true,
     "schema_version": 1,
     "solution": false
    }
   },
   "source": [
    "## Question 7b (Free Response): Good Types\n",
    "\n",
    "In the cell below answer the following: *How many good_types there are? What are the first 10 in alphabetical order?*"
   ]
  },
  {
   "cell_type": "markdown",
   "metadata": {
    "deletable": false,
    "nbgrader": {
     "checksum": "92ab05da789cb6c60699f2e1842da6c2",
     "grade": true,
     "grade_id": "output_good_types_ans",
     "locked": false,
     "points": 2,
     "schema_version": 1,
     "solution": true
    }
   },
   "source": [
    "There are 4517 good_types.\n",
    "The first 10 in alphabetical order are: ['a', 'aah', 'ability', 'able', 'about', 'absolute', 'absolutely', 'absurd', 'accent', 'accept']."
   ]
  },
  {
   "cell_type": "markdown",
   "metadata": {
    "deletable": false,
    "editable": false,
    "nbgrader": {
     "checksum": "364c3bdb0f8bacc88b61c4bac10d1022",
     "grade": false,
     "grade_id": "cell-dd25b6c0ee0f7aa7",
     "locked": true,
     "schema_version": 1,
     "solution": false
    }
   },
   "source": [
    "From now on, the use of array data structures from `numpy` is highly recommended and required in some places. If you've never used numpy before, it will take some time to get used to. In general, numpy is a library that you can use to handle vector/matrix/tensor operations, including creation, modification, and compositions (add, sub, mul, etc.). For example, try running the following code:"
   ]
  },
  {
   "cell_type": "code",
   "execution_count": 21,
   "metadata": {
    "deletable": false,
    "editable": false,
    "nbgrader": {
     "checksum": "3d70575ee2520d8663a5626a206cd5f6",
     "grade": false,
     "grade_id": "cell-a35c29d2a336c43f",
     "locked": true,
     "schema_version": 1,
     "solution": false
    }
   },
   "outputs": [
    {
     "name": "stdout",
     "output_type": "stream",
     "text": [
      "[[1 2 3]\n",
      " [4 6 2]]\n",
      "[[1 2]\n",
      " [5 3]\n",
      " [1 1]]\n",
      "[[14 11]\n",
      " [36 28]]\n",
      "[5 8 5]\n",
      "[3 8 2]\n"
     ]
    }
   ],
   "source": [
    "A = np.array([[1,2,3], [4,6,2]]) \n",
    "B = np.array([[1,2],[5,3],[1,1]])\n",
    "print(A) #A is a 2x3 matrix\n",
    "print(B) #B is a 3x2 matrix\n",
    "print(A.dot(B)) #A.dot(B) is a 2 by 2 matrix\n",
    "print(np.sum(A, axis=0)) #np.sum(A, axis=0) sums along columns\n",
    "print(np.sum(B, axis=1)) #np.sum(B, axis=1) sums along rows"
   ]
  },
  {
   "cell_type": "markdown",
   "metadata": {
    "deletable": false,
    "editable": false,
    "nbgrader": {
     "checksum": "609638d96f460c027d4bd14392cfbda2",
     "grade": false,
     "grade_id": "cell-be083b1847639a79",
     "locked": true,
     "schema_version": 1,
     "solution": false
    }
   },
   "source": [
    "You're welcome to find your own resources to learn more about numpy (there are lots of them) but one good introduction is [Justin Johnson's writeup](http://cs231n.github.io/python-numpy-tutorial/#numpy).\n",
    "\n",
    "We will be using vectors and arrays with *n_good_types* columns, such that each good type corresponds to a column, in alphabetical order."
   ]
  },
  {
   "cell_type": "markdown",
   "metadata": {
    "deletable": false,
    "editable": false,
    "nbgrader": {
     "checksum": "99ce832bc2fc921fd2deada5b8ce4110",
     "grade": false,
     "grade_id": "cell-f473f9073805a3f3",
     "locked": true,
     "schema_version": 1,
     "solution": false
    }
   },
   "source": [
    "## Question 8 (Code Completion): Word Frequencies\n",
    "\n",
    "What can you say about the most frequently used words? Would you expect to find the same ordering of frequent words in, say, the NY Times?\n",
    "\n",
    "Note that we are talking about how many times a word appears over all episodes, rather than how many episodes a word appears in.\n",
    "\n",
    "In the cell below, complete the function to *find the most frequently occurring words (\"good types\")*."
   ]
  },
  {
   "cell_type": "code",
   "execution_count": 22,
   "metadata": {
    "deletable": false,
    "nbgrader": {
     "checksum": "17624d031f9ca211cc010bf2b18d2efd",
     "grade": false,
     "grade_id": "create_ranked_good_types",
     "locked": false,
     "schema_version": 1,
     "solution": true
    }
   },
   "outputs": [],
   "source": [
    "def create_ranked_good_types(tokenize_method,tokenize_transcript_method,input_transcripts,input_good_types):\n",
    "    \"\"\"Returns a list of good types in reverse sorted order in the form:\n",
    "        [(word_1,word_count_1),\n",
    "        ...\n",
    "        (word_10,word_count_10)]\n",
    "        Params: {tokenize_method: Function (a -> b),\n",
    "                 // Note: Below type means a function that takes two arguments, the first of which is a function.\n",
    "                 tokenize_transcript_method: Function ((Function(a -> b), c) -> d),\n",
    "                 input_transcripts: Tuple List,\n",
    "                 input_good_types: List}\n",
    "        Returns: List\n",
    "    \"\"\"\n",
    "    # YOUR CODE HERE\n",
    "    good_dict={}\n",
    "    for val in input_good_types:\n",
    "            good_dict[val]=0\n",
    "\n",
    "    for i in input_transcripts:\n",
    "        for text_word in tokenize_transcript_method(tokenize_method,i):\n",
    "            if text_word in good_dict:\n",
    "                good_dict[text_word]=good_dict[text_word]+1\n",
    "                \n",
    "    output_good_types=[]  \n",
    "    for index in range(0,len(input_good_types)):\n",
    "            output_good_types.append((good_dict[input_good_types[index]],input_good_types[index]))\n",
    "    output_good_types.sort(reverse=True)\n",
    "    output_good_types2=[] \n",
    "    for x,y in output_good_types:\n",
    "        output_good_types2.append((y,x))\n",
    "    return output_good_types2"
   ]
  },
  {
   "cell_type": "code",
   "execution_count": 23,
   "metadata": {
    "deletable": false,
    "editable": false,
    "nbgrader": {
     "checksum": "9f708f2c7d28b8d245fe818b6153fcee",
     "grade": false,
     "grade_id": "cell-8bb7a64aaa1b1620",
     "locked": true,
     "schema_version": 1,
     "solution": false
    }
   },
   "outputs": [],
   "source": [
    "ranked_counts = create_ranked_good_types(tokenize,tokenize_transcript,deduped_transcripts,good_types)"
   ]
  },
  {
   "cell_type": "code",
   "execution_count": 24,
   "metadata": {
    "deletable": false,
    "editable": false,
    "nbgrader": {
     "checksum": "e950f27d7e8e54664121a7027b20edea",
     "grade": true,
     "grade_id": "create_ranked_good_types_test",
     "locked": true,
     "points": 20,
     "schema_version": 1,
     "solution": false
    }
   },
   "outputs": [],
   "source": [
    "# This is an autograder test. Here we can test the function you just wrote above.\n",
    "\"\"\"Check that create_ranked_good_types returns the correct output\"\"\"\n",
    "assert ranked_counts[0:2] == [('i',13972),('you',10920)]"
   ]
  },
  {
   "cell_type": "markdown",
   "metadata": {
    "deletable": false,
    "editable": false,
    "nbgrader": {
     "checksum": "2897f70bebef640bcba17420e965a444",
     "grade": false,
     "grade_id": "cell-3f52d6dd8641a84e",
     "locked": true,
     "schema_version": 1,
     "solution": false
    }
   },
   "source": [
    "## Characterizing characters' language\n",
    "\n",
    "Moving on, we will only be considering a subset of characters, arguably the most important ones."
   ]
  },
  {
   "cell_type": "code",
   "execution_count": 25,
   "metadata": {
    "deletable": false,
    "editable": false,
    "nbgrader": {
     "checksum": "ddbabcc279eb2d98193eb9181daf839d",
     "grade": false,
     "grade_id": "cell-87f62951498c6a21",
     "locked": true,
     "schema_version": 1,
     "solution": false
    }
   },
   "outputs": [],
   "source": [
    "good_speakers = [u'BRUCE',\n",
    "                 u'JONATHAN',\n",
    "                 u'KHLOE',\n",
    "                 u'KIM',\n",
    "                 u'KOURTNEY',\n",
    "                 u'KRIS',\n",
    "                 u'ROBERT',\n",
    "                 u'SCOTT']\n",
    "\n",
    "n_speakers = len(good_speakers)"
   ]
  },
  {
   "cell_type": "markdown",
   "metadata": {
    "deletable": false,
    "editable": false,
    "nbgrader": {
     "checksum": "d4f3e774ff129e29b461abe4492ab221",
     "grade": false,
     "grade_id": "cell-1e73cf04c0942e6e",
     "locked": true,
     "schema_version": 1,
     "solution": false
    }
   },
   "source": [
    "## Question 9 (Code Completion): Character Word Occurrences\n",
    "\n",
    "In the cell below you will be asked to determine the *occurrences words by each character*\n",
    "\n",
    "This function will require you to return a numpy array of shape `n_speakers` by `n_good_types` such that the entry `(i,j)` indicates how many times speaker i says word j."
   ]
  },
  {
   "cell_type": "code",
   "execution_count": 28,
   "metadata": {
    "deletable": false,
    "nbgrader": {
     "checksum": "3fd5f6c65ec27ac398f29829662cc222",
     "grade": false,
     "grade_id": "create_word_freq_array",
     "locked": false,
     "schema_version": 1,
     "solution": true
    }
   },
   "outputs": [],
   "source": [
    "def create_word_occurrence_matrix(\n",
    "    tokenize_method,\n",
    "    input_transcripts,\n",
    "    input_speakers,\n",
    "    input_good_types):\n",
    "    \"\"\"Returns a numpy array of shape n_speakers by n_good_types such that the \n",
    "    entry (ij) indicates how often speaker i says word j.\n",
    "    \n",
    "    Params: {tokenize_method: Function (a -> b),\n",
    "             input_transcripts: Tuple,\n",
    "             input_speakers: List,\n",
    "             input_good_types: List}\n",
    "    Returns: Numpy Array\n",
    "    \"\"\"\n",
    "    # YOUR CODE HERE\n",
    "    output_arr = np.zeros((len(input_speakers),len(input_good_types)))\n",
    "    for i,j in input_transcripts:\n",
    "        for transcript in j:           \n",
    "            tokens=tokenize_method(transcript[\"text\"])\n",
    "            speaker=transcript[\"speaker\"]\n",
    "            for word in tokens:\n",
    "                try:\n",
    "                    output_arr[input_speakers.index(speaker)][input_good_types.index(word)]= \\\n",
    "                        output_arr[input_speakers.index(speaker)][input_good_types.index(word)]+1                   \n",
    "                except:\n",
    "                    pass\n",
    "    return output_arr"
   ]
  },
  {
   "cell_type": "code",
   "execution_count": 29,
   "metadata": {
    "deletable": false,
    "editable": false,
    "nbgrader": {
     "checksum": "de35d2ee91f5379e42914f23d401db0d",
     "grade": false,
     "grade_id": "cell-4229598e63922f3b",
     "locked": true,
     "schema_version": 1,
     "solution": false
    }
   },
   "outputs": [
    {
     "name": "stdout",
     "output_type": "stream",
     "text": [
      "[('kardashians/153890', [{'speaker': 'KHLOE', 'timestamp': '00:00:23', 'text': \"You don't have your own credit card?\"}, {'speaker': 'BRUCE', 'timestamp': '00:00:25', 'text': \"I don't even have a credit card.\"}, {'speaker': 'BRUCE', 'timestamp': '00:00:26', 'text': 'I know.'}, {'speaker': 'KHLOE', 'timestamp': '00:00:27', 'text': 'You are such a little girl.'}, {'speaker': 'BRUCE', 'timestamp': '00:00:31', 'text': 'I know.'}, {'speaker': 'BRUCE', 'timestamp': '00:00:32', 'text': \"I'm a wuss, yeah.\"}, {'speaker': 'BRUCE', 'timestamp': '00:00:33', 'text': 'When it comes to that stuff.'}, {'speaker': 'KHLOE', 'timestamp': '00:00:34', 'text': \"You're a puss.\"}, {'speaker': 'BRUCE', 'timestamp': '00:00:35', 'text': \"I'm a puss.\"}, {'speaker': 'KHLOE', 'timestamp': '00:00:36', 'text': 'I feel so bad that you need to, like, ask me for money.'}, {'speaker': 'BRUCE', 'timestamp': '00:00:39', 'text': 'Yeah, I know.'}, {'speaker': 'BRUCE', 'timestamp': '00:00:40', 'text': 'I feel bad, too.'}, {'speaker': 'BRUCE', 'timestamp': '00:00:40', 'text': 'How do you think I feel?'}, {'speaker': 'KHLOE', 'timestamp': '00:00:41', 'text': \"Like, that's so embarrassing for you.\"}, {'speaker': 'KHLOE', 'timestamp': '00:00:42', 'text': 'I definitely feel sorry for Bruce.'}, {'speaker': 'KHLOE', 'timestamp': '00:00:45', 'text': 'And I really want to help him out.'}, {'speaker': 'KHLOE', 'timestamp': '00:00:46', 'text': 'I mean, I want him to feel like a man.'}, {'speaker': 'KHLOE', 'timestamp': '00:00:48', 'text': \"Like, here's money, buy yourself something, jeez.\"}, {'speaker': 'BRUCE', 'timestamp': '00:00:51', 'text': \"You're diving in for the cash?\"}, {'speaker': 'KHLOE', 'timestamp': '00:00:53', 'text': 'Well, I have $400 on me now.'}, {'speaker': 'BRUCE', 'timestamp': '00:00:56', 'text': \"You've got $400?!\"}, {'speaker': 'KHLOE', 'timestamp': '00:00:57', 'text': 'So you can go...'}, {'speaker': 'BRUCE', 'timestamp': '00:00:58', 'text': \"My God, I'm rich.\"}, {'speaker': 'KHLOE', 'timestamp': '00:00:59', 'text': 'And then if you could take out the trash, and then if you go to Dash, maybe tomorrow or whatever, later today and just...'}, {'speaker': 'BRUCE', 'timestamp': '00:01:05', 'text': 'You got a couple more?'}, {'speaker': 'BRUCE', 'timestamp': '00:01:06', 'text': 'I love it.'}, {'speaker': 'BRUCE', 'timestamp': '00:01:07', 'text': \"All right, I'm gonna go start on my chores.\"}, {'speaker': 'BRUCE', 'timestamp': '00:01:10', 'text': \"And remember, don't tell Mom, okay?\"}, {'speaker': 'KHLOE', 'timestamp': '00:01:14', 'text': 'Your secret is safe with me.'}, {'speaker': 'KHLOE', 'timestamp': '00:01:25', 'text': 'Hi.'}, {'speaker': 'BRUCE', 'timestamp': '00:01:26', 'text': \"I'm trying to...\"}, {'speaker': 'KHLOE', 'timestamp': '00:01:27', 'text': 'I see you got started already on doing all the light bulbs.'}, {'speaker': 'BRUCE', 'timestamp': '00:01:29', 'text': 'None of them are working.'}, {'speaker': 'KHLOE', 'timestamp': '00:01:31', 'text': 'Well, you know, all these little light bulbs I need to be changed.'}, {'speaker': 'KHLOE', 'timestamp': '00:01:35', 'text': \"Like, me and Lily can't reach those.\"}, {'speaker': 'KHLOE', 'timestamp': '00:01:37', 'text': \"There's spider webs all on it and at the very top.\"}, {'speaker': 'KHLOE', 'timestamp': '00:01:39', 'text': \"Like, that's sick.\"}, {'speaker': 'KHLOE', 'timestamp': '00:01:40', 'text': \"I can't do that.\"}, {'speaker': 'BRUCE', 'timestamp': '00:01:40', 'text': 'All right.'}, {'speaker': 'KIM', 'timestamp': '00:01:41', 'text': 'You just need a duster.'}, {'speaker': 'BRUCE', 'timestamp': '00:01:42', 'text': 'I am the duster.'}, {'speaker': 'KHLOE', 'timestamp': '00:01:44', 'text': 'Bruce is doing a really good job at everything.'}, {'speaker': 'KHLOE', 'timestamp': '00:01:47', 'text': 'But I just feel bad even telling him to do stuff.'}, {'speaker': 'KHLOE', 'timestamp': '00:01:57', 'text': 'That should do it.'}, {'speaker': 'BRUCE', 'timestamp': '00:01:59', 'text': \"It's been a pleasure doing business with you.\"}, {'speaker': 'KHLOE', 'timestamp': '00:02:01', 'text': 'Any time, dude.'}, {'speaker': 'BRUCE', 'timestamp': '00:02:02', 'text': 'Okay.'}, {'speaker': 'ADRIENNE', 'timestamp': '00:02:05', 'text': \"Hey, I'm unavailable to take your call right now, but if you leave your name and number, I'll get back to you.\"}, {'speaker': 'ROBERT', 'timestamp': '00:02:14', 'text': \"Hey, it's Rob.\"}, {'speaker': 'ROBERT', 'timestamp': '00:02:16', 'text': 'Just wanted to call and say it was nice seeing you at the wedding.'}, {'speaker': 'ROBERT', 'timestamp': '00:02:20', 'text': 'Nice talking to you and everything.'}, {'speaker': 'ROBERT', 'timestamp': '00:02:22', 'text': \"I've been trying to call Adrienne, trying to make things right, but she won't pick up.\"}, {'speaker': 'ROBERT', 'timestamp': '00:02:26', 'text': \"Hey, Adrienne, it's me again.\"}, {'speaker': 'ROBERT', 'timestamp': '00:02:29', 'text': \"Hey, it's me again, uh, Rob.\"}, {'speaker': 'ROBERT', 'timestamp': '00:02:32', 'text': \"Just wanted to see how your day's going.\"}, {'speaker': 'ROBERT', 'timestamp': '00:02:36', 'text': \"Uh, it's 9:20.\"}, {'speaker': 'ROBERT', 'timestamp': '00:02:40', 'text': 'Just calling to say hi.'}, {'speaker': 'ROBERT', 'timestamp': '00:02:42', 'text': 'Call me back, please.'}, {'speaker': 'ROBERT', 'timestamp': '00:02:44', 'text': \"The reason I'm calling Adrienne so much is just because I want her to see how much I truly care, and how much I truly want to be with her.\"}, {'speaker': 'ROBERT', 'timestamp': '00:02:52', 'text': 'I want to get my girl back.'}, {'speaker': 'ROBERT', 'timestamp': '00:02:53', 'text': \"Hey, it's Rob.\"}, {'speaker': 'ROBERT', 'timestamp': '00:02:55', 'text': \"I'm just calling you to see what's going on.\"}, {'speaker': 'BRUCE', 'timestamp': '00:02:58', 'text': 'Is that the strip club?'}, {'speaker': 'KIM', 'timestamp': '00:03:08', 'text': 'When did you start to get gray hair?'}, {'speaker': 'KRIS', 'timestamp': '00:03:10', 'text': 'Like last week.'}, {'speaker': 'KIM', 'timestamp': '00:03:11', 'text': 'Oh, please.'}, {'speaker': 'KRIS', 'timestamp': '00:03:13', 'text': 'I have one gray hair, and in order for her make it all blend, she has to do the whole head.'}, {'speaker': 'KRIS', 'timestamp': '00:03:19', 'text': 'Right, K?'}, {'speaker': 'KENDALL', 'timestamp': '00:03:19', 'text': 'Right.'}, {'speaker': 'KRIS', 'timestamp': '00:03:20', 'text': 'Right.'}, {'speaker': 'KRIS', 'timestamp': '00:03:21', 'text': 'Will you guys look at this new dress I have in my closet?'}, {'speaker': 'KHLOE', 'timestamp': '00:03:23', 'text': 'Why?'}, {'speaker': 'KHLOE', 'timestamp': '00:03:24', 'text': \"I'm going to an event tomorrow night and I need to make sure that you guys think my dress is cute.\"}, {'speaker': 'KHLOE', 'timestamp': '00:03:28', 'text': \"Mom, Kim and I have told you this before-- you can't buy clothes unless you approve them between us.\"}, {'speaker': 'KRIS', 'timestamp': '00:03:32', 'text': \"I'm asking you to approve.\"}, {'speaker': 'KRIS', 'timestamp': '00:03:34', 'text': 'I have 24 hours, okay?'}, {'speaker': 'KRIS', 'timestamp': '00:03:35', 'text': \"It's right over there.\"}, {'speaker': 'KRIS', 'timestamp': '00:03:36', 'text': 'Look at the dress.'}, {'speaker': 'KHLOE', 'timestamp': '00:03:37', 'text': 'Is it this one hanging right here?'}, {'speaker': 'KRIS', 'timestamp': '00:03:39', 'text': 'Yep.'}, {'speaker': 'KIM', 'timestamp': '00:03:40', 'text': 'Oh, my God.'}, {'speaker': 'KRIS', 'timestamp': '00:03:41', 'text': 'What?'}, {'speaker': 'KIM', 'timestamp': '00:03:42', 'text': 'It is like $4,000.'}, {'speaker': 'KHLOE', 'timestamp': '00:03:44', 'text': 'Mom!'}, {'speaker': 'KRIS', 'timestamp': '00:03:45', 'text': 'What?'}, {'speaker': 'KHLOE', 'timestamp': '00:03:45', 'text': 'You just spent $4,000 on a dress?'}, {'speaker': 'KRIS', 'timestamp': '00:03:48', 'text': \"I couldn't find anything else to wear.\"}, {'speaker': 'KHLOE', 'timestamp': '00:03:51', 'text': 'Mom, that is ridiculous.'}, {'speaker': 'KHLOE', 'timestamp': '00:03:53', 'text': 'Are you kidding?'}, {'speaker': 'KIM', 'timestamp': '00:03:54', 'text': \"That's crazy.\"}, {'speaker': 'KIM', 'timestamp': '00:03:55', 'text': \"That's way too much money, Mom.\"}, {'speaker': 'KIM', 'timestamp': '00:03:57', 'text': \"You have so many dresses, and it's just a plain black dress.\"}, {'speaker': 'KIM', 'timestamp': '00:04:00', 'text': \"It's nothing special.\"}, {'speaker': 'KRIS', 'timestamp': '00:04:01', 'text': \"I can't keep wearing the same dress over and over.\"}, {'speaker': 'KRIS', 'timestamp': '00:04:03', 'text': 'You have to have, like, something new every time we go to an event.'}, {'speaker': 'KHLOE', 'timestamp': '00:04:06', 'text': 'Kris is such a hypocrite.'}, {'speaker': 'KHLOE', 'timestamp': '00:04:08', 'text': \"Bruce is not allowed to spend any money on helicopters because it's wasteful, but yet my mom can go around and spend $4,000 on a dress that she's only going to wear once.\"}, {'speaker': 'KRIS', 'timestamp': '00:04:18', 'text': 'Get out of my wallet, Khloe.'}, {'speaker': 'KHLOE', 'timestamp': '00:04:19', 'text': 'Credit card...'}, {'speaker': 'KRIS', 'timestamp': '00:04:20', 'text': 'Khloe, Khloe...'}, {'speaker': 'KHLOE', 'timestamp': '00:04:21', 'text': '...credit card, credit card...'}, {'speaker': 'KHLOE', 'timestamp': '00:04:24', 'text': \"Ooh, Bruce Jenner's credit card.\"}, {'speaker': 'KHLOE', 'timestamp': '00:04:26', 'text': 'No wonder he has no money.'}, {'speaker': 'KIM', 'timestamp': '00:04:28', 'text': 'Capitol One, Wells Fargo...'}, {'speaker': 'KRIS', 'timestamp': '00:04:29', 'text': 'Put my stuff away.'}, {'speaker': 'KRIS', 'timestamp': '00:04:31', 'text': 'That is not okay.'}, {'speaker': 'KRIS', 'timestamp': '00:04:32', 'text': \"You don't go through somebody's wallet, it's rude and disrespectful.\"}, {'speaker': 'KHLOE', 'timestamp': '00:04:36', 'text': \"Oh, come on, she's too sensitive.\"}, {'speaker': 'KHLOE', 'timestamp': '00:04:37', 'text': 'Come on, Kim.'}, {'speaker': 'ROBERT', 'timestamp': '00:04:47', 'text': 'To wives and mistresses.'}, {'speaker': 'SCOTT', 'timestamp': '00:04:49', 'text': 'To goomahs.'}, {'speaker': 'SCOTT', 'timestamp': '00:04:50', 'text': 'To you.'}, {'speaker': 'JJ', 'timestamp': '00:04:52', 'text': 'What were you saying about last night?'}, {'speaker': 'SCOTT', 'timestamp': '00:04:55', 'text': 'Do you know how many times he called Adrienne last night?'}, {'speaker': 'JJ', 'timestamp': '00:04:58', 'text': '80, I know.'}, {'speaker': 'ROBERT', 'timestamp': '00:04:59', 'text': 'Shut up.'}, {'speaker': 'SCOTT', 'timestamp': '00:05:00', 'text': '70 he told me.'}, {'speaker': 'JJ', 'timestamp': '00:05:01', 'text': \"If she doesn't pick up after five calls...\"}, {'speaker': 'JJ', 'timestamp': '00:05:02', 'text': 'I want to know where the other 65 came from.'}, {'speaker': 'SCOTT', 'timestamp': '00:05:04', 'text': 'What is going on with you and Adrienne?'}, {'speaker': 'SCOTT', 'timestamp': '00:05:06', 'text': 'Where are you with her right now?'}, {'speaker': 'ROBERT', 'timestamp': '00:05:08', 'text': 'To be honest...'}, {'speaker': 'SCOTT', 'timestamp': '00:05:08', 'text': 'Do you know what I mean?'}, {'speaker': 'JJ', 'timestamp': '00:05:10', 'text': 'I felt like post-wedding, you were really close, and then you screwed it up.'}, {'speaker': 'SCOTT', 'timestamp': '00:05:14', 'text': 'I felt like the wedding night he was good, until she woke up the next day and he called her 19 times to see when she woke up.'}, {'speaker': 'ROBERT', 'timestamp': '00:05:20', 'text': 'I deny...'}, {'speaker': 'SCOTT', 'timestamp': '00:05:21', 'text': 'Sent nine kinds of flowers.'}, {'speaker': 'ROBERT', 'timestamp': '00:05:22', 'text': \"I didn't...\"}, {'speaker': 'SCOTT', 'timestamp': '00:05:22', 'text': \"He's going to send her a dog, by the way.\"}, {'speaker': 'JJ', 'timestamp': '00:05:24', 'text': 'Did you send her flowers?'}, {'speaker': 'ROBERT', 'timestamp': '00:05:25', 'text': 'No, I did not.'}, {'speaker': 'ROBERT', 'timestamp': '00:05:26', 'text': 'Before the wedding.'}, {'speaker': 'ROBERT', 'timestamp': '00:05:27', 'text': \"She liked 'em.\"}, {'speaker': 'SCOTT', 'timestamp': '00:05:27', 'text': 'Bet she did, Focker.'}, {'speaker': 'SCOTT', 'timestamp': '00:05:28', 'text': 'What is she going to say, \"Hey, by the way, I hated your flowers See you at the wedding.\"?'}, {'speaker': 'ROBERT', 'timestamp': '00:05:31', 'text': 'You know, JJ and Scott are constantly making fun of me, but little do they know, like Adrienne and I have a special relationship.'}, {'speaker': 'SCOTT', 'timestamp': '00:05:38', 'text': 'What do you think is going to happen at this point?'}, {'speaker': 'SCOTT', 'timestamp': '00:05:40', 'text': 'I mean, are you stalking her?'}, {'speaker': 'ROBERT', 'timestamp': '00:05:41', 'text': \"No, I'm done.\"}, {'speaker': 'SCOTT', 'timestamp': '00:05:42', 'text': \"She's probably going to have a restraining order before you know it.\"}, {'speaker': 'ROBERT', 'timestamp': '00:05:47', 'text': 'She understands how I am.'}, {'speaker': 'ROBERT', 'timestamp': '00:05:49', 'text': \"She doesn't think I'm crazy.\"}, {'speaker': 'KHLOE', 'timestamp': '00:05:50', 'text': \"Robert, she definitely thinks you're crazy.\"}, {'speaker': 'KHLOE', 'timestamp': '00:05:52', 'text': 'This is an intervention, okay?'}, {'speaker': 'KHLOE', 'timestamp': '00:05:54', 'text': \"We're intervening.\"}, {'speaker': 'KOURTNEY', 'timestamp': '00:05:56', 'text': \"I'm done.\"}, {'speaker': 'KOURTNEY', 'timestamp': '00:05:58', 'text': \"If you don't start helping me out and getting on my team, this relationship is done.\"}, {'speaker': 'KOURTNEY', 'timestamp': '00:08:39', 'text': 'Is this a joke?'}, {'speaker': 'KOURTNEY', 'timestamp': '00:08:45', 'text': 'Answer my phone.'}, {'speaker': 'KOURTNEY', 'timestamp': '00:08:46', 'text': 'When I call someone, like, answer.'}, {'speaker': 'KHLOE', 'timestamp': '00:08:48', 'text': 'Who are you calling?'}, {'speaker': 'KOURTNEY', 'timestamp': '00:08:49', 'text': 'Scott.'}, {'speaker': 'KOURTNEY', 'timestamp': '00:08:50', 'text': \"I said I wanted to go to this-- to these classes, and like, he doesn't answer.\"}, {'speaker': 'KHLOE', 'timestamp': '00:08:55', 'text': 'Class for what?'}, {'speaker': 'KOURTNEY', 'timestamp': '00:08:56', 'text': 'Like breast pumping.'}, {'speaker': 'KHLOE', 'timestamp': '00:08:59', 'text': \"Maybe that's why he's not answering.\"}, {'speaker': 'KOURTNEY', 'timestamp': '00:09:01', 'text': \"It's still rude.\"}, {'speaker': 'KOURTNEY', 'timestamp': '00:09:03', 'text': 'I said, \"Let\\'s go.\"'}, {'speaker': 'KOURTNEY', 'timestamp': '00:09:05', 'text': 'Call him again.'}, {'speaker': 'KOURTNEY', 'timestamp': '00:09:07', 'text': 'I just called like, three times.'}, {'speaker': 'KOURTNEY', 'timestamp': '00:09:08', 'text': \"I don't want to be a stalker.\"}, {'speaker': 'KOURTNEY', 'timestamp': '00:09:10', 'text': 'Answer my call.'}, {'speaker': 'KHLOE', 'timestamp': '00:09:10', 'text': \"Kourtney, that's your baby daddy.\"}, {'speaker': 'KHLOE', 'timestamp': '00:09:12', 'text': 'You can stalk.'}, {'speaker': 'KHLOE', 'timestamp': '00:09:13', 'text': 'Stalk that ass.'}, {'speaker': 'KOURTNEY', 'timestamp': '00:09:14', 'text': \"I've called Scott over and over.\"}, {'speaker': 'KOURTNEY', 'timestamp': '00:09:16', 'text': \"He's totally avoiding my calls, and I'm really pissed off because he's totally flaking on me to go to this breast feeding class.\"}, {'speaker': 'KOURTNEY', 'timestamp': '00:09:24', 'text': 'I mean, I refuse to go alone.'}, {'speaker': 'KHLOE', 'timestamp': '00:09:25', 'text': 'Honey, why would anyone want to pump their breast by themselves?'}, {'speaker': 'KHLOE', 'timestamp': '00:09:30', 'text': 'I could go with you and give you moral support.'}, {'speaker': 'KHLOE', 'timestamp': '00:09:32', 'text': \"I mean, I'm not going to pump your breast, but I'll pump mine.\"}, {'speaker': 'KOURTNEY', 'timestamp': '00:09:34', 'text': \"I don't get it.\"}, {'speaker': 'KOURTNEY', 'timestamp': '00:09:34', 'text': 'And I feel like when I go to these classes...'}, {'speaker': 'KHLOE', 'timestamp': '00:09:36', 'text': 'I wonder if I can.'}, {'speaker': 'KHLOE', 'timestamp': '00:09:37', 'text': 'Can I really be that supportive and pump mine, too?'}, {'speaker': 'KOURTNEY', 'timestamp': '00:09:39', 'text': \"Bruce told me he's tasted breast milk.\"}, {'speaker': 'KHLOE', 'timestamp': '00:09:41', 'text': \"Bruce I'm sure has.\"}, {'speaker': 'KOURTNEY', 'timestamp': '00:09:43', 'text': 'How sick.'}, {'speaker': 'KHLOE', 'timestamp': '00:09:44', 'text': 'Bruce is just very...'}, {'speaker': 'LILY', 'timestamp': '00:09:45', 'text': 'By accident?'}, {'speaker': 'KOURTNEY', 'timestamp': '00:09:46', 'text': 'Are you going to taste mine, just to see what it tastes like?'}, {'speaker': 'KHLOE', 'timestamp': '00:09:49', 'text': 'Drink your breast milk?'}, {'speaker': 'KOURTNEY', 'timestamp': '00:09:51', 'text': 'Not from my boob.'}, {'speaker': 'KHLOE', 'timestamp': '00:09:53', 'text': 'Obviously, you sick .'}, {'speaker': 'KOURTNEY', 'timestamp': '00:09:55', 'text': \"If I'm... taste it.\"}, {'speaker': 'KHLOE', 'timestamp': '00:09:56', 'text': \"Yeah, I'll taste it.\"}, {'speaker': 'KHLOE', 'timestamp': '00:09:57', 'text': \"I'm not sucking on your  though.\"}, {'speaker': 'KOURTNEY', 'timestamp': '00:10:00', 'text': \"Let's hope.\"}, {'speaker': 'BRUCE', 'timestamp': '00:10:10', 'text': 'What are you doing?'}, {'speaker': 'KYLIE', 'timestamp': '00:10:11', 'text': 'Rob told me to bring beers for them.'}, {'speaker': 'BRUCE', 'timestamp': '00:10:14', 'text': 'To bring beers for them?'}, {'speaker': 'BRUCE', 'timestamp': '00:10:16', 'text': 'What are you, their bartender?'}, {'speaker': 'KYLIE', 'timestamp': '00:10:17', 'text': 'Yeah.'}, {'speaker': 'BRUCE', 'timestamp': '00:10:19', 'text': 'Great.'}, {'speaker': 'BRUCE', 'timestamp': '00:10:19', 'text': \"Okay, get them their beers and don't be drinking any of it.\"}, {'speaker': 'KYLIE', 'timestamp': '00:10:22', 'text': 'Oh, I will.'}, {'speaker': 'BRUCE', 'timestamp': '00:10:24', 'text': 'Sometimes I get real disappointed with Scott.'}, {'speaker': 'BRUCE', 'timestamp': '00:10:27', 'text': \"Here he's got a pregnant girlfriend, okay?\"}, {'speaker': 'BRUCE', 'timestamp': '00:10:29', 'text': \"Instead, he's over here with my little Kylie being a little barmaid, bringing beers out there so he can work on his tan.\"}, {'speaker': 'BRUCE', 'timestamp': '00:10:35', 'text': 'It does not work for me.'}, {'speaker': 'SCOTT', 'timestamp': '00:10:37', 'text': 'Having a little brewski, Bruce?'}, {'speaker': 'BRUCE', 'timestamp': '00:10:40', 'text': \"Yeah, I'm trying to keep up with you guys.\"}, {'speaker': 'BRUCE', 'timestamp': '00:10:43', 'text': \"Anyway, why aren't you with Kourtney?\"}, {'speaker': 'SCOTT', 'timestamp': '00:10:45', 'text': 'What?'}, {'speaker': 'SCOTT', 'timestamp': '00:10:46', 'text': \"I mean, I'm always with her.\"}, {'speaker': 'ROBERT', 'timestamp': '00:10:48', 'text': 'The guy needs a little breather.'}, {'speaker': 'BRUCE', 'timestamp': '00:10:51', 'text': 'Oh?'}, {'speaker': 'SCOTT', 'timestamp': '00:10:52', 'text': \"She's doing some class that doesn't involve me today anyway.\"}, {'speaker': 'BRUCE', 'timestamp': '00:10:55', 'text': \"She say she didn't want you to go?\"}, {'speaker': 'SCOTT', 'timestamp': '00:10:57', 'text': 'Of course not.'}, {'speaker': 'SCOTT', 'timestamp': '00:10:58', 'text': 'She said she wanted me to go, but...'}, {'speaker': 'SCOTT', 'timestamp': '00:11:00', 'text': 'I know.'}, {'speaker': 'SCOTT', 'timestamp': '00:11:01', 'text': \"I don't need to go.\"}, {'speaker': 'BRUCE', 'timestamp': '00:11:03', 'text': 'Yeah, well, yes, you do, you need to go.'}, {'speaker': 'SCOTT', 'timestamp': '00:11:06', 'text': 'Look, Bruce, I know how to handle my lady, and you know how to handle yours.'}, {'speaker': 'SCOTT', 'timestamp': '00:11:10', 'text': \"We'll be just fine.\"}, {'speaker': 'BRUCE', 'timestamp': '00:11:12', 'text': 'You know how to handle Kourtney?'}, {'speaker': 'BRUCE', 'timestamp': '00:11:14', 'text': 'Nobody knows how to handle Kourtney.'}, {'speaker': 'SCOTT', 'timestamp': '00:11:17', 'text': 'I handled her well enough to get her pregnant.'}, {'speaker': 'BRUCE', 'timestamp': '00:11:20', 'text': 'Yeah. Good luck.'}, {'speaker': 'TEACHER', 'timestamp': '00:11:28', 'text': 'Hi. How are you?'}, {'speaker': 'TEACHER', 'timestamp': '00:11:30', 'text': 'Hi, come on in.'}, {'speaker': 'KHLOE', 'timestamp': '00:11:35', 'text': \"You don't like your baby?\"}, {'speaker': 'KOURTNEY', 'timestamp': '00:11:36', 'text': 'This one.'}, {'speaker': 'KHLOE', 'timestamp': '00:11:37', 'text': 'Here, you want this one?'}, {'speaker': 'KOURTNEY', 'timestamp': '00:11:38', 'text': 'Yes, thank you.'}, {'speaker': 'KOURTNEY', 'timestamp': '00:11:41', 'text': 'Okay.'}, {'speaker': 'KOURTNEY', 'timestamp': '00:11:42', 'text': 'I like that one better.'}, {'speaker': 'KHLOE', 'timestamp': '00:11:45', 'text': 'Like a girl.'}, {'speaker': 'KOURTNEY', 'timestamp': '00:11:45', 'text': \"Ooh, look at that one's eyes.\"}, {'speaker': 'KOURTNEY', 'timestamp': '00:11:47', 'text': 'Khloe, look at it.'}, {'speaker': 'TEACHER', 'timestamp': '00:11:48', 'text': 'So, hi, everyone.'}, {'speaker': 'TEACHER', 'timestamp': '00:11:50', 'text': \"So today we're gonna take you through some of the, uh, basics that you guys need to know, how to take care of these little ones.\"}, {'speaker': 'TEACHER', 'timestamp': '00:11:56', 'text': \"And we're gonna just, um, talk about and learn about some of the things that you're gonna be doing every day.\"}, {'speaker': 'TEACHER', 'timestamp': '00:12:00', 'text': 'Um, so I think hopefully it will be useful to you.'}, {'speaker': 'KOURTNEY', 'timestamp': '00:12:04', 'text': 'How many times a day does your baby eat?'}, {'speaker': 'TEACHER', 'timestamp': '00:12:07', 'text': 'Um, new babies that are breast-fed, eight to 12 times.'}, {'speaker': 'KOURTNEY', 'timestamp': '00:12:11', 'text': 'No.'}, {'speaker': 'TEACHER', 'timestamp': '00:12:12', 'text': 'Yeah.'}, {'speaker': 'KOURTNEY', 'timestamp': '00:12:12', 'text': 'A day?'}, {'speaker': 'TEACHER', 'timestamp': '00:12:13', 'text': 'Pretty often.'}, {'speaker': 'TEACHER', 'timestamp': '00:12:14', 'text': 'Uh-huh, in 24 hours.'}, {'speaker': 'KOURTNEY', 'timestamp': '00:12:15', 'text': \"Going to these classes makes me more nervous because it just reminds me of all the information that I don't know.\"}, {'speaker': 'TEACHER', 'timestamp': '00:12:23', 'text': \"Put the front of the diaper underneath your baby's tush so you've got a clean surface.\"}, {'speaker': 'KHLOE', 'timestamp': '00:12:27', 'text': 'Kourtney, his two legs like this.'}, {'speaker': 'KOURTNEY', 'timestamp': '00:12:30', 'text': 'Sorry.'}, {'speaker': 'TEACHER', 'timestamp': '00:12:31', 'text': 'And have that cloth diaper handy.'}, {'speaker': 'TEACHER', 'timestamp': '00:12:33', 'text': 'Everybody got that?'}, {'speaker': 'TEACHER', 'timestamp': '00:12:35', 'text': 'Perfect.'}, {'speaker': 'KHLOE', 'timestamp': '00:12:36', 'text': 'No, you wrap it...'}, {'speaker': 'KOURTNEY', 'timestamp': '00:12:37', 'text': 'Bingo.'}, {'speaker': 'KOURTNEY', 'timestamp': '00:12:38', 'text': \"I don't know how to change a diaper.\"}, {'speaker': 'KOURTNEY', 'timestamp': '00:12:40', 'text': \"I don't know how to swaddle a baby.\"}, {'speaker': 'KOURTNEY', 'timestamp': '00:12:43', 'text': \"I don't know when you swaddle a baby.\"}, {'speaker': 'KOURTNEY', 'timestamp': '00:12:45', 'text': \"I don't know even how to hold the baby.\"}, {'speaker': 'KOURTNEY', 'timestamp': '00:12:47', 'text': \"Just thinking about all these tasks and things that I'm gonna need to know just makes me really nervous and anxious.\"}, {'speaker': 'KOURTNEY', 'timestamp': '00:12:56', 'text': 'Did you do it?'}, {'speaker': 'TEACHER', 'timestamp': '00:12:57', 'text': \"You guys, how'd you do?\"}, {'speaker': 'TEACHER', 'timestamp': '00:12:59', 'text': 'It looks good.'}, {'speaker': 'KOURTNEY', 'timestamp': '00:12:59', 'text': \"I don't think I did very well.\"}, {'speaker': 'TEACHER', 'timestamp': '00:13:01', 'text': \"Okay, let's see.\"}, {'speaker': 'KHLOE', 'timestamp': '00:13:02', 'text': \"Kourtney's just off right now.\"}, {'speaker': 'KHLOE', 'timestamp': '00:13:03', 'text': \"I think she's really getting stressed, and the pregnancy's finally starting to hit her and it's becoming more serious.\"}, {'speaker': 'KHLOE', 'timestamp': '00:13:09', 'text': \"And also, I think the fact that she's the only one without a dad here right now, I think that's really affecting her.\"}, {'speaker': 'TEACHER', 'timestamp': '00:13:15', 'text': 'How are the dads back there feeling about all of this going on?'}, {'speaker': 'TEACHER', 'timestamp': '00:13:18', 'text': 'You guys plan to be pretty involved or...?'}, {'speaker': 'TEACHER', 'timestamp': '00:13:21', 'text': \"Yeah, he's better than you are.\"}, {'speaker': 'TEACHER', 'timestamp': '00:13:22', 'text': 'How about the rest of you?'}, {'speaker': 'TEACHER', 'timestamp': '00:13:23', 'text': 'Dads involved or...?'}, {'speaker': 'KHLOE', 'timestamp': '00:13:25', 'text': \"I'm the dad today.\"}, {'speaker': 'TEACHER', 'timestamp': '00:13:26', 'text': 'Got it.'}, {'speaker': 'TEACHER', 'timestamp': '00:13:27', 'text': 'Good.'}, {'speaker': 'TEACHER', 'timestamp': '00:13:27', 'text': \"You're gonna be busy.\"}, {'speaker': 'KHLOE', 'timestamp': '00:13:28', 'text': 'Mm.'}, {'speaker': 'KHLOE', 'timestamp': '00:13:29', 'text': \"I will still be the dad, even when he is around, I'm sure.\"}, {'speaker': 'SCOTT', 'timestamp': '00:13:39', 'text': 'Hello.'}, {'speaker': 'SCOTT', 'timestamp': '00:13:45', 'text': 'Okay.'}, {'speaker': 'SCOTT', 'timestamp': '00:13:46', 'text': 'What are you up to?'}, {'speaker': 'SCOTT', 'timestamp': '00:13:50', 'text': 'All right, good talking to you.'}, {'speaker': 'KOURTNEY', 'timestamp': '00:13:51', 'text': \"I'm sick and tired of Scott not putting in an effort with the baby and I.\"}, {'speaker': 'KOURTNEY', 'timestamp': '00:13:56', 'text': 'And him not coming to that class was the last straw.'}, {'speaker': 'SCOTT', 'timestamp': '00:13:59', 'text': 'You have a bad attitude.'}, {'speaker': 'KOURTNEY', 'timestamp': '00:14:01', 'text': \"Yeah, 'cause you ditched me in my breast-feeding class today.\"}, {'speaker': 'SCOTT', 'timestamp': '00:14:05', 'text': \"It's a woman's breast-feeding class.\"}, {'speaker': 'KOURTNEY', 'timestamp': '00:14:08', 'text': 'We learned about other things.'}, {'speaker': 'KOURTNEY', 'timestamp': '00:14:10', 'text': \"It wasn't just about breast-feeding!\"}, {'speaker': 'KOURTNEY', 'timestamp': '00:14:12', 'text': \"You just don't get it.\"}, {'speaker': 'KOURTNEY', 'timestamp': '00:14:13', 'text': 'What are you bringing to the table?'}, {'speaker': 'KOURTNEY', 'timestamp': '00:14:15', 'text': 'Nothing.'}, {'speaker': 'SCOTT', 'timestamp': '00:14:16', 'text': 'Everything.'}, {'speaker': 'KOURTNEY', 'timestamp': '00:14:16', 'text': 'Nothing!'}, {'speaker': 'KOURTNEY', 'timestamp': '00:14:17', 'text': \"You're not helping with any  thing.\"}, {'speaker': 'KOURTNEY', 'timestamp': '00:14:20', 'text': \"I'm done.\"}, {'speaker': 'KOURTNEY', 'timestamp': '00:14:21', 'text': 'Like, I am so  done with you.'}, {'speaker': 'SCOTT', 'timestamp': '00:14:23', 'text': 'Oh, relax.'}, {'speaker': 'SCOTT', 'timestamp': '00:14:24', 'text': \"You-you don't mean that.\"}, {'speaker': 'KOURTNEY', 'timestamp': '00:14:25', 'text': 'Relax?'}, {'speaker': 'SCOTT', 'timestamp': '00:14:25', 'text': 'No, okay...'}, {'speaker': 'KOURTNEY', 'timestamp': '00:14:26', 'text': 'Test me!'}, {'speaker': 'KOURTNEY', 'timestamp': '00:14:27', 'text': 'test me and see.'}, {'speaker': 'SCOTT', 'timestamp': '00:14:28', 'text': 'Test you?'}, {'speaker': 'KOURTNEY', 'timestamp': '00:14:29', 'text': 'Yeah!'}, {'speaker': 'KOURTNEY', 'timestamp': '00:14:29', 'text': \"If you don't start helping me out and getting on my team, this relationship is done.\"}, {'speaker': 'KRIS', 'timestamp': '00:14:36', 'text': \"Where's my dress?\"}, {'speaker': 'BRUCE', 'timestamp': '00:14:38', 'text': 'Bitch, I want my damn ATM card!'}, {'speaker': 'KIM', 'timestamp': '00:14:41', 'text': \"So what's, like, your plan?\"}, {'speaker': 'KIM', 'timestamp': '00:14:44', 'text': 'Like, where are you gonna stay?'}, {'speaker': 'ROBERT', 'timestamp': '00:14:45', 'text': 'When I get tre, m just gonna go get a hotel room and, uh...'}, {'speaker': 'KIM', 'timestamp': '00:14:48', 'text': \"I'm just afraid if you go to New York, you'll come back hurt.\"}, {'speaker': 'KIM', 'timestamp': '00:14:52', 'text': \"As much as I don't agree with Rob going to New York, he's my little brother.\"}, {'speaker': 'KIM', 'timestamp': '00:14:57', 'text': \"I'm gonna support him no matter what.\"}, {'speaker': 'ROBERT', 'timestamp': '00:17:39', 'text': 'Hello?'}, {'speaker': 'KIM', 'timestamp': '00:17:41', 'text': \"So I call Rob to see what's going on with Adrienne.\"}, {'speaker': 'ROBERT', 'timestamp': '00:17:43', 'text': 'I freaked out last night and I called her, like, 60 times, literally, like crazy.'}, {'speaker': 'ROBERT', 'timestamp': '00:17:48', 'text': 'Like, more than that.'}, {'speaker': 'ROBERT', 'timestamp': '00:17:49', 'text': 'Like, from the house and from my cell.'}, {'speaker': 'KIM', 'timestamp': '00:17:52', 'text': \"Rob, you're crazy.\"}, {'speaker': 'ROBERT', 'timestamp': '00:17:54', 'text': \"I think if I show her that I'm serious about wanting her back, I think she'll come back to me.\"}, {'speaker': 'ROBERT', 'timestamp': '00:17:59', 'text': \"I don't want to be with anybody but her.\"}, {'speaker': 'ROBERT', 'timestamp': '00:18:01', 'text': \"I don't want to even date.\"}, {'speaker': 'ROBERT', 'timestamp': '00:18:02', 'text': \"And I can't just be lonely and single anymore.\"}, {'speaker': 'ROBERT', 'timestamp': '00:18:05', 'text': 'Literally, every single day, I send her an e-mail or a text.'}, {'speaker': 'ROBERT', 'timestamp': '00:18:09', 'text': \"And I'm not talking about just one.\"}, {'speaker': 'ROBERT', 'timestamp': '00:18:10', 'text': 'Like, \"Oh, this just reminded me of you.\" \"I\\'m so sorry, like, that I treated you that way.\"'}, {'speaker': 'ROBERT', 'timestamp': '00:18:21', 'text': 'I think that at some point, you just need to stop calling her.'}, {'speaker': 'ROBERT', 'timestamp': '00:18:24', 'text': 'And I think this is now, like, the turning point.'}, {'speaker': 'ROBERT', 'timestamp': '00:18:27', 'text': 'You have to let it go.'}, {'speaker': 'ROBERT', 'timestamp': '00:18:29', 'text': \"All right, I'm gonna shower.\"}, {'speaker': 'KIM', 'timestamp': '00:18:30', 'text': 'Bye.'}, {'speaker': 'SCOTT', 'timestamp': '00:18:31', 'text': 'Hey, Bruce.'}, {'speaker': 'BRUCE', 'timestamp': '00:18:43', 'text': 'Scotty.'}, {'speaker': 'SCOTT', 'timestamp': '00:18:44', 'text': 'Rob here?'}, {'speaker': 'BRUCE', 'timestamp': '00:18:45', 'text': 'No, he left.'}, {'speaker': 'SCOTT', 'timestamp': '00:18:46', 'text': 'What?'}, {'speaker': 'SCOTT', 'timestamp': '00:18:47', 'text': 'He just told me to come here.'}, {'speaker': 'BRUCE', 'timestamp': '00:18:49', 'text': 'Did he really?'}, {'speaker': 'SCOTT', 'timestamp': '00:18:49', 'text': \"I figure I'll talk to you then, Bruce, if Rob ain't here.\"}, {'speaker': 'SCOTT', 'timestamp': '00:18:53', 'text': \"I need somebody to speak to, because, you know, it's all women everywhere.\"}, {'speaker': 'BRUCE', 'timestamp': '00:18:56', 'text': 'Yeah.'}, {'speaker': 'SCOTT', 'timestamp': '00:18:57', 'text': \"There's nothing but...\"}, {'speaker': 'BRUCE', 'timestamp': '00:18:58', 'text': 'And you got a pregnant one.'}, {'speaker': 'SCOTT', 'timestamp': '00:19:00', 'text': \"It's not simple, I've come to realize.\"}, {'speaker': 'BRUCE', 'timestamp': '00:19:02', 'text': \"You're just realizing that now?\"}, {'speaker': 'SCOTT', 'timestamp': '00:19:04', 'text': 'She, I guess, asked me to go to some class that I thought I had no part in.'}, {'speaker': 'SCOTT', 'timestamp': '00:19:08', 'text': 'Breast-feeding?'}, {'speaker': 'SCOTT', 'timestamp': '00:19:09', 'text': \"I thought that's just her.\"}, {'speaker': 'SCOTT', 'timestamp': '00:19:11', 'text': 'What-what do I bring to the table in breast-feeding?'}, {'speaker': 'BRUCE', 'timestamp': '00:19:13', 'text': 'Support.'}, {'speaker': 'SCOTT', 'timestamp': '00:19:14', 'text': \"I mean, I want to be there for her and be sensitive, I've just never been this person before.\"}, {'speaker': 'BRUCE', 'timestamp': '00:19:19', 'text': 'Scott has really lived a very easy life.'}, {'speaker': 'BRUCE', 'timestamp': '00:19:22', 'text': \"He's been really very selfish and just kind of dealing with Scott.\"}, {'speaker': 'BRUCE', 'timestamp': '00:19:25', 'text': \"It's time to give a little bit of advice about being a father.\"}, {'speaker': 'BRUCE', 'timestamp': '00:19:28', 'text': \"You just got to realize that it's just not about you anymore.\"}, {'speaker': 'SCOTT', 'timestamp': '00:19:32', 'text': 'Yeah.'}, {'speaker': 'BRUCE', 'timestamp': '00:19:32', 'text': \"It's not about Kourtney anymore.\"}, {'speaker': 'BRUCE', 'timestamp': '00:19:34', 'text': \"It's about this family structure.\"}, {'speaker': 'BRUCE', 'timestamp': '00:19:36', 'text': \"It's easier now.\"}, {'speaker': 'BRUCE', 'timestamp': '00:19:37', 'text': 'Because when little guy comes...'}, {'speaker': 'SCOTT', 'timestamp': '00:19:40', 'text': \"It's a whole 'nother level.\"}, {'speaker': 'BRUCE', 'timestamp': '00:19:41', 'text': \"It's 24 hours a day, seven days a week, 365 days out of the year for the next 20 years of your life.\"}, {'speaker': 'SCOTT', 'timestamp': '00:19:47', 'text': \"I'm getting to realize that now.\"}, {'speaker': 'SCOTT', 'timestamp': '00:19:49', 'text': \"Being an only child, I never really did care too much about other people's needs.\"}, {'speaker': 'SCOTT', 'timestamp': '00:19:54', 'text': \"But I realize, I'm not the most important person anymore, and I can't be selfish.\"}, {'speaker': 'SCOTT', 'timestamp': '00:19:58', 'text': 'I need to think about my family.'}, {'speaker': 'BRUCE', 'timestamp': '00:19:59', 'text': 'All you can do right now is just dote on her, take care of her and just realize that this stage of pregnancy, you just got to get through it.'}, {'speaker': 'KOURTNEY', 'timestamp': '00:20:16', 'text': 'They came with me to look at the...'}, {'speaker': 'KHLOE', 'timestamp': '00:20:18', 'text': 'Yeah.'}, {'speaker': 'KHLOE', 'timestamp': '00:20:18', 'text': 'Kathy comes with us.'}, {'speaker': 'KIM', 'timestamp': '00:20:19', 'text': 'Yummy.'}, {'speaker': 'KHLOE', 'timestamp': '00:20:21', 'text': 'Hey, Rob.'}, {'speaker': 'KHLOE', 'timestamp': '00:20:22', 'text': \"Kourt, Kim and I decide that it's time to intervene on Rob with this whole Adrienne situation.\"}, {'speaker': 'KHLOE', 'timestamp': '00:20:28', 'text': \"Thank God you're here, because honestly you have a major problem.\"}, {'speaker': 'ROBERT', 'timestamp': '00:20:32', 'text': 'What did I do?'}, {'speaker': 'KHLOE', 'timestamp': '00:20:33', 'text': 'Uh, you are obsessed with Adrienne.'}, {'speaker': 'ROBERT', 'timestamp': '00:20:40', 'text': 'She understands how I am.'}, {'speaker': 'ROBERT', 'timestamp': '00:20:42', 'text': \"She doesn't think I'm crazy.\"}, {'speaker': 'KHLOE', 'timestamp': '00:20:43', 'text': \"Um, Robert, she definitely thinks you're crazy.\"}, {'speaker': 'KOURTNEY', 'timestamp': '00:20:46', 'text': \"Who wouldn't think someone's crazy if they call them that many times?\"}, {'speaker': 'KHLOE', 'timestamp': '00:20:49', 'text': 'This is an intervention, okay?'}, {'speaker': 'KHLOE', 'timestamp': '00:20:51', 'text': \"We're intervening.\"}, {'speaker': 'KOURTNEY', 'timestamp': '00:20:52', 'text': \"If Rob and Adrienne are meant to be together, they'll be.\"}, {'speaker': 'KOURTNEY', 'timestamp': '00:20:56', 'text': \"You don't need to try this hard.\"}, {'speaker': 'KOURTNEY', 'timestamp': '00:20:57', 'text': \"I'm over it now.\"}, {'speaker': 'KOURTNEY', 'timestamp': '00:20:58', 'text': 'Like, at first, I was like, \"Oh, cute, Rob and Adrienne.\" Like, I\\'m over it, okay?'}, {'speaker': 'KIM', 'timestamp': '00:21:02', 'text': 'She knows that you love her.'}, {'speaker': 'KIM', 'timestamp': '00:21:03', 'text': 'What else can you do?'}, {'speaker': 'KIM', 'timestamp': '00:21:04', 'text': \"There's nothing else you can do.\"}, {'speaker': 'ROBERT', 'timestamp': '00:21:06', 'text': \"The love that Adrienne and I had doesn't just go away overnight.\"}, {'speaker': 'ROBERT', 'timestamp': '00:21:10', 'text': \"It's just so frustrating that my own family doesn't even understand their own brother.\"}, {'speaker': 'ROBERT', 'timestamp': '00:21:14', 'text': \"I don't feel content and, like, at peace.\"}, {'speaker': 'ROBERT', 'timestamp': '00:21:17', 'text': \"I can't just drop everything and be cold turkey not talk to her anymore.\"}, {'speaker': 'KHLOE', 'timestamp': '00:21:20', 'text': \"Well, that's not gonna happen.\"}, {'speaker': 'KHLOE', 'timestamp': '00:21:22', 'text': 'She went back to New York.'}, {'speaker': 'KIM', 'timestamp': '00:21:23', 'text': \"She's in New York.\"}, {'speaker': 'ROBERT', 'timestamp': '00:21:23', 'text': \"Then if I have to go to New York, I'll go to New York.\"}, {'speaker': 'ROBERT', 'timestamp': '00:21:26', 'text': 'If I look like an idiot-- How much more stupid can I look?'}, {'speaker': 'KHLOE', 'timestamp': '00:21:28', 'text': \"You're just gonna go to her house?\"}, {'speaker': 'ROBERT', 'timestamp': '00:21:30', 'text': \"I'm gonna go try and make things right.\"}, {'speaker': 'KHLOE', 'timestamp': '00:21:32', 'text': 'You know, honestly, maybe you need to go to New York to open up your eyes that you guys are not meant to be.'}, {'speaker': 'ROBERT', 'timestamp': '00:21:37', 'text': \"Well, I don't agree with that.\"}, {'speaker': 'KHLOE', 'timestamp': '00:21:39', 'text': 'Enjoy Adrienne in New York, you freak of the week.'}, {'speaker': 'KIM', 'timestamp': '00:21:46', 'text': 'We should go and get her dress from the dry cleaners and hold it captive until she gives back the ATM card.'}, {'speaker': 'ROBERT', 'timestamp': '00:21:53', 'text': \"I've decided to fly back to New York to see Adrienne face-to-face.\"}, {'speaker': 'KRIS', 'timestamp': '00:21:57', 'text': \"Does she know you're coming?\"}, {'speaker': 'ROBERT', 'timestamp': '00:21:58', 'text': \"No, she doesn't.\"}, {'speaker': 'BRUCE', 'timestamp': '00:24:46', 'text': \"Where'd these cookies come from?\"}, {'speaker': 'KHLOE', 'timestamp': '00:24:48', 'text': \"They're Armenian cookies.\"}, {'speaker': 'BRUCE', 'timestamp': '00:24:50', 'text': \"What's the difference between, like, an American cookie and an Armenian cookie?\"}, {'speaker': 'KHLOE', 'timestamp': '00:24:54', 'text': 'An Armenian made them.'}, {'speaker': 'BRUCE', 'timestamp': '00:24:56', 'text': 'Oh, that makes them Armenian cookies?'}, {'speaker': 'KIM', 'timestamp': '00:24:58', 'text': 'Those pants-- I mean, are you a doctor?'}, {'speaker': 'BRUCE', 'timestamp': '00:25:00', 'text': 'Yeah.'}, {'speaker': 'KHLOE', 'timestamp': '00:25:01', 'text': 'I mean, do you have a washing machine?'}, {'speaker': 'KHLOE', 'timestamp': '00:25:02', 'text': \"They're filthy.\"}, {'speaker': 'BRUCE', 'timestamp': '00:25:03', 'text': \"They are, but I've been working all day, moving stuff for your mother.\"}, {'speaker': 'KHLOE', 'timestamp': '00:25:07', 'text': \"Don't you have any, like, balls?\"}, {'speaker': 'BRUCE', 'timestamp': '00:25:09', 'text': 'No, not with her.'}, {'speaker': 'KHLOE', 'timestamp': '00:25:10', 'text': 'Apparently not.'}, {'speaker': 'KHLOE', 'timestamp': '00:25:11', 'text': \"They're in the blender.\"}, {'speaker': 'KIM', 'timestamp': '00:25:11', 'text': 'Balls in a blender.'}, {'speaker': 'KHLOE', 'timestamp': '00:25:12', 'text': 'Balls in a blender.'}, {'speaker': 'KHLOE', 'timestamp': '00:25:14', 'text': 'Kris already has your balls in a blender.'}, {'speaker': 'BRUCE', 'timestamp': '00:25:16', 'text': 'I know.'}, {'speaker': 'BRUCE', 'timestamp': '00:25:17', 'text': 'Well, what are you gonna do?'}, {'speaker': 'BRUCE', 'timestamp': '00:25:18', 'text': \"I'm...  I'm scared of her!\"}, {'speaker': 'KHLOE', 'timestamp': '00:25:20', 'text': \"Honey, she's the one that walked in with a $5,000 all-black basic dress.\"}, {'speaker': 'KHLOE', 'timestamp': '00:25:25', 'text': 'Like, hello.'}, {'speaker': 'BRUCE', 'timestamp': '00:25:26', 'text': 'Really?'}, {'speaker': 'KHLOE', 'timestamp': '00:25:27', 'text': 'Yeah, $5,000 for one black gown.'}, {'speaker': 'KHLOE', 'timestamp': '00:25:30', 'text': \"It wasn't even special.\"}, {'speaker': 'BRUCE', 'timestamp': '00:25:32', 'text': 'Thousands of dollars she paid, for a dress!'}, {'speaker': 'BRUCE', 'timestamp': '00:25:35', 'text': 'Are you kidding me?!'}, {'speaker': 'KIM', 'timestamp': '00:25:37', 'text': \"We've got to get her back.\"}, {'speaker': 'KIM', 'timestamp': '00:25:38', 'text': \"I don't know how, but...\"}, {'speaker': 'BRUCE', 'timestamp': '00:25:42', 'text': 'Maybe I should trade in the dress or something, huh?'}, {'speaker': 'KIM ', 'timestamp': '00:25:44', 'text': 'Wait, I have the best idea!'}, {'speaker': 'KHLOE & BRUCE', 'timestamp': '00:25:47', 'text': 'What?'}, {'speaker': 'KIM', 'timestamp': '00:25:47', 'text': 'We should go and get her dress from the dry cleaners and hold it captive until she gives back the ATM card.'}, {'speaker': 'KIM', 'timestamp': '00:25:54', 'text': 'I really want to help Bruce get his financial freedom back.'}, {'speaker': 'KIM', 'timestamp': '00:25:58', 'text': \"He's worked so hard.\"}, {'speaker': 'KIM', 'timestamp': '00:25:59', 'text': \"There's no way that my mom should have control over the money.\"}, {'speaker': 'BRUCE', 'timestamp': '00:26:03', 'text': 'So we get her dress from the cleaners, and we hold her hostage.'}, {'speaker': 'BRUCE', 'timestamp': '00:26:07', 'text': \"I like it. I'm in.\"}, {'speaker': 'SCOTT', 'timestamp': '00:26:23', 'text': \"I'm gonna show Kourtney that I'm gonna be there for whatever she needs, whenever she needs it.\"}, {'speaker': 'KOURTNEY', 'timestamp': '00:26:40', 'text': 'Hey.'}, {'speaker': 'SCOTT', 'timestamp': '00:26:41', 'text': 'Hello, hello.'}, {'speaker': 'KOURTNEY', 'timestamp': '00:26:43', 'text': 'What are you doing?'}, {'speaker': 'SCOTT', 'timestamp': '00:26:44', 'text': 'Getting this room put together.'}, {'speaker': 'KOURTNEY', 'timestamp': '00:26:46', 'text': \"Oh, that's cute, with the animals there on the blanket.\"}, {'speaker': 'SCOTT', 'timestamp': '00:26:49', 'text': 'What about the whole crib is all done?'}, {'speaker': 'KOURTNEY', 'timestamp': '00:26:51', 'text': 'Oh, no way.'}, {'speaker': 'SCOTT', 'timestamp': '00:26:52', 'text': 'I never in a million years pictured myself putting a crib together.'}, {'speaker': 'SCOTT', 'timestamp': '00:26:57', 'text': \"I know that I'm doing it for my son, and I'm taking pride in it.\"}, {'speaker': 'KOURTNEY', 'timestamp': '00:27:01', 'text': \"It's so cute that you put those animals out here like that.\"}, {'speaker': 'SCOTT', 'timestamp': '00:27:04', 'text': 'Just wanted you to be happy.'}, {'speaker': 'KOURTNEY', 'timestamp': '00:27:06', 'text': 'Thank you.'}, {'speaker': 'KOURTNEY', 'timestamp': '00:27:07', 'text': 'It makes me happy.'}, {'speaker': 'KHLOE', 'timestamp': '00:27:21', 'text': 'Our mission is to teach Kris a lesson and give Bruce his balls back for life.'}, {'speaker': 'KHLOE', 'timestamp': '00:27:26', 'text': \"So, we're here.\"}, {'speaker': 'KIM', 'timestamp': '00:27:33', 'text': 'Hi. We are picking up a dress under \"Kris Jenner.\"'}, {'speaker': 'KIM', 'timestamp': '00:27:37', 'text': \"We're just gonna take this dress.\"}, {'speaker': 'KHLOE', 'timestamp': '00:27:39', 'text': 'Thank you.'}, {'speaker': 'KIM', 'timestamp': '00:27:39', 'text': 'You can charge it to her.'}, {'speaker': 'KHLOE', 'timestamp': '00:27:41', 'text': 'Yeah, charge it to her account. Bye.'}, {'speaker': 'KIM', 'timestamp': '00:27:43', 'text': 'Bye-bye.'}, {'speaker': 'KHLOE', 'timestamp': '00:27:44', 'text': 'Bruce, got it.'}, {'speaker': 'KHLOE', 'timestamp': '00:27:45', 'text': 'Come on.'}, {'speaker': 'KIM', 'timestamp': '00:27:46', 'text': 'Mission accomplished.'}, {'speaker': 'BRUCE', 'timestamp': '00:27:47', 'text': 'Right.'}, {'speaker': 'BRUCE', 'timestamp': '00:27:48', 'text': 'Should we wait here, or what?'}, {'speaker': 'KHLOE', 'timestamp': '00:27:50', 'text': \"Yeah, we're gonna wait here.\"}, {'speaker': 'KHLOE', 'timestamp': '00:27:52', 'text': \"She said she's on her way.\"}, {'speaker': 'BRUCE', 'timestamp': '00:27:53', 'text': \"I feel like it's, like, we're the cops.\"}, {'speaker': 'BRUCE', 'timestamp': '00:27:55', 'text': \"We're on stakeout.\"}, {'speaker': 'BRUCE', 'timestamp': '00:27:56', 'text': 'This is wonderful.'}, {'speaker': 'KHLOE', 'timestamp': '00:27:57', 'text': 'This is a stakeout.'}, {'speaker': 'BRUCE', 'timestamp': '00:27:58', 'text': 'This is the stakeout?'}, {'speaker': 'KHLOE', 'timestamp': '00:28:01', 'text': \"So, now that we're playing a waiting game...\"}, {'speaker': 'BRUCE', 'timestamp': '00:28:03', 'text': \"All right, I can't see.\"}, {'speaker': 'BRUCE', 'timestamp': '00:28:05', 'text': \"I'm gonna move up to the front seat.\"}, {'speaker': 'KHLOE', 'timestamp': '00:28:08', 'text': 'Oh, sorry.'}, {'speaker': 'BRUCE', 'timestamp': '00:28:13', 'text': 'All right, where is she?'}, {'speaker': 'BRUCE', 'timestamp': '00:28:15', 'text': 'And I think you should make...'}, {'speaker': 'BRUCE', 'timestamp': '00:28:16', 'text': 'Oh, you got the phone call already?'}, {'speaker': 'KHLOE', 'timestamp': '00:28:18', 'text': 'Yeah.'}, {'speaker': 'BRUCE', 'timestamp': '00:28:19', 'text': 'Okay.'}, {'speaker': 'KHLOE', 'timestamp': '00:28:20', 'text': 'Come on, Kris.'}, {'speaker': 'BRUCE', 'timestamp': '00:28:22', 'text': 'Come on, Kris.'}, {'speaker': 'KHLOE', 'timestamp': '00:28:25', 'text': \"Here we are at a stakeout, and literally it's been an hour, Kris is still not here, my ass is numb-- I mean, being a spy is really hard.\"}, {'speaker': 'BRUCE', 'timestamp': '00:28:37', 'text': \"There... she's parking.\"}, {'speaker': 'KHLOE', 'timestamp': '00:28:39', 'text': 'Oh... yeah.'}, {'speaker': 'KHLOE', 'timestamp': '00:28:41', 'text': \"You don't need to show 'em that.\"}, {'speaker': 'BRUCE', 'timestamp': '00:28:52', 'text': 'All right, call her.'}, {'speaker': 'BRUCE', 'timestamp': '00:28:53', 'text': 'Now.'}, {'speaker': 'KRIS ', 'timestamp': '00:28:55', 'text': 'Hello?'}, {'speaker': 'KHLOE', 'timestamp': '00:29:02', 'text': 'Kris Jenner...'}, {'speaker': 'KHLOE', 'timestamp': '00:29:04', 'text': 'we have taken your dress from the cleaners.'}, {'speaker': 'KHLOE', 'timestamp': '00:29:08', 'text': 'If you want it back wrinkle-free, you will listen to the following instructions.'}, {'speaker': 'KHLOE', 'timestamp': '00:29:13', 'text': 'Do you hear me?'}, {'speaker': 'KHLOE', 'timestamp': '00:29:14', 'text': 'Get in the vehicle.'}, {'speaker': 'KHLOE', 'timestamp': '00:29:15', 'text': 'Make sure you are not followed.'}, {'speaker': 'KHLOE', 'timestamp': '00:29:17', 'text': 'Meet us at the 76 gas station on the corner.'}, {'speaker': 'KHLOE', 'timestamp': '00:29:20', 'text': 'Meet us there.'}, {'speaker': 'KIM', 'timestamp': '00:29:21', 'text': 'Pronto, Tonto.'}, {'speaker': 'KRIS', 'timestamp': '00:29:22', 'text': \"Khloe, I don't have time to dillydally and play these stupid games...\"}, {'speaker': 'KHLOE', 'timestamp': '00:29:24', 'text': \"Well, we don't have time to constantly give Bruce money.\"}, {'speaker': 'KIM', 'timestamp': '00:29:27', 'text': 'Over and out.'}, {'speaker': 'KIM', 'timestamp': '00:29:28', 'text': 'Be there in five.'}, {'speaker': 'KHLOE', 'timestamp': '00:29:29', 'text': 'Over and out.'}, {'speaker': 'KHLOE', 'timestamp': '00:29:30', 'text': 'Be there in five.'}, {'speaker': 'KHLOE', 'timestamp': '00:29:30', 'text': 'If not, this dress is losing an entire inch off the bottom.'}, {'speaker': 'KHLOE', 'timestamp': '00:29:34', 'text': 'Seriously?'}, {'speaker': 'KHLOE', 'timestamp': '00:29:35', 'text': 'Oh, my God, does she sound pissed.'}, {'speaker': 'KHLOE', 'timestamp': '00:29:40', 'text': 'Now we have to rush back to the house and hide the dress before Kris comes home.'}, {'speaker': 'KHLOE', 'timestamp': '00:29:51', 'text': 'Get the dress.'}, {'speaker': 'KHLOE', 'timestamp': '00:29:52', 'text': \"We've got to hide it before Mom gets home.\"}, {'speaker': 'KIM', 'timestamp': '00:29:54', 'text': 'All right, I got it.'}, {'speaker': 'KHLOE', 'timestamp': '00:29:55', 'text': 'Come on.'}, {'speaker': 'BRUCE', 'timestamp': '00:29:56', 'text': 'You got to be kidding me.'}, {'speaker': 'KRIS', 'timestamp': '00:29:58', 'text': 'Hello?'}, {'speaker': 'KHLOE', 'timestamp': '00:29:59', 'text': 'Mission aborted.'}, {'speaker': 'KHLOE', 'timestamp': '00:30:01', 'text': 'You may now go to your house now.'}, {'speaker': 'KIM', 'timestamp': '00:30:04', 'text': 'We are waiting.'}, {'speaker': 'KRIS', 'timestamp': '00:30:05', 'text': 'What do you need?'}, {'speaker': 'KIM', 'timestamp': '00:30:06', 'text': 'Bring a wad of cash.'}, {'speaker': 'KHLOE', 'timestamp': '00:30:07', 'text': 'I just hung up on her.'}, {'speaker': 'KHLOE', 'timestamp': '00:30:09', 'text': \"Okay, now let's wait it out.\"}, {'speaker': 'BRUCE', 'timestamp': '00:30:12', 'text': \"We'll just wait it out-- she'll come back.\"}, {'speaker': 'KHLOE', 'timestamp': '00:30:14', 'text': 'I need Midol.'}, {'speaker': 'BRUCE ', 'timestamp': '00:30:16', 'text': \"All right, I'll wait down here.\"}, {'speaker': 'BRUCE ', 'timestamp': '00:30:20', 'text': \"My God, she's gonna kill me.\"}, {'speaker': 'KHLOE', 'timestamp': '00:30:39', 'text': \"No, we're not nervous.\"}, {'speaker': 'BRUCE', 'timestamp': '00:30:40', 'text': \"I'm the one that's gonna catch hell for this.\"}, {'speaker': 'KIM', 'timestamp': '00:30:41', 'text': 'Why are we nervous?'}, {'speaker': 'KIM', 'timestamp': '00:30:42', 'text': 'What do we care?'}, {'speaker': 'KHLOE', 'timestamp': '00:30:43', 'text': \"We're gonna cut the  out of that dress if she tries to pull any crap with us.\"}, {'speaker': 'BRUCE', 'timestamp': '00:30:47', 'text': \"We've got her driving all over town.\"}, {'speaker': 'KHLOE & KIM', 'timestamp': '00:30:49', 'text': 'Who cares?'}, {'speaker': 'KIM', 'timestamp': '00:30:50', 'text': 'She stole your ATM card.'}, {'speaker': 'KHLOE', 'timestamp': '00:30:51', 'text': \"This is why you're a little be-yotch and she has your balls in a... in a device.\"}, {'speaker': 'KHLOE', 'timestamp': '00:30:56', 'text': 'In a thing.'}, {'speaker': 'BRUCE', 'timestamp': '00:30:57', 'text': 'A vice.'}, {'speaker': 'BRUCE', 'timestamp': '00:30:57', 'text': \"It's called a vice.\"}, {'speaker': 'KHLOE', 'timestamp': '00:30:58', 'text': 'Okay, a vice.'}, {'speaker': 'BRUCE', 'timestamp': '00:30:59', 'text': 'There you go.'}, {'speaker': 'BRUCE', 'timestamp': '00:31:00', 'text': 'You got it.'}, {'speaker': 'KOURTNEY', 'timestamp': '00:31:01', 'text': 'Why are you scared of her?'}, {'speaker': 'BRUCE', 'timestamp': '00:31:03', 'text': \"I'm scared to death of her.\"}, {'speaker': 'KHLOE', 'timestamp': '00:31:05', 'text': 'Do you even have a saus-eege anymore, or did she cut it off?'}, {'speaker': 'BRUCE ', 'timestamp': '00:31:08', 'text': \"Eh, what's left of it.\"}, {'speaker': 'KRIS', 'timestamp': '00:31:20', 'text': 'Are you guys serious?'}, {'speaker': 'KRIS', 'timestamp': '00:31:22', 'text': \"Where's my dress?\"}, {'speaker': 'KRIS', 'timestamp': '00:31:23', 'text': \"Listen, I've been... I have things to do.\"}, {'speaker': 'KRIS', 'timestamp': '00:31:25', 'text': \"I can't play scavenger hunt all day long.\"}, {'speaker': 'KRIS', 'timestamp': '00:31:28', 'text': 'I need my dress, because...'}, {'speaker': 'BRUCE', 'timestamp': '00:31:29', 'text': 'Hold it! Hold it!'}, {'speaker': 'BRUCE', 'timestamp': '00:31:31', 'text': 'Everybody stop! Hold it!'}, {'speaker': 'BRUCE', 'timestamp': '00:31:34', 'text': 'Bitch, I want my damn ATM card!'}, {'speaker': 'KRIS', 'timestamp': '00:31:39', 'text': 'If this is what you really want to do, and if this is what you think is gonna get her to respond to you, then I think you should go.'}, {'speaker': 'KIM', 'timestamp': '00:31:47', 'text': \"So, what's, like, your plan?\"}, {'speaker': 'ROBERT', 'timestamp': '00:31:49', 'text': \"I'll probably hit her up when I'm out there.\"}, {'speaker': 'KIM', 'timestamp': '00:31:51', 'text': \"I'm just afraid if you go to New York, you'll come back hurt.\"}, {'speaker': 'KIM', 'timestamp': '00:32:53', 'text': 'more butt up to 11% more for your hamstrings and calves, and 0% will know the reason is on your feet.'}, {'speaker': 'KIM', 'timestamp': '00:33:02', 'text': 'Reebok easytone with balance-ball-inspired technology.'}, {'speaker': 'KIM', 'timestamp': '00:33:04', 'text': 'Better legs and a better buttwith every step.'}, {'speaker': 'KIM', 'timestamp': '00:34:26', 'text': 'S it happen.'}, {'speaker': 'KIM', 'timestamp': '00:34:30', 'text': 'it.'}, {'speaker': 'KIM', 'timestamp': '00:34:30', 'text': 'Bitch, I want my damn ATM card!'}, {'speaker': 'KHLOE', 'timestamp': '00:34:33', 'text': 'Yeah, be-yotch!'}, {'speaker': 'BRUCE', 'timestamp': '00:34:34', 'text': 'Was that good?'}, {'speaker': 'BRUCE', 'timestamp': '00:34:37', 'text': 'Was that good?'}, {'speaker': 'KRIS', 'timestamp': '00:34:37', 'text': \"It's not funny.\"}, {'speaker': 'KRIS', 'timestamp': '00:34:38', 'text': 'Give me my dress.'}, {'speaker': 'BRUCE', 'timestamp': '00:34:39', 'text': 'Was I standing up to her?'}, {'speaker': 'KRIS', 'timestamp': '00:34:41', 'text': 'Give me my dress.'}, {'speaker': 'BRUCE', 'timestamp': '00:34:42', 'text': 'I want...'}, {'speaker': 'BRUCE', 'timestamp': '00:34:42', 'text': \"Where's the ATM card?\"}, {'speaker': 'KHLOE', 'timestamp': '00:34:43', 'text': \"Oh, he's mad now.\"}, {'speaker': 'BRUCE', 'timestamp': '00:34:44', 'text': 'Get my card. Come on!'}, {'speaker': 'KRIS', 'timestamp': '00:34:46', 'text': 'If you give me the dress first.'}, {'speaker': 'BRUCE', 'timestamp': '00:34:47', 'text': \"See? Wasn't I good?\"}, {'speaker': 'BRUCE', 'timestamp': '00:34:48', 'text': \"Didn't I stand up to her?\"}, {'speaker': 'KRIS', 'timestamp': '00:34:49', 'text': \"You know, you're ridiculous...\"}, {'speaker': 'BRUCE', 'timestamp': '00:34:50', 'text': \"Where's the ATM card?\"}, {'speaker': 'KRIS', 'timestamp': '00:34:51', 'text': \"No. Give me the dress, and I'll give you the card.\"}, {'speaker': 'KIM', 'timestamp': '00:34:53', 'text': 'No, give him the card...'}, {'speaker': 'KHLOE', 'timestamp': '00:34:55', 'text': \"Bruce, don't you dare put those balls back in that vice, Bruce.\"}, {'speaker': 'KRIS', 'timestamp': '00:34:59', 'text': 'This family is so dysfunctional.'}, {'speaker': 'KRIS', 'timestamp': '00:35:01', 'text': \"We're fighting over a $4,000 Chanel dress.\"}, {'speaker': 'KRIS', 'timestamp': '00:35:03', 'text': \"Where's the dress?\"}, {'speaker': 'BRUCE', 'timestamp': '00:35:04', 'text': 'Show me...'}, {'speaker': 'KRIS', 'timestamp': '00:35:05', 'text': 'Just show me where the dress is.'}, {'speaker': 'BRUCE', 'timestamp': '00:35:06', 'text': 'You got to find it.'}, {'speaker': 'KIM', 'timestamp': '00:35:07', 'text': 'Look for it...'}, {'speaker': 'KHLOE', 'timestamp': '00:35:08', 'text': 'Go look for it...'}, {'speaker': 'KRIS', 'timestamp': '00:35:09', 'text': 'Really?'}, {'speaker': 'KRIS', 'timestamp': '00:35:10', 'text': \"Oh, now I'm on another one of your little scavenger hunts?\"}, {'speaker': 'KRIS', 'timestamp': '00:35:14', 'text': 'You go to the cleaners and hijack my dress?'}, {'speaker': 'KRIS', 'timestamp': '00:35:16', 'text': 'You guys are out of your minds.'}, {'speaker': 'KRIS', 'timestamp': '00:35:18', 'text': 'No wonder I drink.'}, {'speaker': 'KIM', 'timestamp': '00:35:19', 'text': 'Your yappity voice is giving me a headache!'}, {'speaker': 'BRUCE', 'timestamp': '00:35:20', 'text': \"Show me the ATM, and I'll show you where the dress is.\"}, {'speaker': 'KRIS', 'timestamp': '00:35:23', 'text': \"No. This isn't funny.\"}, {'speaker': 'BRUCE', 'timestamp': '00:35:24', 'text': \"Give me the card, and I'll give you hints.\"}, {'speaker': 'BRUCE', 'timestamp': '00:35:26', 'text': 'Give me the card.'}, {'speaker': 'BRUCE', 'timestamp': '00:35:27', 'text': 'Give me the card.'}, {'speaker': 'KRIS', 'timestamp': '00:35:28', 'text': 'Stop it.'}, {'speaker': 'KRIS', 'timestamp': '00:35:28', 'text': \"You're really annoying.\"}, {'speaker': 'BRUCE', 'timestamp': '00:35:29', 'text': 'Card. Card. Card.'}, {'speaker': 'KRIS', 'timestamp': '00:35:30', 'text': \"This isn't getting old.\"}, {'speaker': 'KRIS', 'timestamp': '00:35:32', 'text': 'Bruce, come on.'}, {'speaker': 'BRUCE', 'timestamp': '00:35:33', 'text': 'Give me the card.'}, {'speaker': 'KRIS', 'timestamp': '00:35:33', 'text': \"No. Where's the dress?\"}, {'speaker': 'BRUCE', 'timestamp': '00:35:35', 'text': 'First of all, here you go-- honey, honey, honey...'}, {'speaker': 'KRIS', 'timestamp': '00:35:37', 'text': 'What? What?'}, {'speaker': 'BRUCE', 'timestamp': '00:35:37', 'text': '...honey, stop, stop.'}, {'speaker': 'BRUCE', 'timestamp': '00:35:39', 'text': \"Here's the deal, okay?\"}, {'speaker': 'KRIS', 'timestamp': '00:35:40', 'text': 'Yeah.'}, {'speaker': 'BRUCE', 'timestamp': '00:35:40', 'text': \"If I'm cutting back, you're cutting back, too.\"}, {'speaker': 'BRUCE', 'timestamp': '00:35:43', 'text': \"Okay? It's just fair.\"}, {'speaker': 'KRIS', 'timestamp': '00:35:44', 'text': \"Where's my dress?\"}, {'speaker': 'BRUCE', 'timestamp': '00:35:45', 'text': \"Give me the ATM, and I'll show you where the dress is.\"}, {'speaker': 'KRIS', 'timestamp': '00:35:48', 'text': \"I'll give you the ATM card at the same time you hand me my dress.\"}, {'speaker': 'KRIS', 'timestamp': '00:35:52', 'text': \"I'm not handing over the ATM card...\"}, {'speaker': 'BRUCE', 'timestamp': '00:35:54', 'text': 'I want to see the ATM card.'}, {'speaker': 'KRIS', 'timestamp': '00:35:55', 'text': 'I want to see the dress-- and it better be in perfect condition.'}, {'speaker': 'BRUCE', 'timestamp': '00:35:59', 'text': 'All right.'}, {'speaker': 'BRUCE', 'timestamp': '00:36:00', 'text': \"Here's the deal.\"}, {'speaker': 'BRUCE', 'timestamp': '00:36:01', 'text': \"There's the dress.\"}, {'speaker': 'KRIS', 'timestamp': '00:36:02', 'text': 'Mm-hmm.'}, {'speaker': 'BRUCE', 'timestamp': '00:36:03', 'text': 'Okay?'}, {'speaker': 'KRIS', 'timestamp': '00:36:04', 'text': 'Okay.'}, {'speaker': 'BRUCE', 'timestamp': '00:36:05', 'text': \"There's the dress, and... where's the ATM card?\"}, {'speaker': 'KRIS', 'timestamp': '00:36:07', 'text': 'Is it wrinkled?'}, {'speaker': 'BRUCE', 'timestamp': '00:36:08', 'text': \"No, it's not wrinkled at all.\"}, {'speaker': 'BRUCE', 'timestamp': '00:36:10', 'text': 'Ooh, there it is, huh?'}, {'speaker': 'BRUCE', 'timestamp': '00:36:11', 'text': \"Okay, I'll tell you what?\"}, {'speaker': 'BRUCE', 'timestamp': '00:36:13', 'text': 'Ready?'}, {'speaker': 'KRIS', 'timestamp': '00:36:14', 'text': 'Just give me...'}, {'speaker': 'KRIS', 'timestamp': '00:36:15', 'text': 'give me the dress.'}, {'speaker': 'KRIS', 'timestamp': '00:36:16', 'text': 'No, at the same time.'}, {'speaker': 'BRUCE', 'timestamp': '00:36:17', 'text': \"That's right, put it out.\"}, {'speaker': 'KRIS', 'timestamp': '00:36:19', 'text': 'You better give it to me.'}, {'speaker': 'BRUCE', 'timestamp': '00:36:20', 'text': 'I will.'}, {'speaker': 'BRUCE', 'timestamp': '00:36:21', 'text': \"It's right here.\"}, {'speaker': 'KRIS', 'timestamp': '00:36:22', 'text': 'Swear? Swear?'}, {'speaker': 'BRUCE', 'timestamp': '00:36:23', 'text': 'Right here.'}, {'speaker': 'BRUCE', 'timestamp': '00:36:25', 'text': 'Fair deal. All right.'}, {'speaker': 'KRIS', 'timestamp': '00:36:26', 'text': 'All right.'}, {'speaker': 'BRUCE', 'timestamp': '00:36:26', 'text': \"I'm gonna go to the hobby store. See ya.\"}, {'speaker': 'KHLOE', 'timestamp': '00:36:29', 'text': 'Yay!'}, {'speaker': 'KHLOE', 'timestamp': '00:36:31', 'text': 'Whoo! Yay!'}, {'speaker': 'KIM', 'timestamp': '00:36:32', 'text': 'You got your card!'}, {'speaker': 'BRUCE', 'timestamp': '00:36:34', 'text': 'Good work, girls!'}, {'speaker': 'BRUCE', 'timestamp': '00:36:35', 'text': 'Good work! All right! Good work!'}, {'speaker': 'KRIS', 'timestamp': '00:36:37', 'text': \"Don't get so excited-- it has a $2,000 limit!\"}, {'speaker': 'ROBERT', 'timestamp': '00:36:55', 'text': \"I've decided to fly back to New York to see Adrienne face-to-face and just tell her how I feel, and I know I've told her that hundreds of times, but to really show her and go to her door.\"}, {'speaker': 'ROBERT', 'timestamp': '00:37:06', 'text': \"I don't want her to move on and start a whole new relationship and forget what we had.\"}, {'speaker': 'KRIS', 'timestamp': '00:37:14', 'text': \"Does she know you're coming?\"}, {'speaker': 'ROBERT', 'timestamp': '00:37:16', 'text': \"No, she doesn't.\"}, {'speaker': 'KRIS', 'timestamp': '00:37:17', 'text': \"What are you going to do, you're just going to show up?\"}, {'speaker': 'ROBERT', 'timestamp': '00:37:21', 'text': \"Yeah, I'm going to show up, Mom, and I'm going to try and make things right instead of just sitting here and being miserable every single day and...\"}, {'speaker': 'KRIS', 'timestamp': '00:37:29', 'text': 'I know you are, Rob.'}, {'speaker': 'ROBERT', 'timestamp': '00:37:30', 'text': \"And it's not...\"}, {'speaker': 'ROBERT', 'timestamp': '00:37:31', 'text': \"It's not okay, so...\"}, {'speaker': 'KRIS', 'timestamp': '00:37:32', 'text': 'If this is what you really want to do, and if this is what you think is going to get her to respond to you, then I think you should go.'}, {'speaker': 'ROBERT', 'timestamp': '00:37:39', 'text': \"I believe that she's the one for me, I truly do.\"}, {'speaker': 'ROBERT', 'timestamp': '00:37:42', 'text': \"And so, you know, I'm a big believer in that.\"}, {'speaker': 'KRIS', 'timestamp': '00:37:46', 'text': 'I think that you should go tell her how you feel so that you know that you did everything you could to see if this could work out.'}, {'speaker': 'KRIS', 'timestamp': '00:37:54', 'text': 'Rob\\'s always telling Adrienne, \"I love you,\" and \"I miss you,\" and, \"I\\'m sorry.\" Well, okay, get on the plane and go get your girl.'}, {'speaker': 'KRIS', 'timestamp': '00:38:02', 'text': 'I really do, Rob.'}, {'speaker': 'KRIS', 'timestamp': '00:38:03', 'text': \"I think you're doing the right thing.\"}, {'speaker': 'KOURTNEY', 'timestamp': '00:38:19', 'text': 'Scott and I go to a Lamaze class together.'}, {'speaker': 'TEACHER', 'timestamp': '00:38:23', 'text': \"Back labor is when the baby's back of the head is pushing on your maternal spine.\"}, {'speaker': 'TEACHER', 'timestamp': '00:38:28', 'text': \"So I'm going to demonstrate.\"}, {'speaker': 'TEACHER', 'timestamp': '00:38:29', 'text': 'Got your tennis ball?'}, {'speaker': 'TEACHER', 'timestamp': '00:38:31', 'text': 'Tell me if this hurts, okay?'}, {'speaker': 'TEACHER', 'timestamp': '00:38:32', 'text': 'But it should feel nice.'}, {'speaker': 'TEACHER', 'timestamp': '00:38:33', 'text': \"You're going to get in there.\"}, {'speaker': 'SCOTT', 'timestamp': '00:38:34', 'text': 'Of course.'}, {'speaker': 'TEACHER', 'timestamp': '00:38:35', 'text': \"All across and you're going to give as much pressure with that ball as she says.\"}, {'speaker': 'TEACHER', 'timestamp': '00:38:49', 'text': 'Everything is gentle in and gentle out.'}, {'speaker': 'TEACHER', 'timestamp': '00:38:57', 'text': 'So I want you to take a deep breath through your nose.'}, {'speaker': 'TEACHER', 'timestamp': '00:39:03', 'text': 'Open your mouth and relax it.'}, {'speaker': 'KOURTNEY', 'timestamp': '00:39:14', 'text': \"I believe that everything's going to be okay.\"}, {'speaker': 'KOURTNEY', 'timestamp': '00:39:16', 'text': \"We're both totally on the same page now, and just moving forward in the right direction.\"}, {'speaker': 'KIM', 'timestamp': '00:39:41', 'text': \"So, what's, like, your plan?\"}, {'speaker': 'KIM', 'timestamp': '00:39:44', 'text': 'Like, where are you going to stay?'}, {'speaker': 'ROBERT', 'timestamp': '00:39:46', 'text': 'When I get there, I\\'m just going to go get a hotel room and, uh, I\\'ll probably hit her up when I\\'m out there, and just let her know, like, \"Look, I\\'m out here.'}, {'speaker': 'ROBERT', 'timestamp': '00:39:54', 'text': 'I came out here to see you, and like, I\\'m being for real.\"'}, {'speaker': 'ROBERT', 'timestamp': '00:40:01', 'text': \"As much as I don't agree with Rob going to New York, I really get what Rob is going through because I used to go and fly to see Reggie when we were broken up.\"}, {'speaker': 'ROBERT', 'timestamp': '00:40:10', 'text': \"He's my little brother.\"}, {'speaker': 'ROBERT', 'timestamp': '00:40:11', 'text': \"I'm going to support him no matter what.\"}, {'speaker': 'KIM', 'timestamp': '00:40:13', 'text': 'Hey, okay.'}, {'speaker': 'KIM', 'timestamp': '00:40:18', 'text': 'I am just taking Rob to the airport.'}, {'speaker': 'KIM', 'timestamp': '00:40:21', 'text': \"I'm going to call you as soon as I'm done.\"}, {'speaker': 'KIM', 'timestamp': '00:40:23', 'text': 'Bye.'}, {'speaker': 'ROBERT', 'timestamp': '00:40:25', 'text': 'I just got this email from Adrienne.'}, {'speaker': 'KIM', 'timestamp': '00:40:27', 'text': 'What?'}, {'speaker': 'KIM', 'timestamp': '00:40:28', 'text': 'What does it say?'}, {'speaker': 'ROBERT', 'timestamp': '00:40:29', 'text': 'Wait, pull over.'}, {'speaker': 'ROBERT', 'timestamp': '00:40:30', 'text': 'All of a sudden, I get an email.'}, {'speaker': 'KIM', 'timestamp': '00:40:33', 'text': \"What's going on?\"}, {'speaker': 'KIM', 'timestamp': '00:40:34', 'text': 'Why are you making me pull over?'}, {'speaker': 'ROBERT', 'timestamp': '00:40:35', 'text': \"Because I just got an email that's from her.[ Female Announcer ] We were learned regenerist beat the $100 cream.\"}, {'speaker': 'ROBERT', 'timestamp': '00:40:47', 'text': 'Floored when we whipped the $350 cream.'}, {'speaker': 'ROBERT', 'timestamp': '00:40:50', 'text': 'And finally, flabbergasted when we creamed the $700 cream!'}, {'speaker': 'ROBERT', 'timestamp': '00:40:55', 'text': \"For under $30 olay regenerist micro-sculpting cream, according to a european independent study, hydrates better and longer than 32 of the world's most expensive creams.\"}, {'speaker': 'ROBERT', 'timestamp': '00:41:05', 'text': 'Fantastic. phenomenal.'}, {'speaker': 'ROBERT', 'timestamp': '00:41:08', 'text': 'Olay regenerist.'}, {'speaker': 'ROBERT', 'timestamp': '00:41:09', 'text': \"Love the skin you're in.\"}, {'speaker': 'ROBERT', 'timestamp': '00:41:10', 'text': 'For hundreds and hundreds less.'}, {'speaker': 'ROBERT', 'timestamp': '00:43:17', 'text': 'I just got this email from Adrienne.'}, {'speaker': 'KIM', 'timestamp': '00:43:19', 'text': 'What?'}, {'speaker': 'KIM', 'timestamp': '00:43:20', 'text': 'What does it say?'}, {'speaker': 'ROBERT', 'timestamp': '00:43:21', 'text': 'Wait, pull over.'}, {'speaker': 'KIM', 'timestamp': '00:43:22', 'text': \"What's going on?\"}, {'speaker': 'KIM', 'timestamp': '00:43:23', 'text': 'Why are you making me pull over?'}, {'speaker': 'ROBERT', 'timestamp': '00:43:24', 'text': \"Because I just got an email that's from her.\"}, {'speaker': 'ROBERT', 'timestamp': '00:43:28', 'text': '\"Don\\'t take this email the wrong way, but this is from the new man in her life.\"'}, {'speaker': 'ROBERT', 'timestamp': '00:43:33', 'text': 'Yeah.'}, {'speaker': 'ROBERT', 'timestamp': '00:43:34', 'text': '\"We\\'re trying to start off on the right note and you\\'re really not making it easy.'}, {'speaker': 'ROBERT', 'timestamp': '00:43:38', 'text': \"Her Blackberry goes off every minute and it's you almost every time.\"}, {'speaker': 'ROBERT', 'timestamp': '00:43:43', 'text': \"I can't imagine what you guys really have to discuss after all this time.\"}, {'speaker': 'ROBERT', 'timestamp': '00:43:47', 'text': \"It's honestly annoying and unhealthy for our relationship.\"}, {'speaker': 'ROBERT', 'timestamp': '00:43:49', 'text': \"I respect what you guys had in the past, but according to her, it's clearly over.\"}, {'speaker': 'ROBERT', 'timestamp': '00:43:55', 'text': 'Thanks, Dogs1.\"'}, {'speaker': 'ROBERT', 'timestamp': '00:44:02', 'text': \"I'm turning around.\"}, {'speaker': 'ROBERT', 'timestamp': '00:44:03', 'text': \"Like, you're not even going to New York.\"}, {'speaker': 'ROBERT', 'timestamp': '00:44:05', 'text': \"I'm sorry.\"}, {'speaker': 'ROBERT', 'timestamp': '00:44:06', 'text': 'You just...'}, {'speaker': 'KIM', 'timestamp': '00:44:07', 'text': 'On our way to the airport, on our way to the airport, you get an email from him, like, \"Sorry.\" But this isn\\'t the biggest sign?'}, {'speaker': 'ROBERT', 'timestamp': '00:44:14', 'text': \"I've done every single thing.\"}, {'speaker': 'ROBERT', 'timestamp': '00:44:17', 'text': \"I've made myself look like an idiot.\"}, {'speaker': 'ROBERT', 'timestamp': '00:44:19', 'text': 'I made myself, you know...'}, {'speaker': 'KIM', 'timestamp': '00:44:21', 'text': \"And that's what you do for someone that you love.\"}, {'speaker': 'KIM', 'timestamp': '00:44:23', 'text': \"You do it and if you've tried everything you can, and they're not, you know, giving you back what you need in return...\"}, {'speaker': 'ROBERT', 'timestamp': '00:44:30', 'text': 'And it sucks.'}, {'speaker': 'KIM', 'timestamp': '00:44:31', 'text': \"After you've tried everything, then now you know you have to move on.\"}, {'speaker': 'KIM', 'timestamp': '00:44:34', 'text': 'And this was the biggest sign ever.'}, {'speaker': 'ROBERT', 'timestamp': '00:44:36', 'text': \"As hard as it is to let go of the love of my life, I needed to learn that cheating isn't acceptable.\"}, {'speaker': 'ROBERT', 'timestamp': '00:44:42', 'text': \"I'll never, ever do this to my wife, to my future girlfriend.\"}, {'speaker': 'ROBERT', 'timestamp': '00:44:45', 'text': \"It sucks so much and I'm, like, in so much pain, but I have to move on and it just... sucks.\"}, {'speaker': 'ROBERT', 'timestamp': '00:44:53', 'text': 'I just...'}, {'speaker': 'ROBERT', 'timestamp': '00:44:54', 'text': \"I'm, like...\"}, {'speaker': 'ROBERT', 'timestamp': '00:44:57', 'text': \"I just can't believe that, like, I loved her so much.\"}, {'speaker': 'BRUCE', 'timestamp': '00:45:19', 'text': \"All right, we're here.\"}, {'speaker': 'KRIS', 'timestamp': '00:45:34', 'text': 'Okay, show me your fabulous toy store, honey.'}, {'speaker': 'BRUCE', 'timestamp': '00:45:39', 'text': 'Come on.'}, {'speaker': 'KRIS', 'timestamp': '00:45:40', 'text': 'I feel really bad.'}, {'speaker': 'KRIS', 'timestamp': '00:45:41', 'text': \"I really didn't look at the big picture of Bruce's spending, so I have the perfect way to make this whole thing up to Bruce.\"}, {'speaker': 'BRUCE', 'timestamp': '00:45:49', 'text': \"I'm very excited about this.\"}, {'speaker': 'BRUCE', 'timestamp': '00:45:51', 'text': \"Don't dampen my enthusiasm.\"}, {'speaker': 'BRUCE', 'timestamp': '00:45:52', 'text': \"It's like a good pair of Manolo Blahniks.\"}, {'speaker': 'KRIS', 'timestamp': '00:45:55', 'text': 'Knock yourself out.'}, {'speaker': 'BRUCE', 'timestamp': '00:45:56', 'text': 'Think of it that way.'}, {'speaker': 'BRUCE', 'timestamp': '00:45:58', 'text': 'We need that in the house.'}, {'speaker': 'BRUCE', 'timestamp': '00:45:59', 'text': 'The kids would like that.'}, {'speaker': 'KRIS', 'timestamp': '00:46:00', 'text': \"No, we don't need that in the house.\"}, {'speaker': 'KRIS', 'timestamp': '00:46:02', 'text': 'Okay, show me what the 700 looks like.'}, {'speaker': 'BRUCE', 'timestamp': '00:46:04', 'text': 'Well, there it is, honey.'}, {'speaker': 'KRIS', 'timestamp': '00:46:06', 'text': \"It's beautiful.\"}, {'speaker': 'BRUCE', 'timestamp': '00:46:07', 'text': \"And you're buying it for me.\"}, {'speaker': 'KRIS', 'timestamp': '00:46:09', 'text': 'Okay, great.'}, {'speaker': 'KRIS', 'timestamp': '00:46:09', 'text': \"I'm happy to do that.\"}, {'speaker': 'KRIS', 'timestamp': '00:46:10', 'text': 'All right, so how much is this helicopter?'}, {'speaker': 'CLERK', 'timestamp': '00:46:13', 'text': 'Close to $3,000.'}, {'speaker': 'CLERK', 'timestamp': '00:46:16', 'text': 'Mm-hmm.'}, {'speaker': 'CLERK', 'timestamp': '00:46:18', 'text': 'Yeah.'}, {'speaker': 'KRIS', 'timestamp': '00:46:19', 'text': 'For this-- For this toy?'}, {'speaker': 'BRUCE', 'timestamp': '00:46:21', 'text': \"Well, it's not a toy, honey, this is a very sophisticated piece of equipment.\"}, {'speaker': 'BRUCE', 'timestamp': '00:46:25', 'text': 'I mean, this is like what the pros use.'}, {'speaker': 'KRIS', 'timestamp': '00:46:27', 'text': 'There you go, honey.'}, {'speaker': 'BRUCE', 'timestamp': '00:46:28', 'text': 'Throw it down.'}, {'speaker': 'KRIS', 'timestamp': '00:46:29', 'text': 'Have a good time.'}, {'speaker': 'BRUCE', 'timestamp': '00:46:30', 'text': 'Thanks.'}, {'speaker': 'KRIS', 'timestamp': '00:46:31', 'text': 'You work really hard and you deserve to have what you want and to have fun in life and this is your hobby, so go for it.'}, {'speaker': 'KRIS', 'timestamp': '00:46:38', 'text': \"I think it's cool.\"}, {'speaker': 'BRUCE', 'timestamp': '00:46:39', 'text': 'All right.'}, {'speaker': 'BRUCE', 'timestamp': '00:46:40', 'text': 'Okay.'}, {'speaker': 'BRUCE', 'timestamp': '00:46:41', 'text': 'I have no problem with that.'}, {'speaker': 'BRUCE', 'timestamp': '00:46:43', 'text': \"I guarantee, no matter what I spend here, it's a lot less than what you do.\"}, {'speaker': 'KRIS', 'timestamp': '00:46:48', 'text': \"Honey, I think it's good you put your foot down.\"}, {'speaker': 'KRIS', 'timestamp': '00:46:51', 'text': 'I think actually, you getting mad at me was actually kind of sexy.'}, {'speaker': 'BRUCE', 'timestamp': '00:46:54', 'text': 'Really?'}, {'speaker': 'KRIS', 'timestamp': '00:46:54', 'text': 'Yeah.'}, {'speaker': 'BRUCE', 'timestamp': '00:46:55', 'text': 'I got to try that more often.'}, {'speaker': 'KRIS', 'timestamp': '00:46:56', 'text': 'I know, you ought to try that more often.'}, {'speaker': 'KRIS', 'timestamp': '00:46:58', 'text': \"Get your toy and let's go.\"}, {'speaker': 'BRUCE', 'timestamp': '00:47:00', 'text': 'Okay, thank you.'}, {'speaker': 'BRUCE', 'timestamp': '00:47:01', 'text': 'Thank you, honey.'}, {'speaker': 'KRIS', 'timestamp': '00:47:01', 'text': \"Let's go, baby.\"}, {'speaker': 'BRUCE', 'timestamp': '00:47:02', 'text': \"You're so sweet, honey.\"}, {'speaker': 'KRIS', 'timestamp': '00:47:04', 'text': 'I know.'}, {'speaker': 'KRIS', 'timestamp': '00:47:04', 'text': 'So are you.'}, {'speaker': 'BRUCE', 'timestamp': '00:47:05', 'text': 'See you guys later.'}, {'speaker': 'BRUCE', 'timestamp': '00:47:06', 'text': \"I promise I won't crash it.\"}, {'speaker': 'KRIS', 'timestamp': '00:47:07', 'text': 'Bye, everybody.'}, {'speaker': 'KRIS', 'timestamp': '00:47:09', 'text': 'Thank you!'}, {'speaker': 'KHLOE', 'timestamp': '00:47:13', 'text': 'So, are we not going to the movies?'}, {'speaker': 'KHLOE', 'timestamp': '00:47:15', 'text': \"'Cause no one's doing anything.\"}, {'speaker': 'KHLOE', 'timestamp': '00:47:16', 'text': \"I don't get it.\"}, {'speaker': 'ROBERT', 'timestamp': '00:47:17', 'text': \"I'm actually trying to save this movie for this date that I have.\"}, {'speaker': 'KHLOE', 'timestamp': '00:47:21', 'text': 'Yeah, right.'}, {'speaker': 'KHLOE', 'timestamp': '00:47:22', 'text': 'Well, what?'}, {'speaker': 'KHLOE', 'timestamp': '00:47:23', 'text': 'When did you meet her?'}, {'speaker': 'KHLOE', 'timestamp': '00:47:24', 'text': \"I'm so proud of you.\"}, {'speaker': 'ROBERT', 'timestamp': '00:47:25', 'text': 'Look, she gave this to me at Katsuya.'}, {'speaker': 'ROBERT', 'timestamp': '00:47:28', 'text': 'An Armenian girl.'}, {'speaker': 'KHLOE', 'timestamp': '00:47:31', 'text': '\"Call me. Violet.\" With a happy face.'}, {'speaker': 'KHLOE', 'timestamp': '00:47:33', 'text': 'So, by going on this movie date, does that mean you are over Adrienne?'}, {'speaker': 'ROBERT', 'timestamp': '00:47:37', 'text': \"I mean, it's my way of getting over her.\"}, {'speaker': 'KHLOE', 'timestamp': '00:47:41', 'text': 'I told you.'}, {'speaker': 'KHLOE', 'timestamp': '00:47:42', 'text': \"Cutting yourself off from the outside world and, like, waiting for Adrienne, that's never going to do anything for you.\"}, {'speaker': 'KHLOE', 'timestamp': '00:47:47', 'text': 'So, wait.'}, {'speaker': 'KHLOE', 'timestamp': '00:47:47', 'text': 'So that means no movie for us.'}, {'speaker': 'ROBERT', 'timestamp': '00:47:49', 'text': \"No, it isn't.\"}, {'speaker': 'KHLOE', 'timestamp': '00:47:50', 'text': \"You're saving it?\"}, {'speaker': 'SCOTT', 'timestamp': '00:47:51', 'text': 'We could still go, Khlo.'}, {'speaker': 'KYLIE', 'timestamp': '00:47:53', 'text': 'Can I come?'}, {'speaker': 'KHLOE', 'timestamp': '00:47:54', 'text': \"We'll all just go.\"}, {'speaker': 'ROBERT', 'timestamp': '00:47:55', 'text': 'Yeah.'}, {'speaker': 'KHLOE', 'timestamp': '00:47:56', 'text': \"Well, Rob, I'm so happy you're moving on.\"}, {'speaker': 'ROBERT', 'timestamp': '00:47:59', 'text': \"There's more love out there.\"}, {'speaker': 'KHLOE', 'timestamp': '00:48:01', 'text': 'There is and it begins with us.'}, {'speaker': 'ROBERT', 'timestamp': '00:48:03', 'text': 'With Kylie.'}, {'speaker': 'KHLOE', 'timestamp': '00:48:05', 'text': \"Kylie, don't go to him.\"}, {'speaker': 'KHLOE', 'timestamp': '00:48:07', 'text': 'Kylie, pick or choose, now.'}, {'speaker': 'KYLIE', 'timestamp': '00:48:08', 'text': \"You're mean to me.\"}, {'speaker': 'KHLOE', 'timestamp': '00:48:09', 'text': \"I'm mean?\"}, {'speaker': 'KYLIE', 'timestamp': '00:48:10', 'text': 'Robert would never--'}, {'speaker': 'ROBERT', 'timestamp': '00:48:10', 'text': 'All right, all right, all right.'}, {'speaker': 'KHLOE', 'timestamp': '00:48:13', 'text': \"You're dead, Kylie.\"}, {'speaker': 'KRIS', 'timestamp': '00:48:18', 'text': 'Next onKeeping Up With the Kardashians:'}, {'speaker': 'KIM', 'timestamp': '00:48:18', 'text': 'I found the dog walking around in Calabasas.'}, {'speaker': 'WOMAN', 'timestamp': '00:48:21', 'text': 'She has a condition called pyometra.'}, {'speaker': 'KIM', 'timestamp': '00:48:23', 'text': \"I can't watch that.\"}, {'speaker': 'ROBERT', 'timestamp': '00:48:25', 'text': 'Just do it, bro.'}, {'speaker': 'BRUCE', 'timestamp': '00:48:27', 'text': 'Rob moving back in-- not a good thing.'}, {'speaker': 'BRUCE', 'timestamp': '00:48:30', 'text': 'Hey, what the hell are you guys doing?!'}, {'speaker': 'BRUCE', 'timestamp': '00:48:32', 'text': \"I'm sick and tired of you babying this little kid.\"}, {'speaker': 'KRIS', 'timestamp': '00:48:33', 'text': \"I don't baby him.\"}, {'speaker': 'BRUCE', 'timestamp': '00:48:34', 'text': \"He's 22 years old!\"}, {'speaker': 'BRUCE', 'timestamp': '00:48:39', 'text': 'Bill is getting his pilot license.'}, {'speaker': 'BRUCE', 'timestamp': '00:48:41', 'text': 'I have to get rid of my fear of flying.'}]), ('kardashians/153950', [{'speaker': 'KHLOE', 'timestamp': '00:00:44', 'text': 'And I really want to help him  out'}, {'speaker': 'KHLOE', 'timestamp': '00:00:46', 'text': 'I mean, I want him to feel like a man.'}, {'speaker': 'KHLOE', 'timestamp': '00:00:48', 'text': \"Like, here's money, buy yourself something, jeez.\"}, {'speaker': 'BRUCE', 'timestamp': '00:00:51', 'text': \"You're diving in for   the  cash?\"}, {'speaker': 'KHLOE', 'timestamp': '00:00:53', 'text': 'Well, I have $400 on me now.'}, {'speaker': 'BRUCE', 'timestamp': '00:00:55', 'text': \"You've got $400?!\"}, {'speaker': 'KHLOE', 'timestamp': '00:00:56', 'text': 'So you can go...'}, {'speaker': 'BRUCE', 'timestamp': '00:00:57', 'text': \"My God, I'm rich.\"}, {'speaker': 'KHLOE', 'timestamp': '00:00:58', 'text': 'And then if you could take  out   the  trash, and then if you go to Dash, maybe tomorrow or whatever, later today and just...'}, {'speaker': 'BRUCE', 'timestamp': '00:01:04', 'text': 'You got a couple more?'}, {'speaker': 'BRUCE', 'timestamp': '00:01:06', 'text': 'I love it.'}, {'speaker': 'BRUCE', 'timestamp': '00:01:07', 'text': \"All right, I'm gonna go start on my chores.\"}, {'speaker': 'BRUCE', 'timestamp': '00:01:09', 'text': \"And remember, don't tell Mom, okay?\"}, {'speaker': 'KHLOE', 'timestamp': '00:01:13', 'text': 'Your secret is safe   with  me.'}, {'speaker': 'KHLOE', 'timestamp': '00:01:25', 'text': 'Hi.'}, {'speaker': 'BRUCE', 'timestamp': '00:01:26', 'text': \"I'm trying to...\"}, {'speaker': 'KHLOE', 'timestamp': '00:01:27', 'text': 'I see you got started already on doing all  the  light bulbs.'}, {'speaker': 'BRUCE', 'timestamp': '00:01:29', 'text': 'None of them are working.'}, {'speaker': 'KHLOE', 'timestamp': '00:01:31', 'text': 'Well, you know, all these little light bulbs I need to be changed.'}, {'speaker': 'KHLOE', 'timestamp': '00:01:34', 'text': \"Like, me and Lily can't reach those.\"}, {'speaker': 'KHLOE', 'timestamp': '00:01:36', 'text': \"There's spider webs all on it and at  the  very top.\"}, {'speaker': 'KHLOE', 'timestamp': '00:01:38', 'text': \"Like, that's sick.\"}, {'speaker': 'KHLOE', 'timestamp': '00:01:39', 'text': \"I can't do that.\"}, {'speaker': 'BRUCE', 'timestamp': '00:01:40', 'text': 'All right.'}, {'speaker': 'KIM', 'timestamp': '00:01:41', 'text': 'You just need a duster.'}, {'speaker': 'BRUCE', 'timestamp': '00:01:42', 'text': 'I am  the  duster.'}, {'speaker': 'KHLOE', 'timestamp': '00:01:44', 'text': 'Bruce is doing a really good job at everything.'}, {'speaker': 'KHLOE', 'timestamp': '00:01:46', 'text': 'But I just feel bad even telling him to do stuff.'}, {'speaker': 'KHLOE', 'timestamp': '00:01:57', 'text': 'That should do it.'}, {'speaker': 'BRUCE', 'timestamp': '00:01:58', 'text': \"It's been a pleasure doing business  with  you.\"}, {'speaker': 'KHLOE', 'timestamp': '00:02:00', 'text': 'Any time, dude.'}, {'speaker': 'BRUCE', 'timestamp': '00:02:01', 'text': 'Okay.'}, {'speaker': 'ADRIENNE', 'timestamp': '00:02:04', 'text': \"Hey, I'm unavailable to take your call right now, but if you leave your name and number, I'll get back to you.\"}, {'speaker': 'ROBERT', 'timestamp': '00:02:13', 'text': \"Hey, it's Rob.\"}, {'speaker': 'ROBERT', 'timestamp': '00:02:15', 'text': 'Just wanted to call and say it was nice seeing you at  the  wedding.'}, {'speaker': 'ROBERT', 'timestamp': '00:02:20', 'text': 'Nice talking to you and everything.'}, {'speaker': 'ROBERT', 'timestamp': '00:02:22', 'text': \"I've been trying to call Adrienne, trying to make things right, but she won't pick   up\"}]), ('kardashians/153950', [{'speaker': 'ROBERT', 'timestamp': '00:02:44', 'text': \"The  reason I'm calling Adrienne so much is just because I want her to see how much I truly care, and how much I truly want to be  with  her.\"}, {'speaker': 'ROBERT', 'timestamp': '00:02:51', 'text': 'I want to get my girl back.'}, {'speaker': 'ROBERT', 'timestamp': '00:02:53', 'text': \"Hey, it's Rob.\"}, {'speaker': 'ROBERT', 'timestamp': '00:02:54', 'text': \"I'm just calling you to see what's going on.\"}, {'speaker': 'BRUCE', 'timestamp': '00:02:58', 'text': 'Is that  the  strip club?'}, {'speaker': 'KIM', 'timestamp': '00:03:07', 'text': 'When did you start to get gray hair?'}, {'speaker': 'KRIS', 'timestamp': '00:03:09', 'text': 'Like last week.'}, {'speaker': 'KIM', 'timestamp': '00:03:11', 'text': 'Oh, please.'}, {'speaker': 'KRIS', 'timestamp': '00:03:12', 'text': 'I have one gray hair, and in order for her make it all blend, she has to do  the  whole head.'}]), ('kardashians/153950', [{'speaker': 'KRIS', 'timestamp': '00:03:36', 'text': 'Look at  the  dress.'}]), ('kardashians/153950', [{'speaker': 'KRIS', 'timestamp': '00:04:00', 'text': \"I can't keep wearing   the  same dress over and over.\"}, {'speaker': 'KRIS', 'timestamp': '00:04:03', 'text': 'You have to have, like, something new every time we go to an event.'}, {'speaker': 'KHLOE', 'timestamp': '00:04:06', 'text': 'Kris is such a hypocrite.'}, {'speaker': 'KHLOE', 'timestamp': '00:04:08', 'text': \"Bruce is not allowed to spend any money on helicopters because it's wasteful, but yet my mom can go around and spend $4,000 on a dress that she's only going to wear once.\"}, {'speaker': 'KRIS', 'timestamp': '00:04:17', 'text': 'Get  out  of my wallet, Khloe.'}])]\n"
     ]
    }
   ],
   "source": [
    "word_matrix = create_word_occurrence_matrix(tokenize,deduped_transcripts,good_speakers,good_types)"
   ]
  },
  {
   "cell_type": "code",
   "execution_count": 34,
   "metadata": {
    "deletable": false,
    "editable": false,
    "nbgrader": {
     "checksum": "1bd6209da6addb75fc735b6b66230221",
     "grade": true,
     "grade_id": "create_word_freq_array_test",
     "locked": true,
     "points": 20,
     "schema_version": 1,
     "solution": false
    }
   },
   "outputs": [],
   "source": [
    "# This is an autograder test. Here we can test the function you just wrote above.\n",
    "\"\"\"Check that create_word_freq_array returns the correct output\"\"\"\n",
    "assert sum(word_matrix[0]) > 26000.0\n",
    "assert sum(word_matrix[:,3]) > 40 and sum(word_matrix[:,3]) < 50\n",
    "assert type(word_matrix) == np.ndarray"
   ]
  },
  {
   "cell_type": "markdown",
   "metadata": {
    "deletable": false,
    "editable": false,
    "nbgrader": {
     "checksum": "86f084845567930439968fa0e393483d",
     "grade": false,
     "grade_id": "cell-55cdd926451a2321",
     "locked": true,
     "schema_version": 1,
     "solution": false
    }
   },
   "source": [
    "## Question 9b (Free Response): Character Word Occurrences\n",
    "\n",
    "In the cell below, output the *top 10 most occurring words used by each character* in the following format:\n",
    "\n",
    "**Answer format**:\n",
    "\n",
    "```\n",
    "CHARACTER_NAME_A\n",
    "word_1\n",
    "word_2\n",
    "...\n",
    "word_10\n",
    "\n",
    "CHARACTER_NAME_B\n",
    "word_1\n",
    "word_2\n",
    "...\n",
    "word_10\n",
    "\n",
    "...\n",
    "```"
   ]
  },
  {
   "cell_type": "code",
   "execution_count": 210,
   "metadata": {
    "deletable": false,
    "nbgrader": {
     "checksum": "78044ad7e01b7c42169efbf0ef37df2b",
     "grade": true,
     "grade_id": "create_word_freq_array_ans",
     "locked": false,
     "points": 8,
     "schema_version": 1,
     "solution": true
    }
   },
   "outputs": [
    {
     "name": "stdout",
     "output_type": "stream",
     "text": [
      "BRUCE\n",
      "i\n",
      "you\n",
      "the\n",
      "s\n",
      "to\n",
      "it\n",
      "a\n",
      "and\n",
      "that\n",
      "this\n",
      "\n",
      "JONATHAN\n",
      "i\n",
      "you\n",
      "to\n",
      "the\n",
      "s\n",
      "a\n",
      "it\n",
      "and\n",
      "like\n",
      "this\n",
      "\n",
      "KHLOE\n",
      "i\n",
      "you\n",
      "to\n",
      "and\n",
      "s\n",
      "a\n",
      "the\n",
      "it\n",
      "that\n",
      "like\n",
      "\n",
      "KIM\n",
      "i\n",
      "you\n",
      "to\n",
      "and\n",
      "s\n",
      "the\n",
      "it\n",
      "a\n",
      "that\n",
      "like\n",
      "\n",
      "KOURTNEY\n",
      "i\n",
      "to\n",
      "you\n",
      "and\n",
      "s\n",
      "it\n",
      "the\n",
      "a\n",
      "that\n",
      "t\n",
      "\n",
      "KRIS\n",
      "i\n",
      "you\n",
      "to\n",
      "s\n",
      "the\n",
      "a\n",
      "and\n",
      "it\n",
      "that\n",
      "t\n",
      "\n",
      "ROBERT\n",
      "i\n",
      "to\n",
      "you\n",
      "s\n",
      "and\n",
      "a\n",
      "the\n",
      "just\n",
      "it\n",
      "that\n",
      "\n",
      "SCOTT\n",
      "i\n",
      "you\n",
      "to\n",
      "s\n",
      "the\n",
      "a\n",
      "it\n",
      "that\n",
      "and\n",
      "t\n",
      "\n"
     ]
    }
   ],
   "source": [
    "# YOUR CODE HERE\n",
    "temp_arr=np.copy(word_matrix)\n",
    "for character in good_speakers:\n",
    "    print(character)\n",
    "    for i in range(0,10):\n",
    "        index =np.argmax(temp_arr[good_speakers.index(character)])\n",
    "        print(good_types[index])\n",
    "        temp_arr[good_speakers.index(character)][index]=0\n",
    "    print()\n",
    "        "
   ]
  },
  {
   "cell_type": "markdown",
   "metadata": {
    "deletable": false,
    "editable": false,
    "nbgrader": {
     "checksum": "4a9987e01119babb1ab475353fd804fb",
     "grade": false,
     "grade_id": "cell-fe5bd652435d4c18",
     "locked": true,
     "schema_version": 1,
     "solution": false
    }
   },
   "source": [
    "## Question 9c (Code Completion): Character Word Occurrences\n",
    "\n",
    "Using your `word_matrix`, identify the top 3 characters (in descending order of number of usages) who have said: `[\"shopping\", \"botox\", \"sister\"]`. \n",
    "\n",
    "In the cell below, output your answer in the following format:\n",
    "\n",
    "**Answer format**:\n",
    "\n",
    "```\n",
    "shopping\n",
    "CHARACTER_NAME_A occurrences_shopping_A\n",
    "CHARACTER_NAME_B occurrences_shopping_B\n",
    "...\n",
    "\n",
    "botox\n",
    "CHARACTER_NAME_A occurrences_botox_A\n",
    "CHARACTER_NAME_B occurrences_botox_B\n",
    "...\n",
    "\n",
    "sister\n",
    "CHARACTER_NAME_A occurrences_sister_A\n",
    "CHARACTER_NAME_B occurrences_sister_B\n",
    "...\n",
    "```\n"
   ]
  },
  {
   "cell_type": "code",
   "execution_count": 211,
   "metadata": {
    "deletable": false,
    "editable": false,
    "nbgrader": {
     "checksum": "14246c12367f9ff4dabe10ffe90ae846",
     "grade": false,
     "grade_id": "cell-a1c70f3e0648642d",
     "locked": true,
     "schema_version": 1,
     "solution": false
    }
   },
   "outputs": [],
   "source": [
    "interesting_words = [\"shopping\", \"botox\", \"sister\"]"
   ]
  },
  {
   "cell_type": "code",
   "execution_count": 223,
   "metadata": {
    "deletable": false,
    "nbgrader": {
     "checksum": "4717101a207f631b43797cd2f7e5e0f4",
     "grade": true,
     "grade_id": "cell-51c7d3273a979ae8",
     "locked": false,
     "points": 10,
     "schema_version": 1,
     "solution": true
    }
   },
   "outputs": [
    {
     "name": "stdout",
     "output_type": "stream",
     "text": [
      "shopping\n",
      "KIM 41.0\n",
      "KOURTNEY 37.0\n",
      "KHLOE 6.0\n",
      "\n",
      "botox\n",
      "KIM 7.0\n",
      "BRUCE 2.0\n",
      "KHLOE 2.0\n",
      "\n",
      "sister\n",
      "KOURTNEY 25.0\n",
      "KHLOE 22.0\n",
      "KRIS 13.0\n",
      "\n"
     ]
    }
   ],
   "source": [
    "# YOUR CODE HERE\n",
    "interesting_output = np.zeros((len(interesting_words),len(good_speakers)))\n",
    "for character in good_speakers:\n",
    "    for interest in interesting_words:\n",
    "            interesting_output[interesting_words.index(interest)][good_speakers.index(character)] = \\\n",
    "                word_matrix[good_speakers.index(character)][good_types.index(interest)]\n",
    "for i in range(0,3):\n",
    "    print(interesting_words[i])\n",
    "    for j in range(0,3):\n",
    "        index=np.argmax(interesting_output[i])\n",
    "        print(good_speakers[index]+\" \"+str(interesting_output[i][index]))\n",
    "        interesting_output[i][index]=0\n",
    "    print()"
   ]
  },
  {
   "cell_type": "markdown",
   "metadata": {
    "deletable": false,
    "editable": false,
    "nbgrader": {
     "checksum": "b1d3d03b6e0e02109a57286f67fa7a3b",
     "grade": false,
     "grade_id": "cell-6a3402cec2421178",
     "locked": true,
     "schema_version": 1,
     "solution": false
    }
   },
   "source": [
    "## Question 10 (Code Completion): Word Character Counts\n",
    "\n",
    "In the questions below you will now be asked to determine *how many characters have used a specific word*? For example, how many characters have ever said \"botox\" in the show?\n",
    "\n",
    "The function below will require you to use the `word_matrix` from above to return a 1-D numpy array that reports the number of `good_speakers` that have uttered each word within `good_types`.\n",
    "The i-th entry of your answer array `word_character_count_array[i]` should be the number of characters that have uttered the word `good_types[i]`.\n",
    "\n",
    "Hint! Numpy is your friend :-)"
   ]
  },
  {
   "cell_type": "code",
   "execution_count": 213,
   "metadata": {
    "deletable": false,
    "nbgrader": {
     "checksum": "b1f9f25cdc758dd584f1a858f0ba640e",
     "grade": false,
     "grade_id": "create_word_character_count_array",
     "locked": false,
     "schema_version": 1,
     "solution": true
    }
   },
   "outputs": [],
   "source": [
    "def create_word_character_count_array(word_freq_matrix):\n",
    "    \"\"\"Returns a numpy array of shape (n_good_types,) such that the \n",
    "    entry i indicates how many good_speakers have uttered word i.\n",
    "    \n",
    "    Params: { word_freq_matrix: a numpy matrix of shape (n_speakers, n_good_types) }\n",
    "    \n",
    "    Hint: You may want to consult the numpy documentation to make this easy.\n",
    "    \"\"\"\n",
    "    # YOUR CODE HERE\n",
    "    new_mtrx = np.copy(word_freq_matrix)\n",
    "    new_mtrx[new_mtrx>0]=1\n",
    "    new_mtrx=np.sum(new_mtrx, axis=0)\n",
    "    return new_mtrx"
   ]
  },
  {
   "cell_type": "code",
   "execution_count": 214,
   "metadata": {
    "deletable": false,
    "editable": false,
    "nbgrader": {
     "checksum": "738b9e08086a81cc2f3bc0458cd2ec63",
     "grade": false,
     "grade_id": "cell-11c569836da724f2",
     "locked": true,
     "schema_version": 1,
     "solution": false
    }
   },
   "outputs": [],
   "source": [
    "word_character_count_array = create_word_character_count_array(word_matrix)"
   ]
  },
  {
   "cell_type": "code",
   "execution_count": 215,
   "metadata": {
    "deletable": false,
    "editable": false,
    "nbgrader": {
     "checksum": "39eb8256427b7b144074e89f22a87895",
     "grade": true,
     "grade_id": "create_word_character_count_array_tests",
     "locked": true,
     "points": 15,
     "schema_version": 1,
     "solution": false
    }
   },
   "outputs": [],
   "source": [
    "# This is an autograder test. Here we can test the function you just wrote above.\n",
    "\"\"\"Check that create_character_word_count_array returns the correct output\"\"\"\n",
    "assert type(word_character_count_array) == np.ndarray\n",
    "assert word_character_count_array[0] == 8\n",
    "assert word_character_count_array[1] == 2"
   ]
  },
  {
   "cell_type": "markdown",
   "metadata": {
    "deletable": false,
    "editable": false,
    "nbgrader": {
     "checksum": "c7ddb64c97ec3b676376f302ed6219c2",
     "grade": false,
     "grade_id": "cell-bb8e24a9dd852d39",
     "locked": true,
     "schema_version": 1,
     "solution": false
    }
   },
   "source": [
    "## Question 10b (Free Response): Word Character Counts\n",
    "\n",
    "What are the first 10 words (sorted in alphabetical order) that are said by **EXACTLY 3** characters?\n",
    "\n",
    "In the cell below, give your answer in the following format:\n",
    "\n",
    "**Answer format**:\n",
    "\n",
    "```\n",
    "word_1\n",
    "word_2\n",
    "...\n",
    "word_10\n",
    "```\n"
   ]
  },
  {
   "cell_type": "code",
   "execution_count": 216,
   "metadata": {
    "deletable": false,
    "nbgrader": {
     "checksum": "a5018e92208134fad276a412c1c6a1d3",
     "grade": true,
     "grade_id": "cell-f64719c7d57ec17e",
     "locked": false,
     "points": 5,
     "schema_version": 1,
     "solution": true
    }
   },
   "outputs": [
    {
     "name": "stdout",
     "output_type": "stream",
     "text": [
      "accident\n",
      "acne\n",
      "action\n",
      "actual\n",
      "addict\n",
      "adjusts\n",
      "admitting\n",
      "adopted\n",
      "ads\n",
      "afford\n"
     ]
    }
   ],
   "source": [
    "# YOUR CODE HERE\n",
    "i=0\n",
    "index=0\n",
    "while(i<10):\n",
    "    if(word_character_count_array[index]==3):\n",
    "        print(good_types[index])\n",
    "        i+=1\n",
    "    index+=1"
   ]
  },
  {
   "cell_type": "markdown",
   "metadata": {
    "deletable": false,
    "editable": false,
    "nbgrader": {
     "checksum": "ec8f9728596885f1e95916d484a05e7c",
     "grade": false,
     "grade_id": "cell-e055c738cea3d3b4",
     "locked": true,
     "schema_version": 1,
     "solution": false
    }
   },
   "source": [
    "## Question 11 (Code Completion): Specific Word Usage by Character\n",
    "\n",
    "The exercise in 9b didn't help much in understanding each character's diction, because common words are used too commonly anyway. We want to give more weight to less frequent words, as they carry more information on the particularities of the characters.\n",
    "\n",
    "A simple way to do this is to score the words according to the ratio between how often a given character said the word and how often any of the *good speakers* said it.  \n",
    "\n",
    "This can be accomplished by dividing each columns in the `word_array` matrix by its sum.\n",
    "\n",
    "**Note: as some words might never be said by the key characters we are considering, add 1 to the sum of each column to avoid division by 0**\n",
    "\n",
    "In the cell below, complete the function to return a weighted numpy array of *specific* words used by each character?"
   ]
  },
  {
   "cell_type": "code",
   "execution_count": 217,
   "metadata": {
    "deletable": false,
    "nbgrader": {
     "checksum": "f1ea90cbacacbac32b6d87c3d0af67d2",
     "grade": false,
     "grade_id": "create_weighted_word_freq_array",
     "locked": false,
     "schema_version": 1,
     "solution": true
    }
   },
   "outputs": [],
   "source": [
    "def create_weighted_word_freq_array(input_word_array):\n",
    "    \"\"\"Returns a numpy array of shape n_speakers by n_good_types such that the \n",
    "    entry (ij) indicates how often speaker i says word j weighted by the above ratio.\n",
    "    \n",
    "    Note: You must add 1 to the sum of each column to avoid divison by 0 issues.\n",
    "    \n",
    "    Params: {input_word_array: Numpy Array}\n",
    "    Returns: Numpy Array\n",
    "    \"\"\"\n",
    "    # YOUR CODE HERE\n",
    "    ones=np.ones(input_word_array.shape)\n",
    "    nonzero_arr=np.add(ones,input_word_array)\n",
    "    new_mtrx=np.sum(nonzero_arr, axis=0)\n",
    "    return nonzero_arr/new_mtrx"
   ]
  },
  {
   "cell_type": "code",
   "execution_count": 218,
   "metadata": {
    "deletable": false,
    "editable": false,
    "nbgrader": {
     "checksum": "2645c98bf45be9203653a54c95954b38",
     "grade": false,
     "grade_id": "cell-f3e0cd3d8309ecea",
     "locked": true,
     "schema_version": 1,
     "solution": false
    }
   },
   "outputs": [],
   "source": [
    "weighted_words = create_weighted_word_freq_array(word_matrix)"
   ]
  },
  {
   "cell_type": "code",
   "execution_count": 219,
   "metadata": {
    "deletable": false,
    "editable": false,
    "nbgrader": {
     "checksum": "e4a443b75be216be377f68a9efd0e8ea",
     "grade": true,
     "grade_id": "create_weighted_word_freq_array_test",
     "locked": true,
     "points": 20,
     "schema_version": 1,
     "solution": false
    }
   },
   "outputs": [],
   "source": [
    "# This is an autograder test. Here we can test the function you just wrote above.\n",
    "\"\"\"Check that create_word_freq_array returns the correct output\"\"\"\n",
    "assert sum(weighted_words[:,7]) > 0.7\n",
    "assert type(weighted_words) == np.ndarray"
   ]
  },
  {
   "cell_type": "markdown",
   "metadata": {
    "deletable": false,
    "editable": false,
    "nbgrader": {
     "checksum": "1c659e6008feb316093d87564fb059b1",
     "grade": false,
     "grade_id": "cell-b2b74adae027c815",
     "locked": true,
     "schema_version": 1,
     "solution": false
    }
   },
   "source": [
    "## Question 11b (Free Response): Specific Word Usage by Character\n",
    "\n",
    "Use the next cell to output the top 10 most *specific* words used by each character in the following format:\n",
    "\n",
    "**Answer format**:\n",
    "\n",
    "```\n",
    "CHARACTER_NAME_A\n",
    "score_1 word_1\n",
    "score_2 word_2\n",
    "...\n",
    "score_10 word_10\n",
    "\n",
    "CHARACTER_NAME_B\n",
    "score_1 word_1\n",
    "score_2 word_2\n",
    "...\n",
    "score_10 word_10\n",
    "\n",
    "...\n",
    "```"
   ]
  },
  {
   "cell_type": "code",
   "execution_count": 222,
   "metadata": {
    "deletable": false,
    "nbgrader": {
     "checksum": "a97760c30b734888024f66f68e96ed59",
     "grade": true,
     "grade_id": "create_weighted_word_freq_array_ans",
     "locked": false,
     "points": 5,
     "schema_version": 1,
     "solution": true
    }
   },
   "outputs": [
    {
     "name": "stdout",
     "output_type": "stream",
     "text": [
      "BRUCE\n",
      "0.6521739130434783 hobby\n",
      "0.5625 genetic\n",
      "0.5588235294117647 tough\n",
      "0.5405405405405406 boys\n",
      "0.5263157894736842 american\n",
      "0.5217391304347826 difference\n",
      "0.5142857142857142 kimberly\n",
      "0.5 planners\n",
      "0.4888888888888889 garage\n",
      "0.4888888888888889 pounds\n",
      "\n",
      "JONATHAN\n",
      "0.6111111111111112 erika\n",
      "0.6071428571428571 simon\n",
      "0.5625 katie\n",
      "0.5625 pics\n",
      "0.5263157894736842 carmen\n",
      "0.4666666666666667 kelly\n",
      "0.4375 product\n",
      "0.42857142857142855 mario\n",
      "0.42857142857142855 pr\n",
      "0.4166666666666667 awareness\n",
      "\n",
      "KHLOE\n",
      "0.8260869565217391 fur\n",
      "0.75 peta\n",
      "0.7037037037037037 apparently\n",
      "0.68 campaign\n",
      "0.6666666666666666 basic\n",
      "0.6666666666666666 necessary\n",
      "0.6521739130434783 begins\n",
      "0.6521739130434783 moral\n",
      "0.64 walked\n",
      "0.6086956521739131 michelle\n",
      "\n",
      "KIM\n",
      "0.6923076923076923 airport\n",
      "0.6578947368421053 sign\n",
      "0.6438356164383562 afraid\n",
      "0.6304347826086957 miles\n",
      "0.6222222222222222 princess\n",
      "0.6190476190476191 challenge\n",
      "0.6111111111111112 amusing\n",
      "0.6081081081081081 brother\n",
      "0.576271186440678 biggest\n",
      "0.5625 frizz\n",
      "\n",
      "KOURTNEY\n",
      "0.7142857142857143 ho\n",
      "0.6333333333333333 classes\n",
      "0.5882352941176471 helping\n",
      "0.5789473684210527 busted\n",
      "0.5769230769230769 reminds\n",
      "0.5454545454545454 desperate\n",
      "0.54 mason\n",
      "0.5333333333333333 defensive\n",
      "0.5333333333333333 snack\n",
      "0.5238095238095238 happier\n",
      "\n",
      "KRIS\n",
      "0.5882352941176471 sweetie\n",
      "0.5833333333333334 daddy\n",
      "0.5714285714285714 alcoholic\n",
      "0.5714285714285714 kathy\n",
      "0.5625 cristal\n",
      "0.5555555555555556 sneaking\n",
      "0.5333333333333333 cranky\n",
      "0.53125 fbi\n",
      "0.5168539325842697 somebody\n",
      "0.5161290322580645 fabulous\n",
      "\n",
      "ROBERT\n",
      "0.8376068376068376 email\n",
      "0.6785714285714286 truly\n",
      "0.6774193548387096 scream\n",
      "0.6593406593406593 hotel\n",
      "0.5909090909090909 acceptable\n",
      "0.5833333333333334 spoken\n",
      "0.5652173913043478 cheating\n",
      "0.5301204819277109 adrienne\n",
      "0.5 anal\n",
      "0.5 needed\n",
      "\n",
      "SCOTT\n",
      "0.5588235294117647 cane\n",
      "0.5 sitter\n",
      "0.42857142857142855 hooker\n",
      "0.4117647058823529 marry\n",
      "0.38461538461538464 behind\n",
      "0.38461538461538464 raining\n",
      "0.375 crib\n",
      "0.375 papa\n",
      "0.36363636363636365 exclamation\n",
      "0.36363636363636365 gentlemen\n",
      "\n"
     ]
    }
   ],
   "source": [
    "# YOUR CODE HERE\n",
    "temp_arr=np.copy(weighted_words)\n",
    "for character in good_speakers:\n",
    "    print(character)\n",
    "    for i in range(0,10):\n",
    "        index =np.argmax(temp_arr[good_speakers.index(character)])\n",
    "        print(str(temp_arr[good_speakers.index(character)][index])+\" \"+good_types[index])\n",
    "        temp_arr[good_speakers.index(character)][index]=0\n",
    "    print()"
   ]
  },
  {
   "cell_type": "markdown",
   "metadata": {
    "deletable": false,
    "editable": false,
    "nbgrader": {
     "checksum": "ed40416ff151e90cd4551c782e4c46a7",
     "grade": false,
     "grade_id": "cell-8c3a58ca841fda7e",
     "locked": true,
     "schema_version": 1,
     "solution": false
    }
   },
   "source": [
    "## Question 11c (Free Response): Specific Word Usage by Character\n",
    "\n",
    "Now we can start to see interesting differences between the characters.\n",
    "\n",
    "Create a new Markdown cell bellow and use it to write a paragraph discussing the differences you find most striking."
   ]
  },
  {
   "cell_type": "markdown",
   "metadata": {
    "deletable": false,
    "nbgrader": {
     "checksum": "0d2a834211251c3d7af0d6cf774eb661",
     "grade": true,
     "grade_id": "word_usage_analysis",
     "locked": false,
     "points": 10,
     "schema_version": 1,
     "solution": true
    }
   },
   "source": [
    "There is now significant difference between the most commonly used words for different characters. There are differences in characters that you can note. For example, Khloe uses the words peta, fur, moral, and campaign frequently; this implies that not wearing fur might be something she cares deeply about or at least is very involved with. Jonathon on the otherhand uses names most frequently which implies that they like to talk about other people which may imply that the character is a bit of a gossip. It is also interesting that Bruce uses words that imply a very masculine connotation such as tough, boys, american, and garage. There is also a clear use of slang such as crib, sweetie, ho, basic, and pics that show that the show and the interactions between characters tend to be informal, Bruce may be the only excpetion to this. The differences in word usage imply differences in priorites, conversation topics, and personalities between characters. "
   ]
  },
  {
   "cell_type": "markdown",
   "metadata": {
    "deletable": false,
    "editable": false,
    "nbgrader": {
     "checksum": "e25b394b4f8fa54b565cc97fc19df8d3",
     "grade": false,
     "grade_id": "cell-ed4cc4acf7ec52c9",
     "locked": true,
     "schema_version": 1,
     "solution": false
    }
   },
   "source": [
    "This is the end of Assignment 1"
   ]
  }
 ],
 "metadata": {
  "kernelspec": {
   "display_name": "venv",
   "language": "python",
   "name": "venv"
  },
  "language_info": {
   "codemirror_mode": {
    "name": "ipython",
    "version": 3
   },
   "file_extension": ".py",
   "mimetype": "text/x-python",
   "name": "python",
   "nbconvert_exporter": "python",
   "pygments_lexer": "ipython3",
   "version": "3.5.2"
  }
 },
 "nbformat": 4,
 "nbformat_minor": 2
}
