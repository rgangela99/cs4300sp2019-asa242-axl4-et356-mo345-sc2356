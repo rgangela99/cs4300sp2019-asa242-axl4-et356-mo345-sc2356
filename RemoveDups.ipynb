{
 "cells": [
  {
   "cell_type": "code",
   "execution_count": 2,
   "metadata": {},
   "outputs": [],
   "source": [
    "import json"
   ]
  },
  {
   "cell_type": "code",
   "execution_count": 4,
   "metadata": {},
   "outputs": [
    {
     "name": "stdout",
     "output_type": "stream",
     "text": [
      "1529\n",
      "1070\n"
     ]
    }
   ],
   "source": [
    "with open('./data/medium/medium-data-top250-tags.json') as f:\n",
    "    data = json.load(f)\n",
    "\n",
    "deduped_data = []\n",
    "seen = set()\n",
    "for entry in data:\n",
    "    link = entry['link']\n",
    "    end_index = link.rfind('?source=')\n",
    "    if end_index != -1:\n",
    "        link = link[:end_index]\n",
    "    if link not in seen:\n",
    "        seen.add(link)\n",
    "        entry['link'] = link\n",
    "        deduped_data.append(entry)"
   ]
  },
  {
   "cell_type": "code",
   "execution_count": 6,
   "metadata": {},
   "outputs": [],
   "source": [
    "with open('./data/medium/medium-data-deduped.json', 'w') as f:\n",
    "    json.dump(deduped_data, f)"
   ]
  },
  {
   "cell_type": "code",
   "execution_count": null,
   "metadata": {},
   "outputs": [],
   "source": []
  }
 ],
 "metadata": {
  "kernelspec": {
   "display_name": "venv",
   "language": "python",
   "name": "venv"
  },
  "language_info": {
   "codemirror_mode": {
    "name": "ipython",
    "version": 3
   },
   "file_extension": ".py",
   "mimetype": "text/x-python",
   "name": "python",
   "nbconvert_exporter": "python",
   "pygments_lexer": "ipython3",
   "version": "3.5.2"
  }
 },
 "nbformat": 4,
 "nbformat_minor": 2
}
